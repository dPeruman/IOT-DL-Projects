{
 "cells": [
  {
   "cell_type": "markdown",
   "metadata": {},
   "source": [
    "# Financial distress prediction\n",
    "\n",
    "**Credit: [AITS Cainvas Community](https://discord.gg/x6xn39u)**\n",
    "\n",
    "![](https://cainvas-static.s3.amazonaws.com/media/user_data/cainvas-admin/finance_distress_prediction.gif)\n",
    "\n",
    "*Photo by [Shunya Koide](https://dribbble.com/shots/10820830-Investment-Simple-Loop-Animation) on [Dribbble](https://dribbble.com)*\n",
    "\n",
    "Predicting whether a given company is under financial distress or not based on time based data for different companies."
   ]
  },
  {
   "cell_type": "code",
   "execution_count": 1,
   "metadata": {
    "execution": {
     "iopub.execute_input": "2021-01-20T07:14:52.900655Z",
     "iopub.status.busy": "2021-01-20T07:14:52.900511Z",
     "iopub.status.idle": "2021-01-20T07:14:54.982251Z",
     "shell.execute_reply": "2021-01-20T07:14:54.981647Z",
     "shell.execute_reply.started": "2021-01-20T07:14:52.900637Z"
    }
   },
   "outputs": [],
   "source": [
    "import pandas as pd\n",
    "import numpy as np\n",
    "import matplotlib.pyplot as plt\n",
    "import random\n",
    "from sklearn.model_selection import train_test_split\n",
    "from sklearn.preprocessing import MinMaxScaler\n",
    "from sklearn.metrics import confusion_matrix\n",
    "from keras import optimizers, layers, models, losses, callbacks"
   ]
  },
  {
   "cell_type": "markdown",
   "metadata": {},
   "source": [
    "# The dataset\n",
    "\n",
    "[On Kaggle](https://www.kaggle.com/shebrahimi/financial-distress) on [Ebrahimi](https://www.kaggle.com/shebrahimi)\n",
    "\n",
    "The daatset is a CSV file with finanacial distress prediction for a set of companies.\n",
    "\n",
    "Along with companies and time periods, there are 83 factors denoted by x1 to x83 that are financial and non-finanacial characterisitcs of the companies. Out of these, x80 is a categorical feature. The 'Financial Distress' column is a continuous variable that can be converted into a two-value column - healthy (0) if value > -0.5, else distressed (1) "
   ]
  },
  {
   "cell_type": "code",
   "execution_count": 2,
   "metadata": {
    "execution": {
     "iopub.execute_input": "2021-01-20T07:14:54.983272Z",
     "iopub.status.busy": "2021-01-20T07:14:54.983103Z",
     "iopub.status.idle": "2021-01-20T07:14:55.146321Z",
     "shell.execute_reply": "2021-01-20T07:14:55.145784Z",
     "shell.execute_reply.started": "2021-01-20T07:14:54.983252Z"
    }
   },
   "outputs": [
    {
     "data": {
      "text/html": [
       "<div>\n",
       "<style scoped>\n",
       "    .dataframe tbody tr th:only-of-type {\n",
       "        vertical-align: middle;\n",
       "    }\n",
       "\n",
       "    .dataframe tbody tr th {\n",
       "        vertical-align: top;\n",
       "    }\n",
       "\n",
       "    .dataframe thead th {\n",
       "        text-align: right;\n",
       "    }\n",
       "</style>\n",
       "<table border=\"1\" class=\"dataframe\">\n",
       "  <thead>\n",
       "    <tr style=\"text-align: right;\">\n",
       "      <th></th>\n",
       "      <th>Company</th>\n",
       "      <th>Time</th>\n",
       "      <th>Financial Distress</th>\n",
       "      <th>x1</th>\n",
       "      <th>x2</th>\n",
       "      <th>x3</th>\n",
       "      <th>x4</th>\n",
       "      <th>x5</th>\n",
       "      <th>x6</th>\n",
       "      <th>x7</th>\n",
       "      <th>...</th>\n",
       "      <th>x74</th>\n",
       "      <th>x75</th>\n",
       "      <th>x76</th>\n",
       "      <th>x77</th>\n",
       "      <th>x78</th>\n",
       "      <th>x79</th>\n",
       "      <th>x80</th>\n",
       "      <th>x81</th>\n",
       "      <th>x82</th>\n",
       "      <th>x83</th>\n",
       "    </tr>\n",
       "  </thead>\n",
       "  <tbody>\n",
       "    <tr>\n",
       "      <th>0</th>\n",
       "      <td>1</td>\n",
       "      <td>1</td>\n",
       "      <td>0.010636</td>\n",
       "      <td>1.2810</td>\n",
       "      <td>0.022934</td>\n",
       "      <td>0.87454</td>\n",
       "      <td>1.21640</td>\n",
       "      <td>0.060940</td>\n",
       "      <td>0.188270</td>\n",
       "      <td>0.52510</td>\n",
       "      <td>...</td>\n",
       "      <td>85.437</td>\n",
       "      <td>27.07</td>\n",
       "      <td>26.102</td>\n",
       "      <td>16.000</td>\n",
       "      <td>16.0</td>\n",
       "      <td>0.2</td>\n",
       "      <td>22</td>\n",
       "      <td>0.060390</td>\n",
       "      <td>30</td>\n",
       "      <td>49</td>\n",
       "    </tr>\n",
       "    <tr>\n",
       "      <th>1</th>\n",
       "      <td>1</td>\n",
       "      <td>2</td>\n",
       "      <td>-0.455970</td>\n",
       "      <td>1.2700</td>\n",
       "      <td>0.006454</td>\n",
       "      <td>0.82067</td>\n",
       "      <td>1.00490</td>\n",
       "      <td>-0.014080</td>\n",
       "      <td>0.181040</td>\n",
       "      <td>0.62288</td>\n",
       "      <td>...</td>\n",
       "      <td>107.090</td>\n",
       "      <td>31.31</td>\n",
       "      <td>30.194</td>\n",
       "      <td>17.000</td>\n",
       "      <td>16.0</td>\n",
       "      <td>0.4</td>\n",
       "      <td>22</td>\n",
       "      <td>0.010636</td>\n",
       "      <td>31</td>\n",
       "      <td>50</td>\n",
       "    </tr>\n",
       "    <tr>\n",
       "      <th>2</th>\n",
       "      <td>1</td>\n",
       "      <td>3</td>\n",
       "      <td>-0.325390</td>\n",
       "      <td>1.0529</td>\n",
       "      <td>-0.059379</td>\n",
       "      <td>0.92242</td>\n",
       "      <td>0.72926</td>\n",
       "      <td>0.020476</td>\n",
       "      <td>0.044865</td>\n",
       "      <td>0.43292</td>\n",
       "      <td>...</td>\n",
       "      <td>120.870</td>\n",
       "      <td>36.07</td>\n",
       "      <td>35.273</td>\n",
       "      <td>17.000</td>\n",
       "      <td>15.0</td>\n",
       "      <td>-0.2</td>\n",
       "      <td>22</td>\n",
       "      <td>-0.455970</td>\n",
       "      <td>32</td>\n",
       "      <td>51</td>\n",
       "    </tr>\n",
       "    <tr>\n",
       "      <th>3</th>\n",
       "      <td>1</td>\n",
       "      <td>4</td>\n",
       "      <td>-0.566570</td>\n",
       "      <td>1.1131</td>\n",
       "      <td>-0.015229</td>\n",
       "      <td>0.85888</td>\n",
       "      <td>0.80974</td>\n",
       "      <td>0.076037</td>\n",
       "      <td>0.091033</td>\n",
       "      <td>0.67546</td>\n",
       "      <td>...</td>\n",
       "      <td>54.806</td>\n",
       "      <td>39.80</td>\n",
       "      <td>38.377</td>\n",
       "      <td>17.167</td>\n",
       "      <td>16.0</td>\n",
       "      <td>5.6</td>\n",
       "      <td>22</td>\n",
       "      <td>-0.325390</td>\n",
       "      <td>33</td>\n",
       "      <td>52</td>\n",
       "    </tr>\n",
       "    <tr>\n",
       "      <th>4</th>\n",
       "      <td>2</td>\n",
       "      <td>1</td>\n",
       "      <td>1.357300</td>\n",
       "      <td>1.0623</td>\n",
       "      <td>0.107020</td>\n",
       "      <td>0.81460</td>\n",
       "      <td>0.83593</td>\n",
       "      <td>0.199960</td>\n",
       "      <td>0.047800</td>\n",
       "      <td>0.74200</td>\n",
       "      <td>...</td>\n",
       "      <td>85.437</td>\n",
       "      <td>27.07</td>\n",
       "      <td>26.102</td>\n",
       "      <td>16.000</td>\n",
       "      <td>16.0</td>\n",
       "      <td>0.2</td>\n",
       "      <td>29</td>\n",
       "      <td>1.251000</td>\n",
       "      <td>7</td>\n",
       "      <td>27</td>\n",
       "    </tr>\n",
       "    <tr>\n",
       "      <th>...</th>\n",
       "      <td>...</td>\n",
       "      <td>...</td>\n",
       "      <td>...</td>\n",
       "      <td>...</td>\n",
       "      <td>...</td>\n",
       "      <td>...</td>\n",
       "      <td>...</td>\n",
       "      <td>...</td>\n",
       "      <td>...</td>\n",
       "      <td>...</td>\n",
       "      <td>...</td>\n",
       "      <td>...</td>\n",
       "      <td>...</td>\n",
       "      <td>...</td>\n",
       "      <td>...</td>\n",
       "      <td>...</td>\n",
       "      <td>...</td>\n",
       "      <td>...</td>\n",
       "      <td>...</td>\n",
       "      <td>...</td>\n",
       "      <td>...</td>\n",
       "    </tr>\n",
       "    <tr>\n",
       "      <th>3667</th>\n",
       "      <td>422</td>\n",
       "      <td>10</td>\n",
       "      <td>0.438020</td>\n",
       "      <td>2.2605</td>\n",
       "      <td>0.202890</td>\n",
       "      <td>0.16037</td>\n",
       "      <td>0.18588</td>\n",
       "      <td>0.175970</td>\n",
       "      <td>0.198400</td>\n",
       "      <td>2.22360</td>\n",
       "      <td>...</td>\n",
       "      <td>100.000</td>\n",
       "      <td>100.00</td>\n",
       "      <td>100.000</td>\n",
       "      <td>17.125</td>\n",
       "      <td>14.5</td>\n",
       "      <td>-7.0</td>\n",
       "      <td>37</td>\n",
       "      <td>0.436380</td>\n",
       "      <td>4</td>\n",
       "      <td>41</td>\n",
       "    </tr>\n",
       "    <tr>\n",
       "      <th>3668</th>\n",
       "      <td>422</td>\n",
       "      <td>11</td>\n",
       "      <td>0.482410</td>\n",
       "      <td>1.9615</td>\n",
       "      <td>0.216440</td>\n",
       "      <td>0.20095</td>\n",
       "      <td>0.21642</td>\n",
       "      <td>0.203590</td>\n",
       "      <td>0.189870</td>\n",
       "      <td>1.93820</td>\n",
       "      <td>...</td>\n",
       "      <td>91.500</td>\n",
       "      <td>130.50</td>\n",
       "      <td>132.400</td>\n",
       "      <td>20.000</td>\n",
       "      <td>14.5</td>\n",
       "      <td>-16.0</td>\n",
       "      <td>37</td>\n",
       "      <td>0.438020</td>\n",
       "      <td>5</td>\n",
       "      <td>42</td>\n",
       "    </tr>\n",
       "    <tr>\n",
       "      <th>3669</th>\n",
       "      <td>422</td>\n",
       "      <td>12</td>\n",
       "      <td>0.500770</td>\n",
       "      <td>1.7099</td>\n",
       "      <td>0.207970</td>\n",
       "      <td>0.26136</td>\n",
       "      <td>0.21399</td>\n",
       "      <td>0.193670</td>\n",
       "      <td>0.183890</td>\n",
       "      <td>1.68980</td>\n",
       "      <td>...</td>\n",
       "      <td>87.100</td>\n",
       "      <td>175.90</td>\n",
       "      <td>178.100</td>\n",
       "      <td>20.000</td>\n",
       "      <td>14.5</td>\n",
       "      <td>-20.2</td>\n",
       "      <td>37</td>\n",
       "      <td>0.482410</td>\n",
       "      <td>6</td>\n",
       "      <td>43</td>\n",
       "    </tr>\n",
       "    <tr>\n",
       "      <th>3670</th>\n",
       "      <td>422</td>\n",
       "      <td>13</td>\n",
       "      <td>0.611030</td>\n",
       "      <td>1.5590</td>\n",
       "      <td>0.185450</td>\n",
       "      <td>0.30728</td>\n",
       "      <td>0.19307</td>\n",
       "      <td>0.172140</td>\n",
       "      <td>0.170680</td>\n",
       "      <td>1.53890</td>\n",
       "      <td>...</td>\n",
       "      <td>92.900</td>\n",
       "      <td>203.20</td>\n",
       "      <td>204.500</td>\n",
       "      <td>22.000</td>\n",
       "      <td>22.0</td>\n",
       "      <td>6.4</td>\n",
       "      <td>37</td>\n",
       "      <td>0.500770</td>\n",
       "      <td>7</td>\n",
       "      <td>44</td>\n",
       "    </tr>\n",
       "    <tr>\n",
       "      <th>3671</th>\n",
       "      <td>422</td>\n",
       "      <td>14</td>\n",
       "      <td>0.518650</td>\n",
       "      <td>1.6148</td>\n",
       "      <td>0.176760</td>\n",
       "      <td>0.36369</td>\n",
       "      <td>0.18442</td>\n",
       "      <td>0.169550</td>\n",
       "      <td>0.197860</td>\n",
       "      <td>1.58420</td>\n",
       "      <td>...</td>\n",
       "      <td>91.700</td>\n",
       "      <td>227.50</td>\n",
       "      <td>214.500</td>\n",
       "      <td>21.000</td>\n",
       "      <td>20.5</td>\n",
       "      <td>8.6</td>\n",
       "      <td>37</td>\n",
       "      <td>0.611030</td>\n",
       "      <td>8</td>\n",
       "      <td>45</td>\n",
       "    </tr>\n",
       "  </tbody>\n",
       "</table>\n",
       "<p>3672 rows × 86 columns</p>\n",
       "</div>"
      ],
      "text/plain": [
       "      Company  Time  Financial Distress      x1        x2       x3       x4  \\\n",
       "0           1     1            0.010636  1.2810  0.022934  0.87454  1.21640   \n",
       "1           1     2           -0.455970  1.2700  0.006454  0.82067  1.00490   \n",
       "2           1     3           -0.325390  1.0529 -0.059379  0.92242  0.72926   \n",
       "3           1     4           -0.566570  1.1131 -0.015229  0.85888  0.80974   \n",
       "4           2     1            1.357300  1.0623  0.107020  0.81460  0.83593   \n",
       "...       ...   ...                 ...     ...       ...      ...      ...   \n",
       "3667      422    10            0.438020  2.2605  0.202890  0.16037  0.18588   \n",
       "3668      422    11            0.482410  1.9615  0.216440  0.20095  0.21642   \n",
       "3669      422    12            0.500770  1.7099  0.207970  0.26136  0.21399   \n",
       "3670      422    13            0.611030  1.5590  0.185450  0.30728  0.19307   \n",
       "3671      422    14            0.518650  1.6148  0.176760  0.36369  0.18442   \n",
       "\n",
       "            x5        x6       x7  ...      x74     x75      x76     x77  \\\n",
       "0     0.060940  0.188270  0.52510  ...   85.437   27.07   26.102  16.000   \n",
       "1    -0.014080  0.181040  0.62288  ...  107.090   31.31   30.194  17.000   \n",
       "2     0.020476  0.044865  0.43292  ...  120.870   36.07   35.273  17.000   \n",
       "3     0.076037  0.091033  0.67546  ...   54.806   39.80   38.377  17.167   \n",
       "4     0.199960  0.047800  0.74200  ...   85.437   27.07   26.102  16.000   \n",
       "...        ...       ...      ...  ...      ...     ...      ...     ...   \n",
       "3667  0.175970  0.198400  2.22360  ...  100.000  100.00  100.000  17.125   \n",
       "3668  0.203590  0.189870  1.93820  ...   91.500  130.50  132.400  20.000   \n",
       "3669  0.193670  0.183890  1.68980  ...   87.100  175.90  178.100  20.000   \n",
       "3670  0.172140  0.170680  1.53890  ...   92.900  203.20  204.500  22.000   \n",
       "3671  0.169550  0.197860  1.58420  ...   91.700  227.50  214.500  21.000   \n",
       "\n",
       "       x78   x79  x80       x81  x82  x83  \n",
       "0     16.0   0.2   22  0.060390   30   49  \n",
       "1     16.0   0.4   22  0.010636   31   50  \n",
       "2     15.0  -0.2   22 -0.455970   32   51  \n",
       "3     16.0   5.6   22 -0.325390   33   52  \n",
       "4     16.0   0.2   29  1.251000    7   27  \n",
       "...    ...   ...  ...       ...  ...  ...  \n",
       "3667  14.5  -7.0   37  0.436380    4   41  \n",
       "3668  14.5 -16.0   37  0.438020    5   42  \n",
       "3669  14.5 -20.2   37  0.482410    6   43  \n",
       "3670  22.0   6.4   37  0.500770    7   44  \n",
       "3671  20.5   8.6   37  0.611030    8   45  \n",
       "\n",
       "[3672 rows x 86 columns]"
      ]
     },
     "execution_count": 2,
     "metadata": {},
     "output_type": "execute_result"
    }
   ],
   "source": [
    "df = pd.read_csv('https://cainvas-static.s3.amazonaws.com/media/user_data/cainvas-admin/Financial_Distress.csv')\n",
    "df"
   ]
  },
  {
   "cell_type": "code",
   "execution_count": 3,
   "metadata": {
    "execution": {
     "iopub.execute_input": "2021-01-20T07:14:55.147524Z",
     "iopub.status.busy": "2021-01-20T07:14:55.147289Z",
     "iopub.status.idle": "2021-01-20T07:14:55.169423Z",
     "shell.execute_reply": "2021-01-20T07:14:55.168831Z",
     "shell.execute_reply.started": "2021-01-20T07:14:55.147494Z"
    }
   },
   "outputs": [
    {
     "name": "stdout",
     "output_type": "stream",
     "text": [
      "col_0    27644\n",
      "Company       \n",
      "1            4\n",
      "2           14\n",
      "3            1\n",
      "4           14\n",
      "5           14\n",
      "...        ...\n",
      "418          2\n",
      "419          3\n",
      "420          3\n",
      "421          6\n",
      "422          8\n",
      "\n",
      "[422 rows x 1 columns]\n"
     ]
    }
   ],
   "source": [
    "# Understanding the data\n",
    "\n",
    "# There are many time periods for each company.\n",
    "\n",
    "print(pd.crosstab(df['Company'], df['Time'].sum()))"
   ]
  },
  {
   "cell_type": "markdown",
   "metadata": {},
   "source": [
    "There are companies with less than 5 time periods too! "
   ]
  },
  {
   "cell_type": "markdown",
   "metadata": {},
   "source": [
    "# Preprocessing\n",
    "\n",
    "## One hot encoding the input variables"
   ]
  },
  {
   "cell_type": "code",
   "execution_count": 4,
   "metadata": {
    "execution": {
     "iopub.execute_input": "2021-01-20T07:14:55.170577Z",
     "iopub.status.busy": "2021-01-20T07:14:55.170339Z",
     "iopub.status.idle": "2021-01-20T07:14:55.203182Z",
     "shell.execute_reply": "2021-01-20T07:14:55.202543Z",
     "shell.execute_reply.started": "2021-01-20T07:14:55.170547Z"
    }
   },
   "outputs": [
    {
     "data": {
      "text/html": [
       "<div>\n",
       "<style scoped>\n",
       "    .dataframe tbody tr th:only-of-type {\n",
       "        vertical-align: middle;\n",
       "    }\n",
       "\n",
       "    .dataframe tbody tr th {\n",
       "        vertical-align: top;\n",
       "    }\n",
       "\n",
       "    .dataframe thead th {\n",
       "        text-align: right;\n",
       "    }\n",
       "</style>\n",
       "<table border=\"1\" class=\"dataframe\">\n",
       "  <thead>\n",
       "    <tr style=\"text-align: right;\">\n",
       "      <th></th>\n",
       "      <th>Company</th>\n",
       "      <th>Time</th>\n",
       "      <th>Financial Distress</th>\n",
       "      <th>x1</th>\n",
       "      <th>x2</th>\n",
       "      <th>x3</th>\n",
       "      <th>x4</th>\n",
       "      <th>x5</th>\n",
       "      <th>x6</th>\n",
       "      <th>x7</th>\n",
       "      <th>...</th>\n",
       "      <th>80_28</th>\n",
       "      <th>80_29</th>\n",
       "      <th>80_30</th>\n",
       "      <th>80_31</th>\n",
       "      <th>80_32</th>\n",
       "      <th>80_33</th>\n",
       "      <th>80_34</th>\n",
       "      <th>80_35</th>\n",
       "      <th>80_36</th>\n",
       "      <th>80_37</th>\n",
       "    </tr>\n",
       "  </thead>\n",
       "  <tbody>\n",
       "    <tr>\n",
       "      <th>0</th>\n",
       "      <td>1</td>\n",
       "      <td>1</td>\n",
       "      <td>0.010636</td>\n",
       "      <td>1.2810</td>\n",
       "      <td>0.022934</td>\n",
       "      <td>0.87454</td>\n",
       "      <td>1.21640</td>\n",
       "      <td>0.060940</td>\n",
       "      <td>0.188270</td>\n",
       "      <td>0.52510</td>\n",
       "      <td>...</td>\n",
       "      <td>0</td>\n",
       "      <td>0</td>\n",
       "      <td>0</td>\n",
       "      <td>0</td>\n",
       "      <td>0</td>\n",
       "      <td>0</td>\n",
       "      <td>0</td>\n",
       "      <td>0</td>\n",
       "      <td>0</td>\n",
       "      <td>0</td>\n",
       "    </tr>\n",
       "    <tr>\n",
       "      <th>1</th>\n",
       "      <td>1</td>\n",
       "      <td>2</td>\n",
       "      <td>-0.455970</td>\n",
       "      <td>1.2700</td>\n",
       "      <td>0.006454</td>\n",
       "      <td>0.82067</td>\n",
       "      <td>1.00490</td>\n",
       "      <td>-0.014080</td>\n",
       "      <td>0.181040</td>\n",
       "      <td>0.62288</td>\n",
       "      <td>...</td>\n",
       "      <td>0</td>\n",
       "      <td>0</td>\n",
       "      <td>0</td>\n",
       "      <td>0</td>\n",
       "      <td>0</td>\n",
       "      <td>0</td>\n",
       "      <td>0</td>\n",
       "      <td>0</td>\n",
       "      <td>0</td>\n",
       "      <td>0</td>\n",
       "    </tr>\n",
       "    <tr>\n",
       "      <th>2</th>\n",
       "      <td>1</td>\n",
       "      <td>3</td>\n",
       "      <td>-0.325390</td>\n",
       "      <td>1.0529</td>\n",
       "      <td>-0.059379</td>\n",
       "      <td>0.92242</td>\n",
       "      <td>0.72926</td>\n",
       "      <td>0.020476</td>\n",
       "      <td>0.044865</td>\n",
       "      <td>0.43292</td>\n",
       "      <td>...</td>\n",
       "      <td>0</td>\n",
       "      <td>0</td>\n",
       "      <td>0</td>\n",
       "      <td>0</td>\n",
       "      <td>0</td>\n",
       "      <td>0</td>\n",
       "      <td>0</td>\n",
       "      <td>0</td>\n",
       "      <td>0</td>\n",
       "      <td>0</td>\n",
       "    </tr>\n",
       "    <tr>\n",
       "      <th>3</th>\n",
       "      <td>1</td>\n",
       "      <td>4</td>\n",
       "      <td>-0.566570</td>\n",
       "      <td>1.1131</td>\n",
       "      <td>-0.015229</td>\n",
       "      <td>0.85888</td>\n",
       "      <td>0.80974</td>\n",
       "      <td>0.076037</td>\n",
       "      <td>0.091033</td>\n",
       "      <td>0.67546</td>\n",
       "      <td>...</td>\n",
       "      <td>0</td>\n",
       "      <td>0</td>\n",
       "      <td>0</td>\n",
       "      <td>0</td>\n",
       "      <td>0</td>\n",
       "      <td>0</td>\n",
       "      <td>0</td>\n",
       "      <td>0</td>\n",
       "      <td>0</td>\n",
       "      <td>0</td>\n",
       "    </tr>\n",
       "    <tr>\n",
       "      <th>4</th>\n",
       "      <td>2</td>\n",
       "      <td>1</td>\n",
       "      <td>1.357300</td>\n",
       "      <td>1.0623</td>\n",
       "      <td>0.107020</td>\n",
       "      <td>0.81460</td>\n",
       "      <td>0.83593</td>\n",
       "      <td>0.199960</td>\n",
       "      <td>0.047800</td>\n",
       "      <td>0.74200</td>\n",
       "      <td>...</td>\n",
       "      <td>0</td>\n",
       "      <td>1</td>\n",
       "      <td>0</td>\n",
       "      <td>0</td>\n",
       "      <td>0</td>\n",
       "      <td>0</td>\n",
       "      <td>0</td>\n",
       "      <td>0</td>\n",
       "      <td>0</td>\n",
       "      <td>0</td>\n",
       "    </tr>\n",
       "    <tr>\n",
       "      <th>...</th>\n",
       "      <td>...</td>\n",
       "      <td>...</td>\n",
       "      <td>...</td>\n",
       "      <td>...</td>\n",
       "      <td>...</td>\n",
       "      <td>...</td>\n",
       "      <td>...</td>\n",
       "      <td>...</td>\n",
       "      <td>...</td>\n",
       "      <td>...</td>\n",
       "      <td>...</td>\n",
       "      <td>...</td>\n",
       "      <td>...</td>\n",
       "      <td>...</td>\n",
       "      <td>...</td>\n",
       "      <td>...</td>\n",
       "      <td>...</td>\n",
       "      <td>...</td>\n",
       "      <td>...</td>\n",
       "      <td>...</td>\n",
       "      <td>...</td>\n",
       "    </tr>\n",
       "    <tr>\n",
       "      <th>3667</th>\n",
       "      <td>422</td>\n",
       "      <td>10</td>\n",
       "      <td>0.438020</td>\n",
       "      <td>2.2605</td>\n",
       "      <td>0.202890</td>\n",
       "      <td>0.16037</td>\n",
       "      <td>0.18588</td>\n",
       "      <td>0.175970</td>\n",
       "      <td>0.198400</td>\n",
       "      <td>2.22360</td>\n",
       "      <td>...</td>\n",
       "      <td>0</td>\n",
       "      <td>0</td>\n",
       "      <td>0</td>\n",
       "      <td>0</td>\n",
       "      <td>0</td>\n",
       "      <td>0</td>\n",
       "      <td>0</td>\n",
       "      <td>0</td>\n",
       "      <td>0</td>\n",
       "      <td>1</td>\n",
       "    </tr>\n",
       "    <tr>\n",
       "      <th>3668</th>\n",
       "      <td>422</td>\n",
       "      <td>11</td>\n",
       "      <td>0.482410</td>\n",
       "      <td>1.9615</td>\n",
       "      <td>0.216440</td>\n",
       "      <td>0.20095</td>\n",
       "      <td>0.21642</td>\n",
       "      <td>0.203590</td>\n",
       "      <td>0.189870</td>\n",
       "      <td>1.93820</td>\n",
       "      <td>...</td>\n",
       "      <td>0</td>\n",
       "      <td>0</td>\n",
       "      <td>0</td>\n",
       "      <td>0</td>\n",
       "      <td>0</td>\n",
       "      <td>0</td>\n",
       "      <td>0</td>\n",
       "      <td>0</td>\n",
       "      <td>0</td>\n",
       "      <td>1</td>\n",
       "    </tr>\n",
       "    <tr>\n",
       "      <th>3669</th>\n",
       "      <td>422</td>\n",
       "      <td>12</td>\n",
       "      <td>0.500770</td>\n",
       "      <td>1.7099</td>\n",
       "      <td>0.207970</td>\n",
       "      <td>0.26136</td>\n",
       "      <td>0.21399</td>\n",
       "      <td>0.193670</td>\n",
       "      <td>0.183890</td>\n",
       "      <td>1.68980</td>\n",
       "      <td>...</td>\n",
       "      <td>0</td>\n",
       "      <td>0</td>\n",
       "      <td>0</td>\n",
       "      <td>0</td>\n",
       "      <td>0</td>\n",
       "      <td>0</td>\n",
       "      <td>0</td>\n",
       "      <td>0</td>\n",
       "      <td>0</td>\n",
       "      <td>1</td>\n",
       "    </tr>\n",
       "    <tr>\n",
       "      <th>3670</th>\n",
       "      <td>422</td>\n",
       "      <td>13</td>\n",
       "      <td>0.611030</td>\n",
       "      <td>1.5590</td>\n",
       "      <td>0.185450</td>\n",
       "      <td>0.30728</td>\n",
       "      <td>0.19307</td>\n",
       "      <td>0.172140</td>\n",
       "      <td>0.170680</td>\n",
       "      <td>1.53890</td>\n",
       "      <td>...</td>\n",
       "      <td>0</td>\n",
       "      <td>0</td>\n",
       "      <td>0</td>\n",
       "      <td>0</td>\n",
       "      <td>0</td>\n",
       "      <td>0</td>\n",
       "      <td>0</td>\n",
       "      <td>0</td>\n",
       "      <td>0</td>\n",
       "      <td>1</td>\n",
       "    </tr>\n",
       "    <tr>\n",
       "      <th>3671</th>\n",
       "      <td>422</td>\n",
       "      <td>14</td>\n",
       "      <td>0.518650</td>\n",
       "      <td>1.6148</td>\n",
       "      <td>0.176760</td>\n",
       "      <td>0.36369</td>\n",
       "      <td>0.18442</td>\n",
       "      <td>0.169550</td>\n",
       "      <td>0.197860</td>\n",
       "      <td>1.58420</td>\n",
       "      <td>...</td>\n",
       "      <td>0</td>\n",
       "      <td>0</td>\n",
       "      <td>0</td>\n",
       "      <td>0</td>\n",
       "      <td>0</td>\n",
       "      <td>0</td>\n",
       "      <td>0</td>\n",
       "      <td>0</td>\n",
       "      <td>0</td>\n",
       "      <td>1</td>\n",
       "    </tr>\n",
       "  </tbody>\n",
       "</table>\n",
       "<p>3672 rows × 121 columns</p>\n",
       "</div>"
      ],
      "text/plain": [
       "      Company  Time  Financial Distress      x1        x2       x3       x4  \\\n",
       "0           1     1            0.010636  1.2810  0.022934  0.87454  1.21640   \n",
       "1           1     2           -0.455970  1.2700  0.006454  0.82067  1.00490   \n",
       "2           1     3           -0.325390  1.0529 -0.059379  0.92242  0.72926   \n",
       "3           1     4           -0.566570  1.1131 -0.015229  0.85888  0.80974   \n",
       "4           2     1            1.357300  1.0623  0.107020  0.81460  0.83593   \n",
       "...       ...   ...                 ...     ...       ...      ...      ...   \n",
       "3667      422    10            0.438020  2.2605  0.202890  0.16037  0.18588   \n",
       "3668      422    11            0.482410  1.9615  0.216440  0.20095  0.21642   \n",
       "3669      422    12            0.500770  1.7099  0.207970  0.26136  0.21399   \n",
       "3670      422    13            0.611030  1.5590  0.185450  0.30728  0.19307   \n",
       "3671      422    14            0.518650  1.6148  0.176760  0.36369  0.18442   \n",
       "\n",
       "            x5        x6       x7  ...  80_28  80_29  80_30  80_31  80_32  \\\n",
       "0     0.060940  0.188270  0.52510  ...      0      0      0      0      0   \n",
       "1    -0.014080  0.181040  0.62288  ...      0      0      0      0      0   \n",
       "2     0.020476  0.044865  0.43292  ...      0      0      0      0      0   \n",
       "3     0.076037  0.091033  0.67546  ...      0      0      0      0      0   \n",
       "4     0.199960  0.047800  0.74200  ...      0      1      0      0      0   \n",
       "...        ...       ...      ...  ...    ...    ...    ...    ...    ...   \n",
       "3667  0.175970  0.198400  2.22360  ...      0      0      0      0      0   \n",
       "3668  0.203590  0.189870  1.93820  ...      0      0      0      0      0   \n",
       "3669  0.193670  0.183890  1.68980  ...      0      0      0      0      0   \n",
       "3670  0.172140  0.170680  1.53890  ...      0      0      0      0      0   \n",
       "3671  0.169550  0.197860  1.58420  ...      0      0      0      0      0   \n",
       "\n",
       "      80_33  80_34  80_35  80_36  80_37  \n",
       "0         0      0      0      0      0  \n",
       "1         0      0      0      0      0  \n",
       "2         0      0      0      0      0  \n",
       "3         0      0      0      0      0  \n",
       "4         0      0      0      0      0  \n",
       "...     ...    ...    ...    ...    ...  \n",
       "3667      0      0      0      0      1  \n",
       "3668      0      0      0      0      1  \n",
       "3669      0      0      0      0      1  \n",
       "3670      0      0      0      0      1  \n",
       "3671      0      0      0      0      1  \n",
       "\n",
       "[3672 rows x 121 columns]"
      ]
     },
     "execution_count": 4,
     "metadata": {},
     "output_type": "execute_result"
    }
   ],
   "source": [
    "df80 = pd.get_dummies(df['x80'], drop_first = True, prefix = '80')\n",
    "\n",
    "for column in df80.columns:\n",
    "    df[column] = df80[column]\n",
    "    \n",
    "df = df.drop(columns = ['x80'])\n",
    "\n",
    "df"
   ]
  },
  {
   "cell_type": "markdown",
   "metadata": {},
   "source": [
    "## Creating time-based dataframe\n",
    "\n",
    "Since this is a time based dataset, the features are appended to include values for previous timesteps of the same company group."
   ]
  },
  {
   "cell_type": "code",
   "execution_count": 5,
   "metadata": {
    "execution": {
     "iopub.execute_input": "2021-01-20T07:14:55.205047Z",
     "iopub.status.busy": "2021-01-20T07:14:55.204889Z",
     "iopub.status.idle": "2021-01-20T07:15:06.871586Z",
     "shell.execute_reply": "2021-01-20T07:15:06.871047Z",
     "shell.execute_reply.started": "2021-01-20T07:14:55.205029Z"
    }
   },
   "outputs": [],
   "source": [
    "# Defining the time window, that is, how many timesteps to include\n",
    "time_window = 5\n",
    "\n",
    "# Dataframes that hold rows grouped by company\n",
    "df_company_grouped = df.groupby('Company')\n",
    "\n",
    "# Column values affected by time - all except Company, Time, Financial Distress and x80 (the categorical variable that was one-hot encoded)\n",
    "time_affected_columns = [c for c in df.columns if c[0] == 'x']    # Starts with x\n",
    "\n",
    "# Final dataframe\n",
    "df_final = pd.DataFrame()\n",
    "\n",
    "# For each company\n",
    "for company in df_company_grouped:\n",
    "    # If the comapny has timesteps greater than or equal to the time window, else discard\n",
    "    if time_window <= len(company[1]):\n",
    "        # Skipping time_window-1 rows from the beginning, and looping to till the end \n",
    "        for row_num in range(time_window, len(company[1])+1):\n",
    "            # picking the time_window th row\n",
    "            df_temp = company[1].iloc[row_num-1, :]\n",
    "            # Appending values from time_window-1 rows before that\n",
    "            for i in range(time_window-1):                \n",
    "                df_temp_i = company[1].iloc[row_num-1-i][time_affected_columns]    # Pick necessary columns                \n",
    "                df_temp = pd.concat([df_temp, df_temp_i], axis = 0)    # Append values\n",
    "        \n",
    "            df_temp = df_temp.to_frame().transpose()    # Series to DataFrame\n",
    "\n",
    "            df_final = pd.concat([df_final, df_temp])    # Add as row to final dataframe\n",
    "\n",
    "# Reset index            \n",
    "df_final = df_final.reset_index(drop = True)"
   ]
  },
  {
   "cell_type": "markdown",
   "metadata": {},
   "source": [
    "## One hot encoding the target variables \n",
    "\n",
    "This is done based on the condition - healthy (0) if value > -0.5, else distressed (1)"
   ]
  },
  {
   "cell_type": "code",
   "execution_count": 6,
   "metadata": {
    "execution": {
     "iopub.execute_input": "2021-01-20T07:15:06.873541Z",
     "iopub.status.busy": "2021-01-20T07:15:06.873273Z",
     "iopub.status.idle": "2021-01-20T07:15:06.880969Z",
     "shell.execute_reply": "2021-01-20T07:15:06.880398Z",
     "shell.execute_reply.started": "2021-01-20T07:15:06.873511Z"
    }
   },
   "outputs": [],
   "source": [
    "df_final['Financial Distress'] = (df_final['Financial Distress']<-0.5).astype('int')"
   ]
  },
  {
   "cell_type": "code",
   "execution_count": 7,
   "metadata": {
    "execution": {
     "iopub.execute_input": "2021-01-20T07:15:06.882056Z",
     "iopub.status.busy": "2021-01-20T07:15:06.881703Z",
     "iopub.status.idle": "2021-01-20T07:15:06.887500Z",
     "shell.execute_reply": "2021-01-20T07:15:06.886978Z",
     "shell.execute_reply.started": "2021-01-20T07:15:06.882027Z"
    }
   },
   "outputs": [
    {
     "data": {
      "text/plain": [
       "0    2091\n",
       "1      83\n",
       "Name: Financial Distress, dtype: int64"
      ]
     },
     "execution_count": 7,
     "metadata": {},
     "output_type": "execute_result"
    }
   ],
   "source": [
    "df_final['Financial Distress'].value_counts()"
   ]
  },
  {
   "cell_type": "markdown",
   "metadata": {},
   "source": [
    "## Balancing the dataset\n",
    "\n",
    "With 5 timestep values in one row sample, resampling and training using this dataset without a time series split would be acceptable."
   ]
  },
  {
   "cell_type": "code",
   "execution_count": 8,
   "metadata": {
    "execution": {
     "iopub.execute_input": "2021-01-20T07:15:06.888639Z",
     "iopub.status.busy": "2021-01-20T07:15:06.888412Z",
     "iopub.status.idle": "2021-01-20T07:15:06.914443Z",
     "shell.execute_reply": "2021-01-20T07:15:06.913876Z",
     "shell.execute_reply.started": "2021-01-20T07:15:06.888611Z"
    }
   },
   "outputs": [
    {
     "name": "stdout",
     "output_type": "stream",
     "text": [
      "Number of samples in:\n",
      "Class label 0 -  2091\n",
      "Class label 1 -  83\n",
      "\n",
      "After resampling - \n",
      "Number of samples in:\n",
      "Class label 0 -  2091\n",
      "Class label 1 -  1000\n"
     ]
    }
   ],
   "source": [
    "# separating into 2 dataframes, one for each class \n",
    "\n",
    "df0 = df_final[df_final['Financial Distress'] == 0]\n",
    "df1 = df_final[df_final['Financial Distress'] == 1]\n",
    "\n",
    "print(\"Number of samples in:\")\n",
    "print(\"Class label 0 - \", len(df0))\n",
    "print(\"Class label 1 - \", len(df1))\n",
    "\n",
    "# Upsampling \n",
    "\n",
    "df1 = df1.sample(1000, replace = True)    # replace = True enables resampling\n",
    "\n",
    "print('\\nAfter resampling - ')\n",
    "\n",
    "print(\"Number of samples in:\")\n",
    "print(\"Class label 0 - \", len(df0))\n",
    "print(\"Class label 1 - \", len(df1))\n",
    "\n",
    "df = df1.append(df0)"
   ]
  },
  {
   "cell_type": "code",
   "execution_count": 9,
   "metadata": {
    "execution": {
     "iopub.execute_input": "2021-01-20T07:15:06.915444Z",
     "iopub.status.busy": "2021-01-20T07:15:06.915274Z",
     "iopub.status.idle": "2021-01-20T07:15:06.926464Z",
     "shell.execute_reply": "2021-01-20T07:15:06.925825Z",
     "shell.execute_reply.started": "2021-01-20T07:15:06.915424Z"
    }
   },
   "outputs": [
    {
     "data": {
      "text/plain": [
       "0    2091\n",
       "1    1000\n",
       "Name: Financial Distress, dtype: int64"
      ]
     },
     "execution_count": 9,
     "metadata": {},
     "output_type": "execute_result"
    }
   ],
   "source": [
    "df['Financial Distress'].value_counts()"
   ]
  },
  {
   "cell_type": "markdown",
   "metadata": {},
   "source": [
    "## Defining the input and output columns"
   ]
  },
  {
   "cell_type": "code",
   "execution_count": 10,
   "metadata": {
    "execution": {
     "iopub.execute_input": "2021-01-20T07:15:06.927432Z",
     "iopub.status.busy": "2021-01-20T07:15:06.927265Z",
     "iopub.status.idle": "2021-01-20T07:15:06.931291Z",
     "shell.execute_reply": "2021-01-20T07:15:06.930680Z",
     "shell.execute_reply.started": "2021-01-20T07:15:06.927410Z"
    }
   },
   "outputs": [
    {
     "name": "stdout",
     "output_type": "stream",
     "text": [
      "Number of input columns:  448\n",
      "Number of output columns:  1\n"
     ]
    }
   ],
   "source": [
    "# defining the input and output columns to separate the dataset in the later cells.\n",
    "\n",
    "input_columns = list(df.columns)\n",
    "input_columns.remove('Financial Distress')\n",
    "output_columns = ['Financial Distress']\n",
    "\n",
    "print(\"Number of input columns: \", len(input_columns))\n",
    "#print(\"Input columns: \", ', '.join(input_columns))\n",
    "\n",
    "print(\"Number of output columns: \", len(output_columns))\n",
    "#print(\"Output columns: \", ', '.join(output_columns))"
   ]
  },
  {
   "cell_type": "markdown",
   "metadata": {},
   "source": [
    "## Train-val-test split"
   ]
  },
  {
   "cell_type": "code",
   "execution_count": 11,
   "metadata": {
    "execution": {
     "iopub.execute_input": "2021-01-20T07:15:06.932316Z",
     "iopub.status.busy": "2021-01-20T07:15:06.932146Z",
     "iopub.status.idle": "2021-01-20T07:15:06.943216Z",
     "shell.execute_reply": "2021-01-20T07:15:06.942620Z",
     "shell.execute_reply.started": "2021-01-20T07:15:06.932297Z"
    }
   },
   "outputs": [
    {
     "name": "stdout",
     "output_type": "stream",
     "text": [
      "Number of samples in...\n",
      "Training set:  2472\n",
      "Validation set:  309\n",
      "Testing set:  310\n"
     ]
    }
   ],
   "source": [
    "# Splitting into train, val and test set -- 80-10-10 split\n",
    "\n",
    "# First, an 80-20 split\n",
    "train_df, val_test_df = train_test_split(df, test_size = 0.2)\n",
    "\n",
    "# Then split the 20% into half\n",
    "val_df, test_df = train_test_split(val_test_df, test_size = 0.5)\n",
    "\n",
    "print(\"Number of samples in...\")\n",
    "print(\"Training set: \", len(train_df))\n",
    "print(\"Validation set: \", len(val_df))\n",
    "print(\"Testing set: \", len(test_df))"
   ]
  },
  {
   "cell_type": "code",
   "execution_count": 12,
   "metadata": {
    "execution": {
     "iopub.execute_input": "2021-01-20T07:15:06.944135Z",
     "iopub.status.busy": "2021-01-20T07:15:06.943972Z",
     "iopub.status.idle": "2021-01-20T07:15:06.993946Z",
     "shell.execute_reply": "2021-01-20T07:15:06.993382Z",
     "shell.execute_reply.started": "2021-01-20T07:15:06.944116Z"
    }
   },
   "outputs": [],
   "source": [
    "# Splitting into X (input) and y (output)\n",
    "\n",
    "Xtrain, ytrain = np.array(train_df[input_columns]), np.array(train_df[output_columns])\n",
    "\n",
    "Xval, yval = np.array(val_df[input_columns]), np.array(val_df[output_columns])\n",
    "\n",
    "Xtest, ytest = np.array(test_df[input_columns]), np.array(test_df[output_columns])"
   ]
  },
  {
   "cell_type": "markdown",
   "metadata": {},
   "source": [
    "## Scaling the values\n",
    "\n",
    "The values in the feature columns are not of the same range. "
   ]
  },
  {
   "cell_type": "code",
   "execution_count": 13,
   "metadata": {
    "execution": {
     "iopub.execute_input": "2021-01-20T07:15:06.994976Z",
     "iopub.status.busy": "2021-01-20T07:15:06.994811Z",
     "iopub.status.idle": "2021-01-20T07:15:07.048852Z",
     "shell.execute_reply": "2021-01-20T07:15:07.048069Z",
     "shell.execute_reply.started": "2021-01-20T07:15:06.994957Z"
    }
   },
   "outputs": [],
   "source": [
    "# Each feature has a different range. \n",
    "# Using min_max_scaler to scale them to values in the range [0,1].\n",
    "\n",
    "min_max_scaler = MinMaxScaler()\n",
    "\n",
    "# Fit on training set alone\n",
    "Xtrain = min_max_scaler.fit_transform(Xtrain)\n",
    "\n",
    "# Use it to transform val and test input\n",
    "Xval = min_max_scaler.transform(Xval)\n",
    "Xtest = min_max_scaler.transform(Xtest)"
   ]
  },
  {
   "cell_type": "markdown",
   "metadata": {},
   "source": [
    "# The model"
   ]
  },
  {
   "cell_type": "code",
   "execution_count": 14,
   "metadata": {
    "execution": {
     "iopub.execute_input": "2021-01-20T07:15:07.050364Z",
     "iopub.status.busy": "2021-01-20T07:15:07.050103Z",
     "iopub.status.idle": "2021-01-20T07:15:08.404701Z",
     "shell.execute_reply": "2021-01-20T07:15:08.404168Z",
     "shell.execute_reply.started": "2021-01-20T07:15:07.050333Z"
    }
   },
   "outputs": [],
   "source": [
    "model = models.Sequential([\n",
    "    layers.Dense(32, activation = 'relu', input_shape = Xtrain[0].shape),\n",
    "    layers.Dense(16, activation = 'relu'),\n",
    "    layers.Dense(8, activation = 'relu'),\n",
    "    layers.Dense(1, activation = 'sigmoid')\n",
    "])\n",
    "\n",
    "cb = [callbacks.EarlyStopping(patience = 5, restore_best_weights = True)]"
   ]
  },
  {
   "cell_type": "code",
   "execution_count": 15,
   "metadata": {
    "execution": {
     "iopub.execute_input": "2021-01-20T07:15:08.405719Z",
     "iopub.status.busy": "2021-01-20T07:15:08.405551Z",
     "iopub.status.idle": "2021-01-20T07:15:12.507995Z",
     "shell.execute_reply": "2021-01-20T07:15:12.507379Z",
     "shell.execute_reply.started": "2021-01-20T07:15:08.405700Z"
    }
   },
   "outputs": [
    {
     "name": "stdout",
     "output_type": "stream",
     "text": [
      "Epoch 1/256\n",
      "78/78 [==============================] - 0s 3ms/step - loss: 0.5056 - accuracy: 0.7354 - val_loss: 0.3563 - val_accuracy: 0.8706\n",
      "Epoch 2/256\n",
      "78/78 [==============================] - 0s 2ms/step - loss: 0.3052 - accuracy: 0.8710 - val_loss: 0.2320 - val_accuracy: 0.9094\n",
      "Epoch 3/256\n",
      "78/78 [==============================] - 0s 2ms/step - loss: 0.2790 - accuracy: 0.8823 - val_loss: 0.2182 - val_accuracy: 0.9061\n",
      "Epoch 4/256\n",
      "78/78 [==============================] - 0s 2ms/step - loss: 0.2431 - accuracy: 0.8985 - val_loss: 0.1923 - val_accuracy: 0.9353\n",
      "Epoch 5/256\n",
      "78/78 [==============================] - 0s 2ms/step - loss: 0.2336 - accuracy: 0.8993 - val_loss: 0.1991 - val_accuracy: 0.9223\n",
      "Epoch 6/256\n",
      "78/78 [==============================] - 0s 2ms/step - loss: 0.2282 - accuracy: 0.9001 - val_loss: 0.2624 - val_accuracy: 0.9094\n",
      "Epoch 7/256\n",
      "78/78 [==============================] - 0s 3ms/step - loss: 0.2307 - accuracy: 0.9037 - val_loss: 0.1854 - val_accuracy: 0.9385\n",
      "Epoch 8/256\n",
      "78/78 [==============================] - 0s 3ms/step - loss: 0.2158 - accuracy: 0.9086 - val_loss: 0.2100 - val_accuracy: 0.9223\n",
      "Epoch 9/256\n",
      "78/78 [==============================] - 0s 2ms/step - loss: 0.2066 - accuracy: 0.9191 - val_loss: 0.1850 - val_accuracy: 0.9417\n",
      "Epoch 10/256\n",
      "78/78 [==============================] - 0s 2ms/step - loss: 0.2031 - accuracy: 0.9150 - val_loss: 0.1713 - val_accuracy: 0.9353\n",
      "Epoch 11/256\n",
      "78/78 [==============================] - 0s 2ms/step - loss: 0.1903 - accuracy: 0.9215 - val_loss: 0.1766 - val_accuracy: 0.9353\n",
      "Epoch 12/256\n",
      "78/78 [==============================] - 0s 2ms/step - loss: 0.1916 - accuracy: 0.9235 - val_loss: 0.1740 - val_accuracy: 0.9417\n",
      "Epoch 13/256\n",
      "78/78 [==============================] - 0s 2ms/step - loss: 0.1903 - accuracy: 0.9171 - val_loss: 0.2455 - val_accuracy: 0.9061\n",
      "Epoch 14/256\n",
      "78/78 [==============================] - 0s 2ms/step - loss: 0.1940 - accuracy: 0.9130 - val_loss: 0.1905 - val_accuracy: 0.9288\n",
      "Epoch 15/256\n",
      "78/78 [==============================] - 0s 2ms/step - loss: 0.1699 - accuracy: 0.9304 - val_loss: 0.1579 - val_accuracy: 0.9417\n",
      "Epoch 16/256\n",
      "78/78 [==============================] - 0s 2ms/step - loss: 0.1768 - accuracy: 0.9227 - val_loss: 0.1644 - val_accuracy: 0.9353\n",
      "Epoch 17/256\n",
      "78/78 [==============================] - 0s 2ms/step - loss: 0.1624 - accuracy: 0.9337 - val_loss: 0.1874 - val_accuracy: 0.9256\n",
      "Epoch 18/256\n",
      "78/78 [==============================] - 0s 2ms/step - loss: 0.1524 - accuracy: 0.9397 - val_loss: 0.1896 - val_accuracy: 0.9191\n",
      "Epoch 19/256\n",
      "78/78 [==============================] - 0s 2ms/step - loss: 0.1532 - accuracy: 0.9353 - val_loss: 0.1776 - val_accuracy: 0.9256\n",
      "Epoch 20/256\n",
      "78/78 [==============================] - 0s 2ms/step - loss: 0.1426 - accuracy: 0.9409 - val_loss: 0.1825 - val_accuracy: 0.9320\n"
     ]
    }
   ],
   "source": [
    "model.compile(optimizer = optimizers.Adam(0.001), loss = losses.BinaryCrossentropy(), metrics = ['accuracy'])\n",
    "\n",
    "history = model.fit(Xtrain, ytrain, validation_data = (Xval, yval), epochs = 256, callbacks = cb)"
   ]
  },
  {
   "cell_type": "code",
   "execution_count": 16,
   "metadata": {
    "execution": {
     "iopub.execute_input": "2021-01-20T07:15:12.509409Z",
     "iopub.status.busy": "2021-01-20T07:15:12.509063Z",
     "iopub.status.idle": "2021-01-20T07:15:17.179051Z",
     "shell.execute_reply": "2021-01-20T07:15:17.178471Z",
     "shell.execute_reply.started": "2021-01-20T07:15:12.509377Z"
    }
   },
   "outputs": [
    {
     "name": "stdout",
     "output_type": "stream",
     "text": [
      "Epoch 1/256\n",
      "78/78 [==============================] - 0s 3ms/step - loss: 0.1503 - accuracy: 0.9373 - val_loss: 0.1617 - val_accuracy: 0.9482\n",
      "Epoch 2/256\n",
      "78/78 [==============================] - 0s 2ms/step - loss: 0.1487 - accuracy: 0.9397 - val_loss: 0.1550 - val_accuracy: 0.9450\n",
      "Epoch 3/256\n",
      "78/78 [==============================] - 0s 2ms/step - loss: 0.1465 - accuracy: 0.9377 - val_loss: 0.1557 - val_accuracy: 0.9515\n",
      "Epoch 4/256\n",
      "78/78 [==============================] - 0s 2ms/step - loss: 0.1450 - accuracy: 0.9397 - val_loss: 0.1548 - val_accuracy: 0.9482\n",
      "Epoch 5/256\n",
      "78/78 [==============================] - 0s 2ms/step - loss: 0.1425 - accuracy: 0.9446 - val_loss: 0.1535 - val_accuracy: 0.9515\n",
      "Epoch 6/256\n",
      "78/78 [==============================] - 0s 2ms/step - loss: 0.1418 - accuracy: 0.9430 - val_loss: 0.1583 - val_accuracy: 0.9515\n",
      "Epoch 7/256\n",
      "78/78 [==============================] - 0s 2ms/step - loss: 0.1429 - accuracy: 0.9426 - val_loss: 0.1604 - val_accuracy: 0.9515\n",
      "Epoch 8/256\n",
      "78/78 [==============================] - 0s 2ms/step - loss: 0.1396 - accuracy: 0.9470 - val_loss: 0.1525 - val_accuracy: 0.9515\n",
      "Epoch 9/256\n",
      "78/78 [==============================] - 0s 2ms/step - loss: 0.1394 - accuracy: 0.9466 - val_loss: 0.1571 - val_accuracy: 0.9515\n",
      "Epoch 10/256\n",
      "78/78 [==============================] - 0s 2ms/step - loss: 0.1390 - accuracy: 0.9466 - val_loss: 0.1580 - val_accuracy: 0.9515\n",
      "Epoch 11/256\n",
      "78/78 [==============================] - 0s 2ms/step - loss: 0.1357 - accuracy: 0.9490 - val_loss: 0.1520 - val_accuracy: 0.9482\n",
      "Epoch 12/256\n",
      "78/78 [==============================] - 0s 2ms/step - loss: 0.1348 - accuracy: 0.9502 - val_loss: 0.1516 - val_accuracy: 0.9482\n",
      "Epoch 13/256\n",
      "78/78 [==============================] - 0s 2ms/step - loss: 0.1342 - accuracy: 0.9494 - val_loss: 0.1516 - val_accuracy: 0.9482\n",
      "Epoch 14/256\n",
      "78/78 [==============================] - 0s 2ms/step - loss: 0.1328 - accuracy: 0.9511 - val_loss: 0.1519 - val_accuracy: 0.9515\n",
      "Epoch 15/256\n",
      "78/78 [==============================] - 0s 2ms/step - loss: 0.1317 - accuracy: 0.9535 - val_loss: 0.1493 - val_accuracy: 0.9515\n",
      "Epoch 16/256\n",
      "78/78 [==============================] - 0s 2ms/step - loss: 0.1321 - accuracy: 0.9494 - val_loss: 0.1523 - val_accuracy: 0.9515\n",
      "Epoch 17/256\n",
      "78/78 [==============================] - 0s 2ms/step - loss: 0.1301 - accuracy: 0.9511 - val_loss: 0.1466 - val_accuracy: 0.9482\n",
      "Epoch 18/256\n",
      "78/78 [==============================] - 0s 2ms/step - loss: 0.1301 - accuracy: 0.9519 - val_loss: 0.1466 - val_accuracy: 0.9547\n",
      "Epoch 19/256\n",
      "78/78 [==============================] - 0s 2ms/step - loss: 0.1278 - accuracy: 0.9527 - val_loss: 0.1586 - val_accuracy: 0.9482\n",
      "Epoch 20/256\n",
      "78/78 [==============================] - 0s 2ms/step - loss: 0.1260 - accuracy: 0.9555 - val_loss: 0.1451 - val_accuracy: 0.9515\n",
      "Epoch 21/256\n",
      "78/78 [==============================] - 0s 2ms/step - loss: 0.1258 - accuracy: 0.9535 - val_loss: 0.1459 - val_accuracy: 0.9515\n",
      "Epoch 22/256\n",
      "78/78 [==============================] - 0s 2ms/step - loss: 0.1239 - accuracy: 0.9551 - val_loss: 0.1441 - val_accuracy: 0.9515\n",
      "Epoch 23/256\n",
      "78/78 [==============================] - 0s 2ms/step - loss: 0.1252 - accuracy: 0.9555 - val_loss: 0.1426 - val_accuracy: 0.9482\n",
      "Epoch 24/256\n",
      "78/78 [==============================] - 0s 2ms/step - loss: 0.1218 - accuracy: 0.9563 - val_loss: 0.1441 - val_accuracy: 0.9515\n",
      "Epoch 25/256\n",
      "78/78 [==============================] - 0s 2ms/step - loss: 0.1209 - accuracy: 0.9575 - val_loss: 0.1450 - val_accuracy: 0.9515\n",
      "Epoch 26/256\n",
      "78/78 [==============================] - 0s 2ms/step - loss: 0.1203 - accuracy: 0.9571 - val_loss: 0.1494 - val_accuracy: 0.9515\n",
      "Epoch 27/256\n",
      "78/78 [==============================] - 0s 2ms/step - loss: 0.1197 - accuracy: 0.9583 - val_loss: 0.1456 - val_accuracy: 0.9515\n",
      "Epoch 28/256\n",
      "78/78 [==============================] - 0s 2ms/step - loss: 0.1170 - accuracy: 0.9583 - val_loss: 0.1558 - val_accuracy: 0.9417\n"
     ]
    }
   ],
   "source": [
    "model.compile(optimizer = optimizers.Adam(0.0001), loss = losses.BinaryCrossentropy(), metrics = ['accuracy'])\n",
    "\n",
    "history1 = model.fit(Xtrain, ytrain, validation_data = (Xval, yval), epochs = 256, callbacks = cb)"
   ]
  },
  {
   "cell_type": "code",
   "execution_count": 17,
   "metadata": {
    "execution": {
     "iopub.execute_input": "2021-01-20T07:15:17.180041Z",
     "iopub.status.busy": "2021-01-20T07:15:17.179872Z",
     "iopub.status.idle": "2021-01-20T07:15:17.229992Z",
     "shell.execute_reply": "2021-01-20T07:15:17.229442Z",
     "shell.execute_reply.started": "2021-01-20T07:15:17.180021Z"
    }
   },
   "outputs": [
    {
     "name": "stdout",
     "output_type": "stream",
     "text": [
      "10/10 [==============================] - 0s 1ms/step - loss: 0.1736 - accuracy: 0.9323\n"
     ]
    },
    {
     "data": {
      "text/plain": [
       "[0.17363806068897247, 0.9322580695152283]"
      ]
     },
     "execution_count": 17,
     "metadata": {},
     "output_type": "execute_result"
    }
   ],
   "source": [
    "model.evaluate(Xtest, ytest)"
   ]
  },
  {
   "cell_type": "code",
   "execution_count": 18,
   "metadata": {
    "execution": {
     "iopub.execute_input": "2021-01-20T07:15:17.230971Z",
     "iopub.status.busy": "2021-01-20T07:15:17.230808Z",
     "iopub.status.idle": "2021-01-20T07:15:17.397701Z",
     "shell.execute_reply": "2021-01-20T07:15:17.397035Z",
     "shell.execute_reply.started": "2021-01-20T07:15:17.230951Z"
    }
   },
   "outputs": [
    {
     "data": {
      "image/png": "[encoded data removed]",
      "text/plain": [
       "<Figure size 288x288 with 1 Axes>"
      ]
     },
     "metadata": {
      "needs_background": "light"
     },
     "output_type": "display_data"
    }
   ],
   "source": [
    "ypred = (model.predict(Xtest)>0.5).astype('int')\n",
    "\n",
    "cm = confusion_matrix(ytest, ypred)\n",
    "cm = cm.astype('float') / cm.sum(axis=1)[:, np.newaxis]\n",
    "\n",
    "fig = plt.figure(figsize = (4, 4))\n",
    "ax = fig.add_subplot(111)\n",
    "\n",
    "for i in range(cm.shape[1]):\n",
    "    for j in range(cm.shape[0]):   \n",
    "        ax.text(j, i, format(cm[i, j], '.2f'), horizontalalignment=\"center\", color=\"black\")\n",
    "\n",
    "_ = ax.imshow(cm, cmap=plt.cm.Blues)\n",
    "ax.set_xticks(range(2))\n",
    "ax.set_yticks(range(2))\n",
    "ax.set_xticklabels(range(2))\n",
    "ax.set_yticklabels(range(2))\n",
    "plt.xlabel('Predicted')\n",
    "plt.ylabel('True')\n",
    "plt.show()\n"
   ]
  },
  {
   "cell_type": "markdown",
   "metadata": {},
   "source": [
    "# Plotting the metrics"
   ]
  },
  {
   "cell_type": "code",
   "execution_count": 19,
   "metadata": {
    "execution": {
     "iopub.execute_input": "2021-01-20T07:15:17.398623Z",
     "iopub.status.busy": "2021-01-20T07:15:17.398462Z",
     "iopub.status.idle": "2021-01-20T07:15:17.402600Z",
     "shell.execute_reply": "2021-01-20T07:15:17.401952Z",
     "shell.execute_reply.started": "2021-01-20T07:15:17.398605Z"
    }
   },
   "outputs": [],
   "source": [
    "def plot(history1, history2, variable1, variable2):\n",
    "    # combining metrics from both trainings    \n",
    "    var1_history = history1[variable1]\n",
    "    var1_history.extend(history2[variable1])\n",
    "    \n",
    "    var2_history = history1[variable2]\n",
    "    var2_history.extend(history2[variable2])\n",
    "    \n",
    "    # plotting them\n",
    "    plt.plot(range(len(var1_history)), var1_history)\n",
    "    plt.plot(range(len(var2_history)), var2_history)\n",
    "    plt.legend([variable1, variable2])\n",
    "    plt.title(variable1)"
   ]
  },
  {
   "cell_type": "code",
   "execution_count": 20,
   "metadata": {
    "execution": {
     "iopub.execute_input": "2021-01-20T07:15:17.403805Z",
     "iopub.status.busy": "2021-01-20T07:15:17.403580Z",
     "iopub.status.idle": "2021-01-20T07:15:17.512436Z",
     "shell.execute_reply": "2021-01-20T07:15:17.511738Z",
     "shell.execute_reply.started": "2021-01-20T07:15:17.403778Z"
    }
   },
   "outputs": [
    {
     "data": {
      "image/png": "[encoded data removed]",
      "text/plain": [
       "<Figure size 432x288 with 1 Axes>"
      ]
     },
     "metadata": {
      "needs_background": "light"
     },
     "output_type": "display_data"
    }
   ],
   "source": [
    "plot(history.history, history1.history, \"accuracy\", 'val_accuracy')"
   ]
  },
  {
   "cell_type": "code",
   "execution_count": 21,
   "metadata": {
    "execution": {
     "iopub.execute_input": "2021-01-20T07:15:17.513822Z",
     "iopub.status.busy": "2021-01-20T07:15:17.513580Z",
     "iopub.status.idle": "2021-01-20T07:15:17.636374Z",
     "shell.execute_reply": "2021-01-20T07:15:17.635732Z",
     "shell.execute_reply.started": "2021-01-20T07:15:17.513793Z"
    }
   },
   "outputs": [
    {
     "data": {
      "image/png": "[encoded data removed]",
      "text/plain": [
       "<Figure size 432x288 with 1 Axes>"
      ]
     },
     "metadata": {
      "needs_background": "light"
     },
     "output_type": "display_data"
    }
   ],
   "source": [
    "plot(history.history, history1.history, \"loss\", 'val_loss')"
   ]
  },
  {
   "cell_type": "markdown",
   "metadata": {},
   "source": [
    "# Prediction"
   ]
  },
  {
   "cell_type": "code",
   "execution_count": 22,
   "metadata": {
    "execution": {
     "iopub.execute_input": "2021-01-20T07:15:17.637740Z",
     "iopub.status.busy": "2021-01-20T07:15:17.637403Z",
     "iopub.status.idle": "2021-01-20T07:15:17.671627Z",
     "shell.execute_reply": "2021-01-20T07:15:17.671110Z",
     "shell.execute_reply.started": "2021-01-20T07:15:17.637707Z"
    }
   },
   "outputs": [
    {
     "name": "stdout",
     "output_type": "stream",
     "text": [
      "Predicted:  0 ( 0.00045516551 --> 0 )\n",
      "True:  0\n"
     ]
    }
   ],
   "source": [
    "# pick random test data sample from one batch\n",
    "x = random.randint(0, len(Xtest) - 1)\n",
    "\n",
    "output = model.predict(Xtest[x].reshape(1, -1))[0][0] \n",
    "pred = (output>0.5).astype('int')\n",
    "print(\"Predicted: \", pred, \"(\", output, \"-->\", pred, \")\")    \n",
    "\n",
    "print(\"True: \", ytest[x][0])"
   ]
  },
  {
   "cell_type": "markdown",
   "metadata": {},
   "source": [
    "# deepC"
   ]
  },
  {
   "cell_type": "code",
   "execution_count": 23,
   "metadata": {
    "execution": {
     "iopub.execute_input": "2021-01-20T07:15:17.674353Z",
     "iopub.status.busy": "2021-01-20T07:15:17.674190Z",
     "iopub.status.idle": "2021-01-20T07:15:24.977804Z",
     "shell.execute_reply": "2021-01-20T07:15:24.977083Z",
     "shell.execute_reply.started": "2021-01-20T07:15:17.674335Z"
    }
   },
   "outputs": [
    {
     "name": "stdout",
     "output_type": "stream",
     "text": [
      "\u001b[96m\u001b[1m[INFO]\u001b[0m\n",
      "Reading [keras model] 'financial_distress_prediction.h5'\n",
      "\u001b[92m\u001b[1m[SUCCESS]\u001b[0m\n",
      "Saved 'financial_distress_prediction.onnx'\n",
      "\u001b[96m\u001b[1m[INFO]\u001b[0m\n",
      "Reading [onnx model] 'financial_distress_prediction.onnx'\n",
      "\u001b[96m\u001b[1m[INFO]\u001b[0m\n",
      "Model info:\n",
      "  ir_vesion : 4\n",
      "  doc       : \n",
      "\u001b[93m\u001b[1m[WARNING]\u001b[0m\n",
      "[ONNX]: terminal (input/output) dense_input's shape is less than 1. Changing it to 1.\n",
      "\u001b[93m\u001b[1m[WARNING]\u001b[0m\n",
      "[ONNX]: terminal (input/output) dense_3's shape is less than 1. Changing it to 1.\n",
      "WARN (GRAPH): found operator node with the same name (dense_3) as io node.\n",
      "\u001b[96m\u001b[1m[INFO]\u001b[0m\n",
      "Running DNNC graph sanity check ...\n",
      "\u001b[92m\u001b[1m[SUCCESS]\u001b[0m\n",
      "Passed sanity check.\n",
      "\u001b[96m\u001b[1m[INFO]\u001b[0m\n",
      "Writing C++ file 'financial_distress_prediction_deepC/financial_distress_prediction.cpp'\n",
      "\u001b[96m\u001b[1m[INFO]\u001b[0m\n",
      "deepSea model files are ready in 'financial_distress_prediction_deepC/' \n",
      "\u001b[96m\u001b[1m[RUNNING COMMAND]\u001b[0m\n",
      "g++ -std=c++11 -O3 -fno-rtti -fno-exceptions -I. -I/opt/tljh/user/lib/python3.7/site-packages/deepC-0.13-py3.7-linux-x86_64.egg/deepC/include -isystem /opt/tljh/user/lib/python3.7/site-packages/deepC-0.13-py3.7-linux-x86_64.egg/deepC/packages/eigen-eigen-323c052e1731 financial_distress_prediction_deepC/financial_distress_prediction.cpp -o financial_distress_prediction_deepC/financial_distress_prediction.exe\n",
      "\u001b[96m\u001b[1m[RUNNING COMMAND]\u001b[0m\n",
      "size \"financial_distress_prediction_deepC/financial_distress_prediction.exe\"\n",
      "   text\t   data\t    bss\t    dec\t    hex\tfilename\n",
      " 118834\t 273120\t    760\t 392714\t  5fe0a\tfinancial_distress_prediction_deepC/financial_distress_prediction.exe\n",
      "\u001b[92m\u001b[1m[SUCCESS]\u001b[0m\n",
      "Saved model as executable \"financial_distress_prediction_deepC/financial_distress_prediction.exe\"\n"
     ]
    }
   ],
   "source": [
    "model.save('financial_distress_prediction.h5')\n",
    "\n",
    "!deepCC financial_distress_prediction.h5"
   ]
  },
  {
   "cell_type": "code",
   "execution_count": 24,
   "metadata": {
    "execution": {
     "iopub.execute_input": "2021-01-20T07:15:24.979771Z",
     "iopub.status.busy": "2021-01-20T07:15:24.979590Z",
     "iopub.status.idle": "2021-01-20T07:15:25.122131Z",
     "shell.execute_reply": "2021-01-20T07:15:25.121429Z",
     "shell.execute_reply.started": "2021-01-20T07:15:24.979749Z"
    }
   },
   "outputs": [
    {
     "name": "stdout",
     "output_type": "stream",
     "text": [
      "reading file sample.data.\n",
      "writing file deepSea_result_1.out.\n",
      "Predicted:  1 ( 0.955106 --> 1 )\n",
      "True:  1\n"
     ]
    }
   ],
   "source": [
    "# pick random test data sample from one batch\n",
    "x = random.randint(0, len(Xtest) - 1)\n",
    "\n",
    "np.savetxt('sample.data', Xtest[x])    # xth sample into text file\n",
    "\n",
    "# run exe with input\n",
    "!financial_distress_prediction_deepC/financial_distress_prediction.exe sample.data\n",
    "\n",
    "# show predicted output\n",
    "nn_out = np.loadtxt('deepSea_result_1.out')\n",
    "\n",
    "pred = (nn_out>0.5).astype('int')\n",
    "print(\"Predicted: \", pred, \"(\", nn_out, \"-->\", pred, \")\")    \n",
    "\n",
    "print(\"True: \", ytest[x][0])"
   ]
  }
 ],
 "metadata": {
  "kernelspec": {
   "display_name": "Python 3",
   "language": "python",
   "name": "python3"
  },
  "language_info": {
   "codemirror_mode": {
    "name": "ipython",
    "version": 3
   },
   "file_extension": ".py",
   "mimetype": "text/x-python",
   "name": "python",
   "nbconvert_exporter": "python",
   "pygments_lexer": "ipython3",
   "version": "3.7.3"
  }
 },
 "nbformat": 4,
 "nbformat_minor": 4
}
