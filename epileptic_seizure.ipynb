{
 "cells": [
  {
   "cell_type": "markdown",
   "metadata": {
    "_cell_guid": "79c7e3d0-c299-4dcb-8224-4455121ee9b0",
    "_uuid": "d629ff2d2480ee46fbb7e2d37f6b5fab8052498a",
    "execution": {
     "iopub.execute_input": "2020-11-18T03:25:31.953840Z",
     "iopub.status.busy": "2020-11-18T03:25:31.953590Z",
     "iopub.status.idle": "2020-11-18T03:25:33.260762Z",
     "shell.execute_reply": "2020-11-18T03:25:33.259846Z",
     "shell.execute_reply.started": "2020-11-18T03:25:31.953815Z"
    }
   },
   "source": [
    "# Epileptic Seizure Recognition\n",
    "\n",
    "**Credit: [AITS cainvas](http://cainvas.ai-tech.systems/) authors**\n",
    "\n",
    "![](https://cainvas-static.s3.amazonaws.com/media/user_data/cainvas-admin/epileptic_seizure.gif)\n",
    "\n",
    "A sudden rush of electric activity in the brain is called a seizure. Epilepsy is a chronic neurological disorder causing involuntory, recurrent seizures.\n",
    "\n",
    "Seizures can either be generalized (affecting the whole brain) or focussed (affecting one part of the brain).\n",
    "\n",
    "Deep learning can be used to detect and monitor seizures in patients and IoT provides an ease of integration with the existing health system and patient wearability."
   ]
  },
  {
   "cell_type": "code",
   "execution_count": 1,
   "metadata": {
    "execution": {
     "iopub.execute_input": "2020-11-20T09:09:04.383417Z",
     "iopub.status.busy": "2020-11-20T09:09:04.383220Z",
     "iopub.status.idle": "2020-11-20T09:09:06.579306Z",
     "shell.execute_reply": "2020-11-20T09:09:06.578565Z",
     "shell.execute_reply.started": "2020-11-20T09:09:04.383392Z"
    }
   },
   "outputs": [],
   "source": [
    "import numpy as np\n",
    "import pandas as pd\n",
    "from keras.models import Sequential\n",
    "from keras.layers import Dense, Dropout, LSTM\n",
    "from keras.optimizers import Adam, SGD\n",
    "from keras.callbacks import EarlyStopping\n",
    "from sklearn.model_selection import train_test_split\n",
    "from sklearn.preprocessing import StandardScaler\n",
    "from sklearn.metrics import confusion_matrix\n",
    "import random\n",
    "import matplotlib.pyplot as plt"
   ]
  },
  {
   "cell_type": "markdown",
   "metadata": {},
   "source": [
    "# The dataset\n",
    "\n",
    ">Andrzejak RG, Lehnertz K, Rieke C, Mormann F, David P, Elger CE (2001) Indications of nonlinear deterministic and finite dimensional structures in time series of brain electrical activity: Dependence on recording region and brain state, Phys. Rev. E, 64, 061907\n",
    "\n",
    "The CSV file consists of processed EEG recordings of patients at different points of time.\n",
    "\n",
    "The original dataset has 5 different folders, each with 100 files, with each file representing a single subject/person. Each file is a recording of brain activity for 23.6 seconds. The corresponding time-series is sampled into 4097 data points. This was then divided and shuffled into 23 chunks, each chunk containing 178 data points for 1 second, and each data point is the value of the EEG recording at a different point in time. Thus, we have 23 x 500 = 11500 pieces of information, each information contains 178 data points for 1 second.\n",
    "\n",
    "The last column contains the categorical variable with the following values - \n",
    "\n",
    "* 5 - Recording the EEG signal of the brain when the patient had their eyes open\n",
    "\n",
    "* 4 - Recording the EEG signal when the patient had their eyes closed\n",
    "\n",
    "* 3 - Recording the EEG activity from the healthy brain area\n",
    "\n",
    "* 2 - Recordering the EEG from the area where the tumor was located\n",
    "\n",
    "* 1 - Recording of seizure activity\n",
    "\n",
    "Here, only label 1 corresponds to seizure activity.\n",
    "\n",
    "We will be training the model to identify patients with seizure activity against the rest of the classes."
   ]
  },
  {
   "cell_type": "code",
   "execution_count": 2,
   "metadata": {
    "execution": {
     "iopub.execute_input": "2020-11-20T09:09:06.580732Z",
     "iopub.status.busy": "2020-11-20T09:09:06.580537Z",
     "iopub.status.idle": "2020-11-20T09:09:06.970713Z",
     "shell.execute_reply": "2020-11-20T09:09:06.969938Z",
     "shell.execute_reply.started": "2020-11-20T09:09:06.580704Z"
    }
   },
   "outputs": [
    {
     "data": {
      "text/html": [
       "<div>\n",
       "<style scoped>\n",
       "    .dataframe tbody tr th:only-of-type {\n",
       "        vertical-align: middle;\n",
       "    }\n",
       "\n",
       "    .dataframe tbody tr th {\n",
       "        vertical-align: top;\n",
       "    }\n",
       "\n",
       "    .dataframe thead th {\n",
       "        text-align: right;\n",
       "    }\n",
       "</style>\n",
       "<table border=\"1\" class=\"dataframe\">\n",
       "  <thead>\n",
       "    <tr style=\"text-align: right;\">\n",
       "      <th></th>\n",
       "      <th>Unnamed</th>\n",
       "      <th>X1</th>\n",
       "      <th>X2</th>\n",
       "      <th>X3</th>\n",
       "      <th>X4</th>\n",
       "      <th>X5</th>\n",
       "      <th>X6</th>\n",
       "      <th>X7</th>\n",
       "      <th>X8</th>\n",
       "      <th>X9</th>\n",
       "      <th>...</th>\n",
       "      <th>X170</th>\n",
       "      <th>X171</th>\n",
       "      <th>X172</th>\n",
       "      <th>X173</th>\n",
       "      <th>X174</th>\n",
       "      <th>X175</th>\n",
       "      <th>X176</th>\n",
       "      <th>X177</th>\n",
       "      <th>X178</th>\n",
       "      <th>y</th>\n",
       "    </tr>\n",
       "  </thead>\n",
       "  <tbody>\n",
       "    <tr>\n",
       "      <th>0</th>\n",
       "      <td>X21.V1.791</td>\n",
       "      <td>135</td>\n",
       "      <td>190</td>\n",
       "      <td>229</td>\n",
       "      <td>223</td>\n",
       "      <td>192</td>\n",
       "      <td>125</td>\n",
       "      <td>55</td>\n",
       "      <td>-9</td>\n",
       "      <td>-33</td>\n",
       "      <td>...</td>\n",
       "      <td>-17</td>\n",
       "      <td>-15</td>\n",
       "      <td>-31</td>\n",
       "      <td>-77</td>\n",
       "      <td>-103</td>\n",
       "      <td>-127</td>\n",
       "      <td>-116</td>\n",
       "      <td>-83</td>\n",
       "      <td>-51</td>\n",
       "      <td>4</td>\n",
       "    </tr>\n",
       "    <tr>\n",
       "      <th>1</th>\n",
       "      <td>X15.V1.924</td>\n",
       "      <td>386</td>\n",
       "      <td>382</td>\n",
       "      <td>356</td>\n",
       "      <td>331</td>\n",
       "      <td>320</td>\n",
       "      <td>315</td>\n",
       "      <td>307</td>\n",
       "      <td>272</td>\n",
       "      <td>244</td>\n",
       "      <td>...</td>\n",
       "      <td>164</td>\n",
       "      <td>150</td>\n",
       "      <td>146</td>\n",
       "      <td>152</td>\n",
       "      <td>157</td>\n",
       "      <td>156</td>\n",
       "      <td>154</td>\n",
       "      <td>143</td>\n",
       "      <td>129</td>\n",
       "      <td>1</td>\n",
       "    </tr>\n",
       "    <tr>\n",
       "      <th>2</th>\n",
       "      <td>X8.V1.1</td>\n",
       "      <td>-32</td>\n",
       "      <td>-39</td>\n",
       "      <td>-47</td>\n",
       "      <td>-37</td>\n",
       "      <td>-32</td>\n",
       "      <td>-36</td>\n",
       "      <td>-57</td>\n",
       "      <td>-73</td>\n",
       "      <td>-85</td>\n",
       "      <td>...</td>\n",
       "      <td>57</td>\n",
       "      <td>64</td>\n",
       "      <td>48</td>\n",
       "      <td>19</td>\n",
       "      <td>-12</td>\n",
       "      <td>-30</td>\n",
       "      <td>-35</td>\n",
       "      <td>-35</td>\n",
       "      <td>-36</td>\n",
       "      <td>5</td>\n",
       "    </tr>\n",
       "    <tr>\n",
       "      <th>3</th>\n",
       "      <td>X16.V1.60</td>\n",
       "      <td>-105</td>\n",
       "      <td>-101</td>\n",
       "      <td>-96</td>\n",
       "      <td>-92</td>\n",
       "      <td>-89</td>\n",
       "      <td>-95</td>\n",
       "      <td>-102</td>\n",
       "      <td>-100</td>\n",
       "      <td>-87</td>\n",
       "      <td>...</td>\n",
       "      <td>-82</td>\n",
       "      <td>-81</td>\n",
       "      <td>-80</td>\n",
       "      <td>-77</td>\n",
       "      <td>-85</td>\n",
       "      <td>-77</td>\n",
       "      <td>-72</td>\n",
       "      <td>-69</td>\n",
       "      <td>-65</td>\n",
       "      <td>5</td>\n",
       "    </tr>\n",
       "    <tr>\n",
       "      <th>4</th>\n",
       "      <td>X20.V1.54</td>\n",
       "      <td>-9</td>\n",
       "      <td>-65</td>\n",
       "      <td>-98</td>\n",
       "      <td>-102</td>\n",
       "      <td>-78</td>\n",
       "      <td>-48</td>\n",
       "      <td>-16</td>\n",
       "      <td>0</td>\n",
       "      <td>-21</td>\n",
       "      <td>...</td>\n",
       "      <td>4</td>\n",
       "      <td>2</td>\n",
       "      <td>-12</td>\n",
       "      <td>-32</td>\n",
       "      <td>-41</td>\n",
       "      <td>-65</td>\n",
       "      <td>-83</td>\n",
       "      <td>-89</td>\n",
       "      <td>-73</td>\n",
       "      <td>5</td>\n",
       "    </tr>\n",
       "    <tr>\n",
       "      <th>...</th>\n",
       "      <td>...</td>\n",
       "      <td>...</td>\n",
       "      <td>...</td>\n",
       "      <td>...</td>\n",
       "      <td>...</td>\n",
       "      <td>...</td>\n",
       "      <td>...</td>\n",
       "      <td>...</td>\n",
       "      <td>...</td>\n",
       "      <td>...</td>\n",
       "      <td>...</td>\n",
       "      <td>...</td>\n",
       "      <td>...</td>\n",
       "      <td>...</td>\n",
       "      <td>...</td>\n",
       "      <td>...</td>\n",
       "      <td>...</td>\n",
       "      <td>...</td>\n",
       "      <td>...</td>\n",
       "      <td>...</td>\n",
       "      <td>...</td>\n",
       "    </tr>\n",
       "    <tr>\n",
       "      <th>11495</th>\n",
       "      <td>X22.V1.114</td>\n",
       "      <td>-22</td>\n",
       "      <td>-22</td>\n",
       "      <td>-23</td>\n",
       "      <td>-26</td>\n",
       "      <td>-36</td>\n",
       "      <td>-42</td>\n",
       "      <td>-45</td>\n",
       "      <td>-42</td>\n",
       "      <td>-45</td>\n",
       "      <td>...</td>\n",
       "      <td>15</td>\n",
       "      <td>16</td>\n",
       "      <td>12</td>\n",
       "      <td>5</td>\n",
       "      <td>-1</td>\n",
       "      <td>-18</td>\n",
       "      <td>-37</td>\n",
       "      <td>-47</td>\n",
       "      <td>-48</td>\n",
       "      <td>2</td>\n",
       "    </tr>\n",
       "    <tr>\n",
       "      <th>11496</th>\n",
       "      <td>X19.V1.354</td>\n",
       "      <td>-47</td>\n",
       "      <td>-11</td>\n",
       "      <td>28</td>\n",
       "      <td>77</td>\n",
       "      <td>141</td>\n",
       "      <td>211</td>\n",
       "      <td>246</td>\n",
       "      <td>240</td>\n",
       "      <td>193</td>\n",
       "      <td>...</td>\n",
       "      <td>-65</td>\n",
       "      <td>-33</td>\n",
       "      <td>-7</td>\n",
       "      <td>14</td>\n",
       "      <td>27</td>\n",
       "      <td>48</td>\n",
       "      <td>77</td>\n",
       "      <td>117</td>\n",
       "      <td>170</td>\n",
       "      <td>1</td>\n",
       "    </tr>\n",
       "    <tr>\n",
       "      <th>11497</th>\n",
       "      <td>X8.V1.28</td>\n",
       "      <td>14</td>\n",
       "      <td>6</td>\n",
       "      <td>-13</td>\n",
       "      <td>-16</td>\n",
       "      <td>10</td>\n",
       "      <td>26</td>\n",
       "      <td>27</td>\n",
       "      <td>-9</td>\n",
       "      <td>4</td>\n",
       "      <td>...</td>\n",
       "      <td>-65</td>\n",
       "      <td>-48</td>\n",
       "      <td>-61</td>\n",
       "      <td>-62</td>\n",
       "      <td>-67</td>\n",
       "      <td>-30</td>\n",
       "      <td>-2</td>\n",
       "      <td>-1</td>\n",
       "      <td>-8</td>\n",
       "      <td>5</td>\n",
       "    </tr>\n",
       "    <tr>\n",
       "      <th>11498</th>\n",
       "      <td>X10.V1.932</td>\n",
       "      <td>-40</td>\n",
       "      <td>-25</td>\n",
       "      <td>-9</td>\n",
       "      <td>-12</td>\n",
       "      <td>-2</td>\n",
       "      <td>12</td>\n",
       "      <td>7</td>\n",
       "      <td>19</td>\n",
       "      <td>22</td>\n",
       "      <td>...</td>\n",
       "      <td>121</td>\n",
       "      <td>135</td>\n",
       "      <td>148</td>\n",
       "      <td>143</td>\n",
       "      <td>116</td>\n",
       "      <td>86</td>\n",
       "      <td>68</td>\n",
       "      <td>59</td>\n",
       "      <td>55</td>\n",
       "      <td>3</td>\n",
       "    </tr>\n",
       "    <tr>\n",
       "      <th>11499</th>\n",
       "      <td>X16.V1.210</td>\n",
       "      <td>29</td>\n",
       "      <td>41</td>\n",
       "      <td>57</td>\n",
       "      <td>72</td>\n",
       "      <td>74</td>\n",
       "      <td>62</td>\n",
       "      <td>54</td>\n",
       "      <td>43</td>\n",
       "      <td>31</td>\n",
       "      <td>...</td>\n",
       "      <td>-59</td>\n",
       "      <td>-25</td>\n",
       "      <td>-4</td>\n",
       "      <td>2</td>\n",
       "      <td>5</td>\n",
       "      <td>4</td>\n",
       "      <td>-2</td>\n",
       "      <td>2</td>\n",
       "      <td>20</td>\n",
       "      <td>4</td>\n",
       "    </tr>\n",
       "  </tbody>\n",
       "</table>\n",
       "<p>11500 rows × 180 columns</p>\n",
       "</div>"
      ],
      "text/plain": [
       "          Unnamed   X1   X2   X3   X4   X5   X6   X7   X8   X9  ...  X170  \\\n",
       "0      X21.V1.791  135  190  229  223  192  125   55   -9  -33  ...   -17   \n",
       "1      X15.V1.924  386  382  356  331  320  315  307  272  244  ...   164   \n",
       "2         X8.V1.1  -32  -39  -47  -37  -32  -36  -57  -73  -85  ...    57   \n",
       "3       X16.V1.60 -105 -101  -96  -92  -89  -95 -102 -100  -87  ...   -82   \n",
       "4       X20.V1.54   -9  -65  -98 -102  -78  -48  -16    0  -21  ...     4   \n",
       "...           ...  ...  ...  ...  ...  ...  ...  ...  ...  ...  ...   ...   \n",
       "11495  X22.V1.114  -22  -22  -23  -26  -36  -42  -45  -42  -45  ...    15   \n",
       "11496  X19.V1.354  -47  -11   28   77  141  211  246  240  193  ...   -65   \n",
       "11497    X8.V1.28   14    6  -13  -16   10   26   27   -9    4  ...   -65   \n",
       "11498  X10.V1.932  -40  -25   -9  -12   -2   12    7   19   22  ...   121   \n",
       "11499  X16.V1.210   29   41   57   72   74   62   54   43   31  ...   -59   \n",
       "\n",
       "       X171  X172  X173  X174  X175  X176  X177  X178  y  \n",
       "0       -15   -31   -77  -103  -127  -116   -83   -51  4  \n",
       "1       150   146   152   157   156   154   143   129  1  \n",
       "2        64    48    19   -12   -30   -35   -35   -36  5  \n",
       "3       -81   -80   -77   -85   -77   -72   -69   -65  5  \n",
       "4         2   -12   -32   -41   -65   -83   -89   -73  5  \n",
       "...     ...   ...   ...   ...   ...   ...   ...   ... ..  \n",
       "11495    16    12     5    -1   -18   -37   -47   -48  2  \n",
       "11496   -33    -7    14    27    48    77   117   170  1  \n",
       "11497   -48   -61   -62   -67   -30    -2    -1    -8  5  \n",
       "11498   135   148   143   116    86    68    59    55  3  \n",
       "11499   -25    -4     2     5     4    -2     2    20  4  \n",
       "\n",
       "[11500 rows x 180 columns]"
      ]
     },
     "execution_count": 2,
     "metadata": {},
     "output_type": "execute_result"
    }
   ],
   "source": [
    "df = pd.read_csv('https://cainvas-static.s3.amazonaws.com/media/user_data/cainvas-admin/Epileptic_Seizure_Recognition.csv')\n",
    "df"
   ]
  },
  {
   "cell_type": "markdown",
   "metadata": {},
   "source": [
    "As we will be classifying samples into two categories, epileptic (label 1) and non-epileptic (labels 2, 3, 4, 5), we will change the labels in the dataframe."
   ]
  },
  {
   "cell_type": "code",
   "execution_count": 3,
   "metadata": {
    "execution": {
     "iopub.execute_input": "2020-11-20T09:09:06.971884Z",
     "iopub.status.busy": "2020-11-20T09:09:06.971671Z",
     "iopub.status.idle": "2020-11-20T09:09:06.980440Z",
     "shell.execute_reply": "2020-11-20T09:09:06.979614Z",
     "shell.execute_reply.started": "2020-11-20T09:09:06.971859Z"
    }
   },
   "outputs": [
    {
     "data": {
      "text/plain": [
       "0        0\n",
       "1        1\n",
       "2        0\n",
       "3        0\n",
       "4        0\n",
       "        ..\n",
       "11495    0\n",
       "11496    1\n",
       "11497    0\n",
       "11498    0\n",
       "11499    0\n",
       "Name: y, Length: 11500, dtype: int64"
      ]
     },
     "execution_count": 3,
     "metadata": {},
     "output_type": "execute_result"
    }
   ],
   "source": [
    "df['y'] = (df['y'] ==1).astype('int')\n",
    "df['y']"
   ]
  },
  {
   "cell_type": "code",
   "execution_count": 4,
   "metadata": {
    "execution": {
     "iopub.execute_input": "2020-11-20T09:09:06.981518Z",
     "iopub.status.busy": "2020-11-20T09:09:06.981326Z",
     "iopub.status.idle": "2020-11-20T09:09:06.988572Z",
     "shell.execute_reply": "2020-11-20T09:09:06.987839Z",
     "shell.execute_reply.started": "2020-11-20T09:09:06.981494Z"
    }
   },
   "outputs": [
    {
     "data": {
      "text/plain": [
       "0    9200\n",
       "1    2300\n",
       "Name: y, dtype: int64"
      ]
     },
     "execution_count": 4,
     "metadata": {},
     "output_type": "execute_result"
    }
   ],
   "source": [
    "# The spread of labels in the dataframe\n",
    "df['y'].value_counts()"
   ]
  },
  {
   "cell_type": "markdown",
   "metadata": {},
   "source": [
    "This is an unbalanced dataest. "
   ]
  },
  {
   "cell_type": "code",
   "execution_count": 5,
   "metadata": {
    "execution": {
     "iopub.execute_input": "2020-11-20T09:09:06.989660Z",
     "iopub.status.busy": "2020-11-20T09:09:06.989463Z",
     "iopub.status.idle": "2020-11-20T09:09:06.993303Z",
     "shell.execute_reply": "2020-11-20T09:09:06.992398Z",
     "shell.execute_reply.started": "2020-11-20T09:09:06.989636Z"
    }
   },
   "outputs": [],
   "source": [
    "# Defining a list with class names corresponding to list indices\n",
    "class_names = ['Non-epileptic', 'Epileptic']"
   ]
  },
  {
   "cell_type": "markdown",
   "metadata": {},
   "source": [
    "# Preprocessing"
   ]
  },
  {
   "cell_type": "markdown",
   "metadata": {},
   "source": [
    "## Resampling\n",
    "\n",
    "In order to balance the dataset, there are two options,\n",
    "\n",
    "* upsampling - resample the values to make their count equal to the class label with the higher count (here, 9200).\n",
    "* downsampling - pick n samples from each class label where n = number of samples in class with least count (here, 2300)\n",
    "\n",
    "Here, we will be upsampling."
   ]
  },
  {
   "cell_type": "code",
   "execution_count": 6,
   "metadata": {
    "execution": {
     "iopub.execute_input": "2020-11-20T09:09:06.994600Z",
     "iopub.status.busy": "2020-11-20T09:09:06.994317Z",
     "iopub.status.idle": "2020-11-20T09:09:07.006013Z",
     "shell.execute_reply": "2020-11-20T09:09:07.005223Z",
     "shell.execute_reply.started": "2020-11-20T09:09:06.994571Z"
    }
   },
   "outputs": [],
   "source": [
    "# separating into 2 dataframes, one for each class \n",
    "\n",
    "df1 = df[df['y'] == 1]\n",
    "df0 = df[df['y'] == 0]"
   ]
  },
  {
   "cell_type": "code",
   "execution_count": 7,
   "metadata": {
    "execution": {
     "iopub.execute_input": "2020-11-20T09:09:07.008585Z",
     "iopub.status.busy": "2020-11-20T09:09:07.008396Z",
     "iopub.status.idle": "2020-11-20T09:09:07.024005Z",
     "shell.execute_reply": "2020-11-20T09:09:07.022445Z",
     "shell.execute_reply.started": "2020-11-20T09:09:07.008560Z"
    }
   },
   "outputs": [
    {
     "name": "stdout",
     "output_type": "stream",
     "text": [
      "Number of samples in:\n",
      "Class label 0 -  9200\n",
      "Class label 1 -  2300\n",
      "\n",
      "After resampling - \n",
      "Number of samples in:\n",
      "Class label 0 -  9200\n",
      "Class label 1 -  9200\n"
     ]
    }
   ],
   "source": [
    "print(\"Number of samples in:\")\n",
    "print(\"Class label 0 - \", len(df0))\n",
    "print(\"Class label 1 - \", len(df1))\n",
    "\n",
    "# Upsampling \n",
    "\n",
    "df1 = df1.sample(len(df0), replace = True)    # replace = True enables resampling\n",
    "\n",
    "print('\\nAfter resampling - ')\n",
    "\n",
    "print(\"Number of samples in:\")\n",
    "print(\"Class label 0 - \", len(df0))\n",
    "print(\"Class label 1 - \", len(df1))"
   ]
  },
  {
   "cell_type": "code",
   "execution_count": 8,
   "metadata": {
    "execution": {
     "iopub.execute_input": "2020-11-20T09:09:07.025669Z",
     "iopub.status.busy": "2020-11-20T09:09:07.025474Z",
     "iopub.status.idle": "2020-11-20T09:09:07.038896Z",
     "shell.execute_reply": "2020-11-20T09:09:07.038112Z",
     "shell.execute_reply.started": "2020-11-20T09:09:07.025645Z"
    }
   },
   "outputs": [
    {
     "name": "stdout",
     "output_type": "stream",
     "text": [
      "Total number of samples -  18400\n"
     ]
    }
   ],
   "source": [
    "# concatente to form a single dataframe\n",
    "\n",
    "df = df0.append(df1)\n",
    "\n",
    "print('Total number of samples - ', len(df))"
   ]
  },
  {
   "cell_type": "code",
   "execution_count": 9,
   "metadata": {
    "execution": {
     "iopub.execute_input": "2020-11-20T09:09:07.040124Z",
     "iopub.status.busy": "2020-11-20T09:09:07.039931Z",
     "iopub.status.idle": "2020-11-20T09:09:07.045541Z",
     "shell.execute_reply": "2020-11-20T09:09:07.044733Z",
     "shell.execute_reply.started": "2020-11-20T09:09:07.040100Z"
    }
   },
   "outputs": [
    {
     "name": "stdout",
     "output_type": "stream",
     "text": [
      "Number of input columns:  178\n",
      "Number of output columns:  1\n"
     ]
    }
   ],
   "source": [
    "# defining the input and output columns to separate the dataset in the later cells.\n",
    "\n",
    "input_columns = list(df.columns[1:-1])    # exculding the first 'Unnamed' column\n",
    "output_columns = list(df.columns[-1])\n",
    "\n",
    "print(\"Number of input columns: \", len(input_columns))\n",
    "#print(\"Input columns: \", ', '.join(input_columns))\n",
    "\n",
    "print(\"Number of output columns: \", len(output_columns))\n",
    "#print(\"Output columns: \", ', '.join(output_columns))"
   ]
  },
  {
   "cell_type": "markdown",
   "metadata": {},
   "source": [
    "## Train test split"
   ]
  },
  {
   "cell_type": "code",
   "execution_count": 10,
   "metadata": {
    "execution": {
     "iopub.execute_input": "2020-11-20T09:09:07.046746Z",
     "iopub.status.busy": "2020-11-20T09:09:07.046545Z",
     "iopub.status.idle": "2020-11-20T09:09:07.073489Z",
     "shell.execute_reply": "2020-11-20T09:09:07.072705Z",
     "shell.execute_reply.started": "2020-11-20T09:09:07.046721Z"
    }
   },
   "outputs": [
    {
     "name": "stdout",
     "output_type": "stream",
     "text": [
      "Number of samples in...\n",
      "Training set:  14720\n",
      "Validation set:  1840\n",
      "Testing set:  1840\n"
     ]
    }
   ],
   "source": [
    "# Splitting into train, val and test set -- 80-10-10 split\n",
    "\n",
    "# First, an 80-20 split\n",
    "train_df, val_test_df = train_test_split(df, test_size = 0.2)\n",
    "\n",
    "# Then split the 20% into half\n",
    "val_df, test_df = train_test_split(val_test_df, test_size = 0.5)\n",
    "\n",
    "print(\"Number of samples in...\")\n",
    "print(\"Training set: \", len(train_df))\n",
    "print(\"Validation set: \", len(val_df))\n",
    "print(\"Testing set: \", len(test_df))"
   ]
  },
  {
   "cell_type": "code",
   "execution_count": 11,
   "metadata": {
    "execution": {
     "iopub.execute_input": "2020-11-20T09:09:07.074537Z",
     "iopub.status.busy": "2020-11-20T09:09:07.074347Z",
     "iopub.status.idle": "2020-11-20T09:09:07.096465Z",
     "shell.execute_reply": "2020-11-20T09:09:07.095664Z",
     "shell.execute_reply.started": "2020-11-20T09:09:07.074513Z"
    }
   },
   "outputs": [],
   "source": [
    "# Splitting into X (input) and y (output)\n",
    "\n",
    "Xtrain, ytrain = np.array(train_df[input_columns]), np.array(train_df[output_columns])\n",
    "\n",
    "Xval, yval = np.array(val_df[input_columns]), np.array(val_df[output_columns])\n",
    "\n",
    "Xtest, ytest = np.array(test_df[input_columns]), np.array(test_df[output_columns])"
   ]
  },
  {
   "cell_type": "markdown",
   "metadata": {},
   "source": [
    "## Scaling"
   ]
  },
  {
   "cell_type": "code",
   "execution_count": 12,
   "metadata": {
    "execution": {
     "iopub.execute_input": "2020-11-20T09:09:07.097472Z",
     "iopub.status.busy": "2020-11-20T09:09:07.097278Z",
     "iopub.status.idle": "2020-11-20T09:09:07.609496Z",
     "shell.execute_reply": "2020-11-20T09:09:07.608691Z",
     "shell.execute_reply.started": "2020-11-20T09:09:07.097447Z"
    }
   },
   "outputs": [
    {
     "data": {
      "text/html": [
       "<div>\n",
       "<style scoped>\n",
       "    .dataframe tbody tr th:only-of-type {\n",
       "        vertical-align: middle;\n",
       "    }\n",
       "\n",
       "    .dataframe tbody tr th {\n",
       "        vertical-align: top;\n",
       "    }\n",
       "\n",
       "    .dataframe thead th {\n",
       "        text-align: right;\n",
       "    }\n",
       "</style>\n",
       "<table border=\"1\" class=\"dataframe\">\n",
       "  <thead>\n",
       "    <tr style=\"text-align: right;\">\n",
       "      <th></th>\n",
       "      <th>X1</th>\n",
       "      <th>X2</th>\n",
       "      <th>X3</th>\n",
       "      <th>X4</th>\n",
       "      <th>X5</th>\n",
       "      <th>X6</th>\n",
       "      <th>X7</th>\n",
       "      <th>X8</th>\n",
       "      <th>X9</th>\n",
       "      <th>X10</th>\n",
       "      <th>...</th>\n",
       "      <th>X170</th>\n",
       "      <th>X171</th>\n",
       "      <th>X172</th>\n",
       "      <th>X173</th>\n",
       "      <th>X174</th>\n",
       "      <th>X175</th>\n",
       "      <th>X176</th>\n",
       "      <th>X177</th>\n",
       "      <th>X178</th>\n",
       "      <th>y</th>\n",
       "    </tr>\n",
       "  </thead>\n",
       "  <tbody>\n",
       "    <tr>\n",
       "      <th>count</th>\n",
       "      <td>18400.000000</td>\n",
       "      <td>18400.000000</td>\n",
       "      <td>18400.000000</td>\n",
       "      <td>18400.000000</td>\n",
       "      <td>18400.000000</td>\n",
       "      <td>18400.000000</td>\n",
       "      <td>18400.000000</td>\n",
       "      <td>18400.000000</td>\n",
       "      <td>18400.000000</td>\n",
       "      <td>18400.000000</td>\n",
       "      <td>...</td>\n",
       "      <td>18400.000000</td>\n",
       "      <td>18400.000000</td>\n",
       "      <td>18400.000000</td>\n",
       "      <td>18400.000000</td>\n",
       "      <td>18400.000000</td>\n",
       "      <td>18400.000000</td>\n",
       "      <td>18400.000000</td>\n",
       "      <td>18400.000000</td>\n",
       "      <td>18400.000000</td>\n",
       "      <td>18400.000000</td>\n",
       "    </tr>\n",
       "    <tr>\n",
       "      <th>mean</th>\n",
       "      <td>-16.423478</td>\n",
       "      <td>-15.420217</td>\n",
       "      <td>-13.744402</td>\n",
       "      <td>-10.867174</td>\n",
       "      <td>-7.534348</td>\n",
       "      <td>-3.983315</td>\n",
       "      <td>-1.593261</td>\n",
       "      <td>-0.992174</td>\n",
       "      <td>-0.174293</td>\n",
       "      <td>1.223152</td>\n",
       "      <td>...</td>\n",
       "      <td>-9.609674</td>\n",
       "      <td>-11.669565</td>\n",
       "      <td>-14.031250</td>\n",
       "      <td>-15.722120</td>\n",
       "      <td>-16.455109</td>\n",
       "      <td>-17.653750</td>\n",
       "      <td>-18.530217</td>\n",
       "      <td>-19.055109</td>\n",
       "      <td>-18.657554</td>\n",
       "      <td>0.500000</td>\n",
       "    </tr>\n",
       "    <tr>\n",
       "      <th>std</th>\n",
       "      <td>253.121410</td>\n",
       "      <td>253.967051</td>\n",
       "      <td>248.293399</td>\n",
       "      <td>244.203246</td>\n",
       "      <td>244.263865</td>\n",
       "      <td>244.029898</td>\n",
       "      <td>243.370302</td>\n",
       "      <td>245.397527</td>\n",
       "      <td>247.037571</td>\n",
       "      <td>244.039349</td>\n",
       "      <td>...</td>\n",
       "      <td>251.341250</td>\n",
       "      <td>254.416146</td>\n",
       "      <td>257.854858</td>\n",
       "      <td>256.498574</td>\n",
       "      <td>252.614495</td>\n",
       "      <td>246.130211</td>\n",
       "      <td>243.512194</td>\n",
       "      <td>244.185827</td>\n",
       "      <td>245.145107</td>\n",
       "      <td>0.500014</td>\n",
       "    </tr>\n",
       "    <tr>\n",
       "      <th>min</th>\n",
       "      <td>-1839.000000</td>\n",
       "      <td>-1838.000000</td>\n",
       "      <td>-1835.000000</td>\n",
       "      <td>-1845.000000</td>\n",
       "      <td>-1791.000000</td>\n",
       "      <td>-1757.000000</td>\n",
       "      <td>-1832.000000</td>\n",
       "      <td>-1778.000000</td>\n",
       "      <td>-1840.000000</td>\n",
       "      <td>-1867.000000</td>\n",
       "      <td>...</td>\n",
       "      <td>-1867.000000</td>\n",
       "      <td>-1865.000000</td>\n",
       "      <td>-1642.000000</td>\n",
       "      <td>-1723.000000</td>\n",
       "      <td>-1866.000000</td>\n",
       "      <td>-1863.000000</td>\n",
       "      <td>-1781.000000</td>\n",
       "      <td>-1727.000000</td>\n",
       "      <td>-1829.000000</td>\n",
       "      <td>0.000000</td>\n",
       "    </tr>\n",
       "    <tr>\n",
       "      <th>25%</th>\n",
       "      <td>-83.000000</td>\n",
       "      <td>-83.000000</td>\n",
       "      <td>-82.000000</td>\n",
       "      <td>-81.000000</td>\n",
       "      <td>-81.000000</td>\n",
       "      <td>-76.000000</td>\n",
       "      <td>-77.000000</td>\n",
       "      <td>-75.000000</td>\n",
       "      <td>-75.000000</td>\n",
       "      <td>-73.000000</td>\n",
       "      <td>...</td>\n",
       "      <td>-82.000000</td>\n",
       "      <td>-82.000000</td>\n",
       "      <td>-82.000000</td>\n",
       "      <td>-83.250000</td>\n",
       "      <td>-84.000000</td>\n",
       "      <td>-84.000000</td>\n",
       "      <td>-85.000000</td>\n",
       "      <td>-84.000000</td>\n",
       "      <td>-85.000000</td>\n",
       "      <td>0.000000</td>\n",
       "    </tr>\n",
       "    <tr>\n",
       "      <th>50%</th>\n",
       "      <td>-9.000000</td>\n",
       "      <td>-9.000000</td>\n",
       "      <td>-8.000000</td>\n",
       "      <td>-7.000000</td>\n",
       "      <td>-9.000000</td>\n",
       "      <td>-8.000000</td>\n",
       "      <td>-7.000000</td>\n",
       "      <td>-7.000000</td>\n",
       "      <td>-5.000000</td>\n",
       "      <td>-4.000000</td>\n",
       "      <td>...</td>\n",
       "      <td>-9.000000</td>\n",
       "      <td>-10.000000</td>\n",
       "      <td>-11.000000</td>\n",
       "      <td>-10.000000</td>\n",
       "      <td>-10.000000</td>\n",
       "      <td>-10.000000</td>\n",
       "      <td>-11.000000</td>\n",
       "      <td>-11.000000</td>\n",
       "      <td>-11.000000</td>\n",
       "      <td>0.500000</td>\n",
       "    </tr>\n",
       "    <tr>\n",
       "      <th>75%</th>\n",
       "      <td>57.000000</td>\n",
       "      <td>58.000000</td>\n",
       "      <td>59.000000</td>\n",
       "      <td>60.000000</td>\n",
       "      <td>62.000000</td>\n",
       "      <td>63.000000</td>\n",
       "      <td>63.000000</td>\n",
       "      <td>65.000000</td>\n",
       "      <td>66.000000</td>\n",
       "      <td>67.000000</td>\n",
       "      <td>...</td>\n",
       "      <td>59.000000</td>\n",
       "      <td>59.000000</td>\n",
       "      <td>58.000000</td>\n",
       "      <td>59.000000</td>\n",
       "      <td>58.000000</td>\n",
       "      <td>57.000000</td>\n",
       "      <td>55.000000</td>\n",
       "      <td>54.000000</td>\n",
       "      <td>53.000000</td>\n",
       "      <td>1.000000</td>\n",
       "    </tr>\n",
       "    <tr>\n",
       "      <th>max</th>\n",
       "      <td>1726.000000</td>\n",
       "      <td>1713.000000</td>\n",
       "      <td>1697.000000</td>\n",
       "      <td>1612.000000</td>\n",
       "      <td>1518.000000</td>\n",
       "      <td>1816.000000</td>\n",
       "      <td>2047.000000</td>\n",
       "      <td>2047.000000</td>\n",
       "      <td>2047.000000</td>\n",
       "      <td>2047.000000</td>\n",
       "      <td>...</td>\n",
       "      <td>1777.000000</td>\n",
       "      <td>1472.000000</td>\n",
       "      <td>1319.000000</td>\n",
       "      <td>1436.000000</td>\n",
       "      <td>1733.000000</td>\n",
       "      <td>1958.000000</td>\n",
       "      <td>2047.000000</td>\n",
       "      <td>2047.000000</td>\n",
       "      <td>1915.000000</td>\n",
       "      <td>1.000000</td>\n",
       "    </tr>\n",
       "  </tbody>\n",
       "</table>\n",
       "<p>8 rows × 179 columns</p>\n",
       "</div>"
      ],
      "text/plain": [
       "                 X1            X2            X3            X4            X5  \\\n",
       "count  18400.000000  18400.000000  18400.000000  18400.000000  18400.000000   \n",
       "mean     -16.423478    -15.420217    -13.744402    -10.867174     -7.534348   \n",
       "std      253.121410    253.967051    248.293399    244.203246    244.263865   \n",
       "min    -1839.000000  -1838.000000  -1835.000000  -1845.000000  -1791.000000   \n",
       "25%      -83.000000    -83.000000    -82.000000    -81.000000    -81.000000   \n",
       "50%       -9.000000     -9.000000     -8.000000     -7.000000     -9.000000   \n",
       "75%       57.000000     58.000000     59.000000     60.000000     62.000000   \n",
       "max     1726.000000   1713.000000   1697.000000   1612.000000   1518.000000   \n",
       "\n",
       "                 X6            X7            X8            X9           X10  \\\n",
       "count  18400.000000  18400.000000  18400.000000  18400.000000  18400.000000   \n",
       "mean      -3.983315     -1.593261     -0.992174     -0.174293      1.223152   \n",
       "std      244.029898    243.370302    245.397527    247.037571    244.039349   \n",
       "min    -1757.000000  -1832.000000  -1778.000000  -1840.000000  -1867.000000   \n",
       "25%      -76.000000    -77.000000    -75.000000    -75.000000    -73.000000   \n",
       "50%       -8.000000     -7.000000     -7.000000     -5.000000     -4.000000   \n",
       "75%       63.000000     63.000000     65.000000     66.000000     67.000000   \n",
       "max     1816.000000   2047.000000   2047.000000   2047.000000   2047.000000   \n",
       "\n",
       "       ...          X170          X171          X172          X173  \\\n",
       "count  ...  18400.000000  18400.000000  18400.000000  18400.000000   \n",
       "mean   ...     -9.609674    -11.669565    -14.031250    -15.722120   \n",
       "std    ...    251.341250    254.416146    257.854858    256.498574   \n",
       "min    ...  -1867.000000  -1865.000000  -1642.000000  -1723.000000   \n",
       "25%    ...    -82.000000    -82.000000    -82.000000    -83.250000   \n",
       "50%    ...     -9.000000    -10.000000    -11.000000    -10.000000   \n",
       "75%    ...     59.000000     59.000000     58.000000     59.000000   \n",
       "max    ...   1777.000000   1472.000000   1319.000000   1436.000000   \n",
       "\n",
       "               X174          X175          X176          X177          X178  \\\n",
       "count  18400.000000  18400.000000  18400.000000  18400.000000  18400.000000   \n",
       "mean     -16.455109    -17.653750    -18.530217    -19.055109    -18.657554   \n",
       "std      252.614495    246.130211    243.512194    244.185827    245.145107   \n",
       "min    -1866.000000  -1863.000000  -1781.000000  -1727.000000  -1829.000000   \n",
       "25%      -84.000000    -84.000000    -85.000000    -84.000000    -85.000000   \n",
       "50%      -10.000000    -10.000000    -11.000000    -11.000000    -11.000000   \n",
       "75%       58.000000     57.000000     55.000000     54.000000     53.000000   \n",
       "max     1733.000000   1958.000000   2047.000000   2047.000000   1915.000000   \n",
       "\n",
       "                  y  \n",
       "count  18400.000000  \n",
       "mean       0.500000  \n",
       "std        0.500014  \n",
       "min        0.000000  \n",
       "25%        0.000000  \n",
       "50%        0.500000  \n",
       "75%        1.000000  \n",
       "max        1.000000  \n",
       "\n",
       "[8 rows x 179 columns]"
      ]
     },
     "execution_count": 12,
     "metadata": {},
     "output_type": "execute_result"
    }
   ],
   "source": [
    "df.describe()"
   ]
  },
  {
   "cell_type": "markdown",
   "metadata": {},
   "source": [
    "All the features have similar range of values. But they are skewed differently as their mean values indicate."
   ]
  },
  {
   "cell_type": "code",
   "execution_count": 13,
   "metadata": {
    "execution": {
     "iopub.execute_input": "2020-11-20T09:09:07.610562Z",
     "iopub.status.busy": "2020-11-20T09:09:07.610369Z",
     "iopub.status.idle": "2020-11-20T09:09:07.662079Z",
     "shell.execute_reply": "2020-11-20T09:09:07.661179Z",
     "shell.execute_reply.started": "2020-11-20T09:09:07.610538Z"
    }
   },
   "outputs": [],
   "source": [
    "# Using standard scaler to standardize them to values with mean = 0 and variance = 1.\n",
    "\n",
    "standard_scaler = StandardScaler()\n",
    "\n",
    "# Fit on training set alone\n",
    "Xtrain = standard_scaler.fit_transform(Xtrain)\n",
    "\n",
    "# Use it to transform val and test input\n",
    "Xval = standard_scaler.transform(Xval)\n",
    "Xtest = standard_scaler.transform(Xtest)"
   ]
  },
  {
   "cell_type": "markdown",
   "metadata": {},
   "source": [
    "# The model"
   ]
  },
  {
   "cell_type": "code",
   "execution_count": 14,
   "metadata": {
    "execution": {
     "iopub.execute_input": "2020-11-20T09:09:07.663349Z",
     "iopub.status.busy": "2020-11-20T09:09:07.663131Z",
     "iopub.status.idle": "2020-11-20T09:09:07.714471Z",
     "shell.execute_reply": "2020-11-20T09:09:07.713731Z",
     "shell.execute_reply.started": "2020-11-20T09:09:07.663321Z"
    }
   },
   "outputs": [],
   "source": [
    "model = Sequential([\n",
    "    Dense(512, activation = 'relu', input_shape = Xtrain[0].shape),\n",
    "    Dense(256, activation = 'relu'),\n",
    "    Dense(128, activation = 'relu'),\n",
    "    Dense(1, activation = 'sigmoid')\n",
    "])\n",
    "\n",
    "cb = [EarlyStopping(monitor = 'val_loss', patience = 3, restore_best_weights = True)]"
   ]
  },
  {
   "cell_type": "code",
   "execution_count": 15,
   "metadata": {
    "execution": {
     "iopub.execute_input": "2020-11-20T09:09:07.715604Z",
     "iopub.status.busy": "2020-11-20T09:09:07.715407Z",
     "iopub.status.idle": "2020-11-20T09:09:17.090393Z",
     "shell.execute_reply": "2020-11-20T09:09:17.089623Z",
     "shell.execute_reply.started": "2020-11-20T09:09:07.715579Z"
    }
   },
   "outputs": [
    {
     "name": "stdout",
     "output_type": "stream",
     "text": [
      "Epoch 1/16\n",
      "460/460 [==============================] - 1s 3ms/step - loss: 0.1821 - accuracy: 0.9334 - val_loss: 0.1080 - val_accuracy: 0.9630\n",
      "Epoch 2/16\n",
      "460/460 [==============================] - 1s 3ms/step - loss: 0.1027 - accuracy: 0.9654 - val_loss: 0.1230 - val_accuracy: 0.9571\n",
      "Epoch 3/16\n",
      "460/460 [==============================] - 1s 3ms/step - loss: 0.0889 - accuracy: 0.9696 - val_loss: 0.0733 - val_accuracy: 0.9739\n",
      "Epoch 4/16\n",
      "460/460 [==============================] - 1s 3ms/step - loss: 0.0782 - accuracy: 0.9746 - val_loss: 0.0691 - val_accuracy: 0.9712\n",
      "Epoch 5/16\n",
      "460/460 [==============================] - 1s 3ms/step - loss: 0.1096 - accuracy: 0.9645 - val_loss: 0.1004 - val_accuracy: 0.9603\n",
      "Epoch 6/16\n",
      "460/460 [==============================] - 1s 3ms/step - loss: 0.0782 - accuracy: 0.9749 - val_loss: 0.0828 - val_accuracy: 0.9734\n",
      "Epoch 7/16\n",
      "460/460 [==============================] - 1s 3ms/step - loss: 0.0704 - accuracy: 0.9749 - val_loss: 0.0807 - val_accuracy: 0.9766\n"
     ]
    }
   ],
   "source": [
    "model.compile(optimizer=Adam(0.01), loss='binary_crossentropy', metrics=['accuracy'])\n",
    "\n",
    "history1 = model.fit(Xtrain, ytrain, validation_data = (Xval, yval), epochs=16, callbacks = cb)"
   ]
  },
  {
   "cell_type": "code",
   "execution_count": 16,
   "metadata": {
    "execution": {
     "iopub.execute_input": "2020-11-20T09:09:17.091564Z",
     "iopub.status.busy": "2020-11-20T09:09:17.091366Z",
     "iopub.status.idle": "2020-11-20T09:09:23.823653Z",
     "shell.execute_reply": "2020-11-20T09:09:23.822765Z",
     "shell.execute_reply.started": "2020-11-20T09:09:17.091539Z"
    }
   },
   "outputs": [
    {
     "name": "stdout",
     "output_type": "stream",
     "text": [
      "Epoch 1/16\n",
      "460/460 [==============================] - 1s 3ms/step - loss: 0.0509 - accuracy: 0.9829 - val_loss: 0.0573 - val_accuracy: 0.9788\n",
      "Epoch 2/16\n",
      "460/460 [==============================] - 1s 3ms/step - loss: 0.0347 - accuracy: 0.9878 - val_loss: 0.0521 - val_accuracy: 0.9837\n",
      "Epoch 3/16\n",
      "460/460 [==============================] - 1s 3ms/step - loss: 0.0271 - accuracy: 0.9901 - val_loss: 0.0578 - val_accuracy: 0.9853\n",
      "Epoch 4/16\n",
      "460/460 [==============================] - 1s 3ms/step - loss: 0.0240 - accuracy: 0.9902 - val_loss: 0.0580 - val_accuracy: 0.9859\n",
      "Epoch 5/16\n",
      "460/460 [==============================] - 1s 3ms/step - loss: 0.0206 - accuracy: 0.9930 - val_loss: 0.0562 - val_accuracy: 0.9853\n"
     ]
    }
   ],
   "source": [
    "model.compile(optimizer=Adam(0.001), loss='binary_crossentropy', metrics=['accuracy'])\n",
    "\n",
    "history2 = model.fit(Xtrain, ytrain, validation_data = (Xval, yval), epochs=16, callbacks = cb)"
   ]
  },
  {
   "cell_type": "code",
   "execution_count": 17,
   "metadata": {
    "execution": {
     "iopub.execute_input": "2020-11-20T09:09:23.824973Z",
     "iopub.status.busy": "2020-11-20T09:09:23.824751Z",
     "iopub.status.idle": "2020-11-20T09:09:23.947138Z",
     "shell.execute_reply": "2020-11-20T09:09:23.946551Z",
     "shell.execute_reply.started": "2020-11-20T09:09:23.824943Z"
    }
   },
   "outputs": [
    {
     "name": "stdout",
     "output_type": "stream",
     "text": [
      "58/58 [==============================] - 0s 1ms/step - loss: 0.0365 - accuracy: 0.9864\n"
     ]
    },
    {
     "data": {
      "text/plain": [
       "[0.03648178279399872, 0.9864130616188049]"
      ]
     },
     "execution_count": 17,
     "metadata": {},
     "output_type": "execute_result"
    }
   ],
   "source": [
    "model.evaluate(Xtest, ytest)"
   ]
  },
  {
   "cell_type": "markdown",
   "metadata": {},
   "source": [
    "# Plotting the metrics"
   ]
  },
  {
   "cell_type": "code",
   "execution_count": 18,
   "metadata": {
    "execution": {
     "iopub.execute_input": "2020-11-20T09:09:23.948368Z",
     "iopub.status.busy": "2020-11-20T09:09:23.948054Z",
     "iopub.status.idle": "2020-11-20T09:09:23.953511Z",
     "shell.execute_reply": "2020-11-20T09:09:23.952666Z",
     "shell.execute_reply.started": "2020-11-20T09:09:23.948342Z"
    }
   },
   "outputs": [],
   "source": [
    "def plot(history1, history2, variable1, variable2):\n",
    "    # combining metrics from both trainings    \n",
    "    var1_history = history1[variable1]\n",
    "    var1_history.extend(history2[variable1])\n",
    "    \n",
    "    var2_history = history1[variable2]\n",
    "    var2_history.extend(history2[variable2])\n",
    "    \n",
    "    # plotting them\n",
    "    plt.plot(range(len(var1_history)), var1_history)\n",
    "    plt.plot(range(len(var2_history)), var2_history)\n",
    "    plt.legend([variable1, variable2])\n",
    "    plt.title(variable1)"
   ]
  },
  {
   "cell_type": "code",
   "execution_count": 19,
   "metadata": {
    "execution": {
     "iopub.execute_input": "2020-11-20T09:09:23.954674Z",
     "iopub.status.busy": "2020-11-20T09:09:23.954457Z",
     "iopub.status.idle": "2020-11-20T09:09:24.146746Z",
     "shell.execute_reply": "2020-11-20T09:09:24.146019Z",
     "shell.execute_reply.started": "2020-11-20T09:09:23.954647Z"
    }
   },
   "outputs": [
    {
     "data": {
      "image/png": "[encoded data removed]",
      "text/plain": [
       "<Figure size 432x288 with 1 Axes>"
      ]
     },
     "metadata": {
      "needs_background": "light"
     },
     "output_type": "display_data"
    }
   ],
   "source": [
    "plot(history1.history, history2.history, \"accuracy\", 'val_accuracy')"
   ]
  },
  {
   "cell_type": "code",
   "execution_count": 20,
   "metadata": {
    "execution": {
     "iopub.execute_input": "2020-11-20T09:09:24.147912Z",
     "iopub.status.busy": "2020-11-20T09:09:24.147663Z",
     "iopub.status.idle": "2020-11-20T09:09:24.328903Z",
     "shell.execute_reply": "2020-11-20T09:09:24.328194Z",
     "shell.execute_reply.started": "2020-11-20T09:09:24.147885Z"
    }
   },
   "outputs": [
    {
     "data": {
      "image/png": "[encoded data removed]",
      "text/plain": [
       "<Figure size 432x288 with 1 Axes>"
      ]
     },
     "metadata": {
      "needs_background": "light"
     },
     "output_type": "display_data"
    }
   ],
   "source": [
    "plot(history1.history, history2.history, \"loss\", 'val_loss')"
   ]
  },
  {
   "cell_type": "markdown",
   "metadata": {},
   "source": [
    "# Model evaluation"
   ]
  },
  {
   "cell_type": "code",
   "execution_count": 21,
   "metadata": {
    "execution": {
     "iopub.execute_input": "2020-11-20T09:09:24.330011Z",
     "iopub.status.busy": "2020-11-20T09:09:24.329817Z",
     "iopub.status.idle": "2020-11-20T09:09:24.649206Z",
     "shell.execute_reply": "2020-11-20T09:09:24.648447Z",
     "shell.execute_reply.started": "2020-11-20T09:09:24.329986Z"
    }
   },
   "outputs": [
    {
     "data": {
      "text/plain": [
       "<matplotlib.image.AxesImage at 0x7efd942b63c8>"
      ]
     },
     "execution_count": 21,
     "metadata": {},
     "output_type": "execute_result"
    },
    {
     "data": {
      "image/png": "[encoded data removed]",
      "text/plain": [
       "<Figure size 432x288 with 1 Axes>"
      ]
     },
     "metadata": {
      "needs_background": "light"
     },
     "output_type": "display_data"
    }
   ],
   "source": [
    "cm = confusion_matrix(ytest, (model.predict(Xtest)>0.5).astype('int'))\n",
    "cm = cm.astype('float') / cm.sum(axis=1)[:, np.newaxis]\n",
    "\n",
    "for i in range(cm.shape[1]):\n",
    "    for j in range(cm.shape[0]):\n",
    "        plt.text(j, i, format(cm[i, j], '.2f'), horizontalalignment=\"center\", color=\"black\")\n",
    "\n",
    "\n",
    "plt.imshow(cm, cmap=plt.cm.Blues)"
   ]
  },
  {
   "cell_type": "markdown",
   "metadata": {},
   "source": [
    "Balancing the dataset is an important step in achieving high performance.\n",
    "\n",
    "It is important to note that good results, if not the best can be achieved with an unbalanced dataset too! Try running the same notebook, but skip the resampling section code and see the results!"
   ]
  },
  {
   "cell_type": "markdown",
   "metadata": {},
   "source": [
    "# Prediction"
   ]
  },
  {
   "cell_type": "code",
   "execution_count": 22,
   "metadata": {
    "execution": {
     "iopub.execute_input": "2020-11-20T09:09:24.650366Z",
     "iopub.status.busy": "2020-11-20T09:09:24.650166Z",
     "iopub.status.idle": "2020-11-20T09:09:24.693504Z",
     "shell.execute_reply": "2020-11-20T09:09:24.692508Z",
     "shell.execute_reply.started": "2020-11-20T09:09:24.650340Z"
    }
   },
   "outputs": [
    {
     "name": "stdout",
     "output_type": "stream",
     "text": [
      "True:  Non-epileptic\n",
      "Predicted:  Non-epileptic ( 1.701992e-15 --> 0 )\n"
     ]
    }
   ],
   "source": [
    "# pick random test data sample from one batch\n",
    "x = random.randint(0, len(Xtest) - 1)\n",
    "\n",
    "output_true = np.array(ytest)[x][0]\n",
    "print(\"True: \", class_names[output_true])\n",
    "\n",
    "output = model.predict(Xtest[x].reshape(1, -1))[0][0]\n",
    "pred = int(output>0.5)    # finding max\n",
    "print(\"Predicted: \", class_names[pred], \"(\",output, \"-->\", pred, \")\")    # Picking the label from class_names base don the model output"
   ]
  },
  {
   "cell_type": "markdown",
   "metadata": {},
   "source": [
    "# deepC"
   ]
  },
  {
   "cell_type": "code",
   "execution_count": 25,
   "metadata": {
    "execution": {
     "iopub.execute_input": "2020-11-20T09:10:11.511687Z",
     "iopub.status.busy": "2020-11-20T09:10:11.511432Z",
     "iopub.status.idle": "2020-11-20T09:10:19.934124Z",
     "shell.execute_reply": "2020-11-20T09:10:19.933458Z",
     "shell.execute_reply.started": "2020-11-20T09:10:11.511661Z"
    }
   },
   "outputs": [
    {
     "name": "stdout",
     "output_type": "stream",
     "text": [
      "reading [keras model] from 'epileptic_seizure.h5'\n",
      "Saved 'epileptic_seizure.onnx'\n",
      "reading onnx model from file  epileptic_seizure.onnx\n",
      "Model info:\n",
      "  ir_vesion :  4 \n",
      "  doc       : \n",
      "WARN (ONNX): terminal (input/output) dense_input's shape is less than 1.\n",
      "             changing it to 1.\n",
      "WARN (ONNX): terminal (input/output) dense_3's shape is less than 1.\n",
      "             changing it to 1.\n",
      "WARN (GRAPH): found operator node with the same name (dense_3) as io node.\n",
      "running DNNC graph sanity check ... passed.\n",
      "Writing C++ file  epileptic_seizure_deepC/epileptic_seizure.cpp\n",
      "INFO (ONNX): model files are ready in dir epileptic_seizure_deepC\n",
      "g++ -std=c++11 -O3 -I. -I/opt/tljh/user/lib/python3.7/site-packages/deepC-0.13-py3.7-linux-x86_64.egg/deepC/include -isystem /opt/tljh/user/lib/python3.7/site-packages/deepC-0.13-py3.7-linux-x86_64.egg/deepC/packages/eigen-eigen-323c052e1731 epileptic_seizure_deepC/epileptic_seizure.cpp -o epileptic_seizure_deepC/epileptic_seizure.exe\n",
      "Model executable  epileptic_seizure_deepC/epileptic_seizure.exe\n"
     ]
    }
   ],
   "source": [
    "model.save('epileptic_seizure.h5')\n",
    "\n",
    "!deepCC epileptic_seizure.h5"
   ]
  },
  {
   "cell_type": "code",
   "execution_count": 26,
   "metadata": {
    "execution": {
     "iopub.execute_input": "2020-11-20T09:10:34.072046Z",
     "iopub.status.busy": "2020-11-20T09:10:34.071731Z",
     "iopub.status.idle": "2020-11-20T09:10:34.208281Z",
     "shell.execute_reply": "2020-11-20T09:10:34.207430Z",
     "shell.execute_reply.started": "2020-11-20T09:10:34.072016Z"
    }
   },
   "outputs": [
    {
     "name": "stdout",
     "output_type": "stream",
     "text": [
      "True:  Epileptic\n",
      "reading file sample.data.\n",
      "writing file dense_3.out.\n",
      "Predicted:  Epileptic ( 1.0 --> 1 )\n"
     ]
    }
   ],
   "source": [
    "# pick random test data sample from one batch\n",
    "x = random.randint(0, len(Xtest) - 1)\n",
    "\n",
    "output_true = np.array(ytest)[x][0]\n",
    "print(\"True: \", class_names[output_true])\n",
    "\n",
    "np.savetxt('sample.data', Xtest[i])\n",
    "\n",
    "# run exe with input\n",
    "!epileptic_seizure_deepC/epileptic_seizure.exe sample.data\n",
    "\n",
    "# show predicted output\n",
    "nn_out = np.loadtxt('dense_3.out')\n",
    "\n",
    "pred = int(nn_out>0.5)    # finding max\n",
    "print(\"Predicted: \", class_names[pred], \"(\",nn_out, \"-->\", pred, \")\")    # Picking the label from class_names base don the model output"
   ]
  }
 ],
 "metadata": {
  "kernelspec": {
   "display_name": "Python 3",
   "language": "python",
   "name": "python3"
  },
  "language_info": {
   "codemirror_mode": {
    "name": "ipython",
    "version": 3
   },
   "file_extension": ".py",
   "mimetype": "text/x-python",
   "name": "python",
   "nbconvert_exporter": "python",
   "pygments_lexer": "ipython3",
   "version": "3.7.3"
  }
 },
 "nbformat": 4,
 "nbformat_minor": 4
}
