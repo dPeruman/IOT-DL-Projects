{
 "cells": [
  {
   "cell_type": "markdown",
   "metadata": {},
   "source": [
    "# Drug classification\n",
    "\n",
    "**Credit: [AITS cainvas](http://cainvas.ai-tech.systems/) authors**\n",
    "\n",
    "![](https://cainvas-static.s3.amazonaws.com/media/user_data/cainvas-admin/drugs.gif)"
   ]
  },
  {
   "cell_type": "markdown",
   "metadata": {},
   "source": [
    "Training a deep learning model to prescribe a drug based on the patient's data."
   ]
  },
  {
   "cell_type": "code",
   "execution_count": 1,
   "metadata": {
    "execution": {
     "iopub.execute_input": "2020-12-23T07:10:06.485424Z",
     "iopub.status.busy": "2020-12-23T07:10:06.485272Z",
     "iopub.status.idle": "2020-12-23T07:10:08.079254Z",
     "shell.execute_reply": "2020-12-23T07:10:08.078720Z",
     "shell.execute_reply.started": "2020-12-23T07:10:06.485407Z"
    }
   },
   "outputs": [],
   "source": [
    "import numpy as np\n",
    "import pandas as pd\n",
    "from sklearn.preprocessing import LabelEncoder, MinMaxScaler\n",
    "from sklearn.model_selection import train_test_split\n",
    "from sklearn.metrics import confusion_matrix\n",
    "from keras.layers import Dense\n",
    "from keras.optimizers import Adam\n",
    "from keras.losses import CategoricalCrossentropy\n",
    "from keras.models import Sequential\n",
    "from keras.callbacks import EarlyStopping\n",
    "import random\n",
    "import matplotlib.pyplot as plt"
   ]
  },
  {
   "cell_type": "markdown",
   "metadata": {},
   "source": [
    "# Dataset\n",
    "\n",
    "The datatset is a CSV file with the features regarding a patient that affects drug prescriptions like age, sex, BP level, cholestrol, and sodium-potassium ratio and the corresponding drug prescribes in each case."
   ]
  },
  {
   "cell_type": "code",
   "execution_count": 2,
   "metadata": {
    "execution": {
     "iopub.execute_input": "2020-12-23T07:10:08.080483Z",
     "iopub.status.busy": "2020-12-23T07:10:08.080317Z",
     "iopub.status.idle": "2020-12-23T07:10:08.140318Z",
     "shell.execute_reply": "2020-12-23T07:10:08.139780Z",
     "shell.execute_reply.started": "2020-12-23T07:10:08.080463Z"
    }
   },
   "outputs": [
    {
     "data": {
      "text/html": [
       "<div>\n",
       "<style scoped>\n",
       "    .dataframe tbody tr th:only-of-type {\n",
       "        vertical-align: middle;\n",
       "    }\n",
       "\n",
       "    .dataframe tbody tr th {\n",
       "        vertical-align: top;\n",
       "    }\n",
       "\n",
       "    .dataframe thead th {\n",
       "        text-align: right;\n",
       "    }\n",
       "</style>\n",
       "<table border=\"1\" class=\"dataframe\">\n",
       "  <thead>\n",
       "    <tr style=\"text-align: right;\">\n",
       "      <th></th>\n",
       "      <th>Age</th>\n",
       "      <th>Sex</th>\n",
       "      <th>BP</th>\n",
       "      <th>Cholesterol</th>\n",
       "      <th>Na_to_K</th>\n",
       "      <th>Drug</th>\n",
       "    </tr>\n",
       "  </thead>\n",
       "  <tbody>\n",
       "    <tr>\n",
       "      <th>0</th>\n",
       "      <td>23</td>\n",
       "      <td>F</td>\n",
       "      <td>HIGH</td>\n",
       "      <td>HIGH</td>\n",
       "      <td>25.355</td>\n",
       "      <td>DrugY</td>\n",
       "    </tr>\n",
       "    <tr>\n",
       "      <th>1</th>\n",
       "      <td>47</td>\n",
       "      <td>M</td>\n",
       "      <td>LOW</td>\n",
       "      <td>HIGH</td>\n",
       "      <td>13.093</td>\n",
       "      <td>drugC</td>\n",
       "    </tr>\n",
       "    <tr>\n",
       "      <th>2</th>\n",
       "      <td>47</td>\n",
       "      <td>M</td>\n",
       "      <td>LOW</td>\n",
       "      <td>HIGH</td>\n",
       "      <td>10.114</td>\n",
       "      <td>drugC</td>\n",
       "    </tr>\n",
       "    <tr>\n",
       "      <th>3</th>\n",
       "      <td>28</td>\n",
       "      <td>F</td>\n",
       "      <td>NORMAL</td>\n",
       "      <td>HIGH</td>\n",
       "      <td>7.798</td>\n",
       "      <td>drugX</td>\n",
       "    </tr>\n",
       "    <tr>\n",
       "      <th>4</th>\n",
       "      <td>61</td>\n",
       "      <td>F</td>\n",
       "      <td>LOW</td>\n",
       "      <td>HIGH</td>\n",
       "      <td>18.043</td>\n",
       "      <td>DrugY</td>\n",
       "    </tr>\n",
       "    <tr>\n",
       "      <th>...</th>\n",
       "      <td>...</td>\n",
       "      <td>...</td>\n",
       "      <td>...</td>\n",
       "      <td>...</td>\n",
       "      <td>...</td>\n",
       "      <td>...</td>\n",
       "    </tr>\n",
       "    <tr>\n",
       "      <th>195</th>\n",
       "      <td>56</td>\n",
       "      <td>F</td>\n",
       "      <td>LOW</td>\n",
       "      <td>HIGH</td>\n",
       "      <td>11.567</td>\n",
       "      <td>drugC</td>\n",
       "    </tr>\n",
       "    <tr>\n",
       "      <th>196</th>\n",
       "      <td>16</td>\n",
       "      <td>M</td>\n",
       "      <td>LOW</td>\n",
       "      <td>HIGH</td>\n",
       "      <td>12.006</td>\n",
       "      <td>drugC</td>\n",
       "    </tr>\n",
       "    <tr>\n",
       "      <th>197</th>\n",
       "      <td>52</td>\n",
       "      <td>M</td>\n",
       "      <td>NORMAL</td>\n",
       "      <td>HIGH</td>\n",
       "      <td>9.894</td>\n",
       "      <td>drugX</td>\n",
       "    </tr>\n",
       "    <tr>\n",
       "      <th>198</th>\n",
       "      <td>23</td>\n",
       "      <td>M</td>\n",
       "      <td>NORMAL</td>\n",
       "      <td>NORMAL</td>\n",
       "      <td>14.020</td>\n",
       "      <td>drugX</td>\n",
       "    </tr>\n",
       "    <tr>\n",
       "      <th>199</th>\n",
       "      <td>40</td>\n",
       "      <td>F</td>\n",
       "      <td>LOW</td>\n",
       "      <td>NORMAL</td>\n",
       "      <td>11.349</td>\n",
       "      <td>drugX</td>\n",
       "    </tr>\n",
       "  </tbody>\n",
       "</table>\n",
       "<p>200 rows × 6 columns</p>\n",
       "</div>"
      ],
      "text/plain": [
       "     Age Sex      BP Cholesterol  Na_to_K   Drug\n",
       "0     23   F    HIGH        HIGH   25.355  DrugY\n",
       "1     47   M     LOW        HIGH   13.093  drugC\n",
       "2     47   M     LOW        HIGH   10.114  drugC\n",
       "3     28   F  NORMAL        HIGH    7.798  drugX\n",
       "4     61   F     LOW        HIGH   18.043  DrugY\n",
       "..   ...  ..     ...         ...      ...    ...\n",
       "195   56   F     LOW        HIGH   11.567  drugC\n",
       "196   16   M     LOW        HIGH   12.006  drugC\n",
       "197   52   M  NORMAL        HIGH    9.894  drugX\n",
       "198   23   M  NORMAL      NORMAL   14.020  drugX\n",
       "199   40   F     LOW      NORMAL   11.349  drugX\n",
       "\n",
       "[200 rows x 6 columns]"
      ]
     },
     "execution_count": 2,
     "metadata": {},
     "output_type": "execute_result"
    }
   ],
   "source": [
    "df = pd.read_csv('https://cainvas-static.s3.amazonaws.com/media/user_data/cainvas-admin/drug200.csv')\n",
    "df"
   ]
  },
  {
   "cell_type": "code",
   "execution_count": 3,
   "metadata": {
    "execution": {
     "iopub.execute_input": "2020-12-23T07:10:08.141226Z",
     "iopub.status.busy": "2020-12-23T07:10:08.141052Z",
     "iopub.status.idle": "2020-12-23T07:10:08.146161Z",
     "shell.execute_reply": "2020-12-23T07:10:08.145544Z",
     "shell.execute_reply.started": "2020-12-23T07:10:08.141206Z"
    }
   },
   "outputs": [
    {
     "data": {
      "text/plain": [
       "DrugY    91\n",
       "drugX    54\n",
       "drugA    23\n",
       "drugB    16\n",
       "drugC    16\n",
       "Name: Drug, dtype: int64"
      ]
     },
     "execution_count": 3,
     "metadata": {},
     "output_type": "execute_result"
    }
   ],
   "source": [
    "df['Drug'].value_counts()"
   ]
  },
  {
   "cell_type": "markdown",
   "metadata": {},
   "source": [
    "This is an unbalanced dataset."
   ]
  },
  {
   "cell_type": "markdown",
   "metadata": {},
   "source": [
    "# Preprocessing"
   ]
  },
  {
   "cell_type": "markdown",
   "metadata": {},
   "source": [
    "## Balancing the dataset\n",
    "\n",
    "In order to balance the dataset, there are two options,\n",
    "\n",
    "* upsampling - resample the values to make their count equal to the class label with the higher count (here, 1655).\n",
    "* downsampling - pick n samples from each class label where n = number of samples in class with least count (here, 176)\n",
    "\n",
    "Here, we will be upsampling."
   ]
  },
  {
   "cell_type": "code",
   "execution_count": 4,
   "metadata": {
    "execution": {
     "iopub.execute_input": "2020-12-23T07:10:08.147182Z",
     "iopub.status.busy": "2020-12-23T07:10:08.146944Z",
     "iopub.status.idle": "2020-12-23T07:10:08.164015Z",
     "shell.execute_reply": "2020-12-23T07:10:08.163418Z",
     "shell.execute_reply.started": "2020-12-23T07:10:08.147163Z"
    }
   },
   "outputs": [
    {
     "data": {
      "text/plain": [
       "drugC    91\n",
       "DrugY    91\n",
       "drugB    91\n",
       "drugA    91\n",
       "drugX    91\n",
       "Name: Drug, dtype: int64"
      ]
     },
     "execution_count": 4,
     "metadata": {},
     "output_type": "execute_result"
    }
   ],
   "source": [
    "categories = np.unique(df.Drug.to_list())\n",
    "df_balanced = pd.DataFrame()\n",
    "\n",
    "for i in range(len(categories)):\n",
    "    # separating into individual dataframes, one for each class \n",
    "    dfi = df[df['Drug'] == categories[i]]\n",
    "    # resampling\n",
    "    dfi = dfi.sample(91, replace = True)\n",
    "    # appending all to one to form a final balanced dataframe\n",
    "    df_balanced = df_balanced.append(dfi)\n",
    "\n",
    "df_balanced['Drug'].value_counts()"
   ]
  },
  {
   "cell_type": "markdown",
   "metadata": {},
   "source": [
    "## Categorical variables\n",
    "\n",
    "The 'sex' column does not define a range and thus is one-hot encoded while changing from a categorical variable to a numerical attribute"
   ]
  },
  {
   "cell_type": "code",
   "execution_count": 5,
   "metadata": {
    "execution": {
     "iopub.execute_input": "2020-12-23T07:10:08.165085Z",
     "iopub.status.busy": "2020-12-23T07:10:08.164863Z",
     "iopub.status.idle": "2020-12-23T07:10:08.178583Z",
     "shell.execute_reply": "2020-12-23T07:10:08.178052Z",
     "shell.execute_reply.started": "2020-12-23T07:10:08.165057Z"
    }
   },
   "outputs": [
    {
     "data": {
      "text/html": [
       "<div>\n",
       "<style scoped>\n",
       "    .dataframe tbody tr th:only-of-type {\n",
       "        vertical-align: middle;\n",
       "    }\n",
       "\n",
       "    .dataframe tbody tr th {\n",
       "        vertical-align: top;\n",
       "    }\n",
       "\n",
       "    .dataframe thead th {\n",
       "        text-align: right;\n",
       "    }\n",
       "</style>\n",
       "<table border=\"1\" class=\"dataframe\">\n",
       "  <thead>\n",
       "    <tr style=\"text-align: right;\">\n",
       "      <th></th>\n",
       "      <th>Age</th>\n",
       "      <th>BP</th>\n",
       "      <th>Cholesterol</th>\n",
       "      <th>Na_to_K</th>\n",
       "      <th>Sex_M</th>\n",
       "    </tr>\n",
       "  </thead>\n",
       "  <tbody>\n",
       "    <tr>\n",
       "      <th>91</th>\n",
       "      <td>41</td>\n",
       "      <td>HIGH</td>\n",
       "      <td>NORMAL</td>\n",
       "      <td>15.156</td>\n",
       "      <td>1</td>\n",
       "    </tr>\n",
       "    <tr>\n",
       "      <th>75</th>\n",
       "      <td>26</td>\n",
       "      <td>LOW</td>\n",
       "      <td>NORMAL</td>\n",
       "      <td>20.909</td>\n",
       "      <td>1</td>\n",
       "    </tr>\n",
       "    <tr>\n",
       "      <th>164</th>\n",
       "      <td>16</td>\n",
       "      <td>HIGH</td>\n",
       "      <td>NORMAL</td>\n",
       "      <td>19.007</td>\n",
       "      <td>1</td>\n",
       "    </tr>\n",
       "    <tr>\n",
       "      <th>13</th>\n",
       "      <td>74</td>\n",
       "      <td>LOW</td>\n",
       "      <td>HIGH</td>\n",
       "      <td>20.942</td>\n",
       "      <td>0</td>\n",
       "    </tr>\n",
       "    <tr>\n",
       "      <th>25</th>\n",
       "      <td>28</td>\n",
       "      <td>HIGH</td>\n",
       "      <td>NORMAL</td>\n",
       "      <td>18.809</td>\n",
       "      <td>0</td>\n",
       "    </tr>\n",
       "    <tr>\n",
       "      <th>...</th>\n",
       "      <td>...</td>\n",
       "      <td>...</td>\n",
       "      <td>...</td>\n",
       "      <td>...</td>\n",
       "      <td>...</td>\n",
       "    </tr>\n",
       "    <tr>\n",
       "      <th>127</th>\n",
       "      <td>35</td>\n",
       "      <td>NORMAL</td>\n",
       "      <td>NORMAL</td>\n",
       "      <td>7.845</td>\n",
       "      <td>1</td>\n",
       "    </tr>\n",
       "    <tr>\n",
       "      <th>181</th>\n",
       "      <td>59</td>\n",
       "      <td>NORMAL</td>\n",
       "      <td>HIGH</td>\n",
       "      <td>13.884</td>\n",
       "      <td>0</td>\n",
       "    </tr>\n",
       "    <tr>\n",
       "      <th>159</th>\n",
       "      <td>34</td>\n",
       "      <td>LOW</td>\n",
       "      <td>NORMAL</td>\n",
       "      <td>12.923</td>\n",
       "      <td>0</td>\n",
       "    </tr>\n",
       "    <tr>\n",
       "      <th>43</th>\n",
       "      <td>23</td>\n",
       "      <td>NORMAL</td>\n",
       "      <td>HIGH</td>\n",
       "      <td>12.260</td>\n",
       "      <td>1</td>\n",
       "    </tr>\n",
       "    <tr>\n",
       "      <th>37</th>\n",
       "      <td>39</td>\n",
       "      <td>LOW</td>\n",
       "      <td>NORMAL</td>\n",
       "      <td>13.938</td>\n",
       "      <td>1</td>\n",
       "    </tr>\n",
       "  </tbody>\n",
       "</table>\n",
       "<p>455 rows × 5 columns</p>\n",
       "</div>"
      ],
      "text/plain": [
       "     Age      BP Cholesterol  Na_to_K  Sex_M\n",
       "91    41    HIGH      NORMAL   15.156      1\n",
       "75    26     LOW      NORMAL   20.909      1\n",
       "164   16    HIGH      NORMAL   19.007      1\n",
       "13    74     LOW        HIGH   20.942      0\n",
       "25    28    HIGH      NORMAL   18.809      0\n",
       "..   ...     ...         ...      ...    ...\n",
       "127   35  NORMAL      NORMAL    7.845      1\n",
       "181   59  NORMAL        HIGH   13.884      0\n",
       "159   34     LOW      NORMAL   12.923      0\n",
       "43    23  NORMAL        HIGH   12.260      1\n",
       "37    39     LOW      NORMAL   13.938      1\n",
       "\n",
       "[455 rows x 5 columns]"
      ]
     },
     "execution_count": 5,
     "metadata": {},
     "output_type": "execute_result"
    }
   ],
   "source": [
    "dfx = pd.get_dummies(df_balanced[df_balanced.columns[:-1]], drop_first = True, columns = ['Sex'])\n",
    "dfx"
   ]
  },
  {
   "cell_type": "code",
   "execution_count": 6,
   "metadata": {
    "execution": {
     "iopub.execute_input": "2020-12-23T07:10:08.180666Z",
     "iopub.status.busy": "2020-12-23T07:10:08.180510Z",
     "iopub.status.idle": "2020-12-23T07:10:08.184781Z",
     "shell.execute_reply": "2020-12-23T07:10:08.184222Z",
     "shell.execute_reply.started": "2020-12-23T07:10:08.180649Z"
    }
   },
   "outputs": [
    {
     "name": "stdout",
     "output_type": "stream",
     "text": [
      "Values in BP column: ['HIGH' 'LOW' 'NORMAL']\n",
      "Values in Cholesterol column: ['HIGH' 'NORMAL']\n"
     ]
    }
   ],
   "source": [
    "print(\"Values in BP column:\", np.unique(dfx['BP']))\n",
    "print(\"Values in Cholesterol column:\", np.unique(dfx['Cholesterol']))"
   ]
  },
  {
   "cell_type": "markdown",
   "metadata": {},
   "source": [
    "The values in the columns Cholesterol and BP represent range as seen by the values above."
   ]
  },
  {
   "cell_type": "code",
   "execution_count": 7,
   "metadata": {
    "execution": {
     "iopub.execute_input": "2020-12-23T07:10:08.186654Z",
     "iopub.status.busy": "2020-12-23T07:10:08.186430Z",
     "iopub.status.idle": "2020-12-23T07:10:08.195054Z",
     "shell.execute_reply": "2020-12-23T07:10:08.194546Z",
     "shell.execute_reply.started": "2020-12-23T07:10:08.186628Z"
    }
   },
   "outputs": [
    {
     "name": "stdout",
     "output_type": "stream",
     "text": [
      "BP classes: ['HIGH' 'LOW' 'NORMAL']\n",
      "Cholesterol classes: ['HIGH' 'NORMAL']\n",
      "     Age  BP  Cholesterol  Na_to_K  Sex_M\n",
      "91    41   0            1   15.156      1\n",
      "75    26   1            1   20.909      1\n",
      "164   16   0            1   19.007      1\n",
      "13    74   1            0   20.942      0\n",
      "25    28   0            1   18.809      0\n",
      "..   ...  ..          ...      ...    ...\n",
      "127   35   2            1    7.845      1\n",
      "181   59   2            0   13.884      0\n",
      "159   34   1            1   12.923      0\n",
      "43    23   2            0   12.260      1\n",
      "37    39   1            1   13.938      1\n",
      "\n",
      "[455 rows x 5 columns]\n"
     ]
    }
   ],
   "source": [
    "le_bp = LabelEncoder()\n",
    "le_bp.fit(['LOW', 'NORMAL', 'HIGH'])\n",
    "dfx['BP'] = le_bp.transform(dfx['BP'], )\n",
    "print(\"BP classes:\", le_bp.classes_)\n",
    "\n",
    "le_ch = LabelEncoder()\n",
    "le_ch.fit(['NORMAL', 'HIGH'])\n",
    "dfx['Cholesterol'] = le_ch.transform(dfx['Cholesterol'])\n",
    "print(\"Cholesterol classes:\", le_ch.classes_)\n",
    "\n",
    "print(dfx)"
   ]
  },
  {
   "cell_type": "markdown",
   "metadata": {},
   "source": [
    "\n",
    "Since this is a classification problem, the output of the model which is now as an integer should be one-hot encoded."
   ]
  },
  {
   "cell_type": "code",
   "execution_count": 8,
   "metadata": {
    "execution": {
     "iopub.execute_input": "2020-12-23T07:10:08.196580Z",
     "iopub.status.busy": "2020-12-23T07:10:08.196371Z",
     "iopub.status.idle": "2020-12-23T07:10:08.206332Z",
     "shell.execute_reply": "2020-12-23T07:10:08.205845Z",
     "shell.execute_reply.started": "2020-12-23T07:10:08.196554Z"
    }
   },
   "outputs": [
    {
     "data": {
      "text/html": [
       "<div>\n",
       "<style scoped>\n",
       "    .dataframe tbody tr th:only-of-type {\n",
       "        vertical-align: middle;\n",
       "    }\n",
       "\n",
       "    .dataframe tbody tr th {\n",
       "        vertical-align: top;\n",
       "    }\n",
       "\n",
       "    .dataframe thead th {\n",
       "        text-align: right;\n",
       "    }\n",
       "</style>\n",
       "<table border=\"1\" class=\"dataframe\">\n",
       "  <thead>\n",
       "    <tr style=\"text-align: right;\">\n",
       "      <th></th>\n",
       "      <th>DrugY</th>\n",
       "      <th>drugA</th>\n",
       "      <th>drugB</th>\n",
       "      <th>drugC</th>\n",
       "      <th>drugX</th>\n",
       "    </tr>\n",
       "  </thead>\n",
       "  <tbody>\n",
       "    <tr>\n",
       "      <th>91</th>\n",
       "      <td>1</td>\n",
       "      <td>0</td>\n",
       "      <td>0</td>\n",
       "      <td>0</td>\n",
       "      <td>0</td>\n",
       "    </tr>\n",
       "    <tr>\n",
       "      <th>75</th>\n",
       "      <td>1</td>\n",
       "      <td>0</td>\n",
       "      <td>0</td>\n",
       "      <td>0</td>\n",
       "      <td>0</td>\n",
       "    </tr>\n",
       "    <tr>\n",
       "      <th>164</th>\n",
       "      <td>1</td>\n",
       "      <td>0</td>\n",
       "      <td>0</td>\n",
       "      <td>0</td>\n",
       "      <td>0</td>\n",
       "    </tr>\n",
       "    <tr>\n",
       "      <th>13</th>\n",
       "      <td>1</td>\n",
       "      <td>0</td>\n",
       "      <td>0</td>\n",
       "      <td>0</td>\n",
       "      <td>0</td>\n",
       "    </tr>\n",
       "    <tr>\n",
       "      <th>25</th>\n",
       "      <td>1</td>\n",
       "      <td>0</td>\n",
       "      <td>0</td>\n",
       "      <td>0</td>\n",
       "      <td>0</td>\n",
       "    </tr>\n",
       "    <tr>\n",
       "      <th>...</th>\n",
       "      <td>...</td>\n",
       "      <td>...</td>\n",
       "      <td>...</td>\n",
       "      <td>...</td>\n",
       "      <td>...</td>\n",
       "    </tr>\n",
       "    <tr>\n",
       "      <th>127</th>\n",
       "      <td>0</td>\n",
       "      <td>0</td>\n",
       "      <td>0</td>\n",
       "      <td>0</td>\n",
       "      <td>1</td>\n",
       "    </tr>\n",
       "    <tr>\n",
       "      <th>181</th>\n",
       "      <td>0</td>\n",
       "      <td>0</td>\n",
       "      <td>0</td>\n",
       "      <td>0</td>\n",
       "      <td>1</td>\n",
       "    </tr>\n",
       "    <tr>\n",
       "      <th>159</th>\n",
       "      <td>0</td>\n",
       "      <td>0</td>\n",
       "      <td>0</td>\n",
       "      <td>0</td>\n",
       "      <td>1</td>\n",
       "    </tr>\n",
       "    <tr>\n",
       "      <th>43</th>\n",
       "      <td>0</td>\n",
       "      <td>0</td>\n",
       "      <td>0</td>\n",
       "      <td>0</td>\n",
       "      <td>1</td>\n",
       "    </tr>\n",
       "    <tr>\n",
       "      <th>37</th>\n",
       "      <td>0</td>\n",
       "      <td>0</td>\n",
       "      <td>0</td>\n",
       "      <td>0</td>\n",
       "      <td>1</td>\n",
       "    </tr>\n",
       "  </tbody>\n",
       "</table>\n",
       "<p>455 rows × 5 columns</p>\n",
       "</div>"
      ],
      "text/plain": [
       "     DrugY  drugA  drugB  drugC  drugX\n",
       "91       1      0      0      0      0\n",
       "75       1      0      0      0      0\n",
       "164      1      0      0      0      0\n",
       "13       1      0      0      0      0\n",
       "25       1      0      0      0      0\n",
       "..     ...    ...    ...    ...    ...\n",
       "127      0      0      0      0      1\n",
       "181      0      0      0      0      1\n",
       "159      0      0      0      0      1\n",
       "43       0      0      0      0      1\n",
       "37       0      0      0      0      1\n",
       "\n",
       "[455 rows x 5 columns]"
      ]
     },
     "execution_count": 8,
     "metadata": {},
     "output_type": "execute_result"
    }
   ],
   "source": [
    "df_cat = pd.get_dummies(df_balanced['Drug'])\n",
    "df_cat"
   ]
  },
  {
   "cell_type": "code",
   "execution_count": 9,
   "metadata": {
    "execution": {
     "iopub.execute_input": "2020-12-23T07:10:08.207495Z",
     "iopub.status.busy": "2020-12-23T07:10:08.207258Z",
     "iopub.status.idle": "2020-12-23T07:10:08.212656Z",
     "shell.execute_reply": "2020-12-23T07:10:08.212146Z",
     "shell.execute_reply.started": "2020-12-23T07:10:08.207467Z"
    }
   },
   "outputs": [
    {
     "name": "stdout",
     "output_type": "stream",
     "text": [
      "Number of input columns:  5\n",
      "Number of output columns:  5\n"
     ]
    }
   ],
   "source": [
    "# defining the input and output columns to separate the dataset in the later cells.\n",
    "\n",
    "input_columns = dfx.columns.to_list()\n",
    "output_columns = df_cat.columns.to_list()\n",
    "\n",
    "print(\"Number of input columns: \", len(input_columns))\n",
    "#print(\"Input columns: \", ', '.join(input_columns))\n",
    "\n",
    "print(\"Number of output columns: \", len(output_columns))\n",
    "#print(\"Output columns: \", ', '.join(output_columns))"
   ]
  },
  {
   "cell_type": "code",
   "execution_count": 10,
   "metadata": {
    "execution": {
     "iopub.execute_input": "2020-12-23T07:10:08.213497Z",
     "iopub.status.busy": "2020-12-23T07:10:08.213343Z",
     "iopub.status.idle": "2020-12-23T07:10:08.227140Z",
     "shell.execute_reply": "2020-12-23T07:10:08.226654Z",
     "shell.execute_reply.started": "2020-12-23T07:10:08.213480Z"
    }
   },
   "outputs": [
    {
     "data": {
      "text/html": [
       "<div>\n",
       "<style scoped>\n",
       "    .dataframe tbody tr th:only-of-type {\n",
       "        vertical-align: middle;\n",
       "    }\n",
       "\n",
       "    .dataframe tbody tr th {\n",
       "        vertical-align: top;\n",
       "    }\n",
       "\n",
       "    .dataframe thead th {\n",
       "        text-align: right;\n",
       "    }\n",
       "</style>\n",
       "<table border=\"1\" class=\"dataframe\">\n",
       "  <thead>\n",
       "    <tr style=\"text-align: right;\">\n",
       "      <th></th>\n",
       "      <th>Age</th>\n",
       "      <th>BP</th>\n",
       "      <th>Cholesterol</th>\n",
       "      <th>Na_to_K</th>\n",
       "      <th>Sex_M</th>\n",
       "      <th>DrugY</th>\n",
       "      <th>drugA</th>\n",
       "      <th>drugB</th>\n",
       "      <th>drugC</th>\n",
       "      <th>drugX</th>\n",
       "    </tr>\n",
       "  </thead>\n",
       "  <tbody>\n",
       "    <tr>\n",
       "      <th>91</th>\n",
       "      <td>41</td>\n",
       "      <td>0</td>\n",
       "      <td>1</td>\n",
       "      <td>15.156</td>\n",
       "      <td>1</td>\n",
       "      <td>1</td>\n",
       "      <td>0</td>\n",
       "      <td>0</td>\n",
       "      <td>0</td>\n",
       "      <td>0</td>\n",
       "    </tr>\n",
       "    <tr>\n",
       "      <th>75</th>\n",
       "      <td>26</td>\n",
       "      <td>1</td>\n",
       "      <td>1</td>\n",
       "      <td>20.909</td>\n",
       "      <td>1</td>\n",
       "      <td>1</td>\n",
       "      <td>0</td>\n",
       "      <td>0</td>\n",
       "      <td>0</td>\n",
       "      <td>0</td>\n",
       "    </tr>\n",
       "    <tr>\n",
       "      <th>164</th>\n",
       "      <td>16</td>\n",
       "      <td>0</td>\n",
       "      <td>1</td>\n",
       "      <td>19.007</td>\n",
       "      <td>1</td>\n",
       "      <td>1</td>\n",
       "      <td>0</td>\n",
       "      <td>0</td>\n",
       "      <td>0</td>\n",
       "      <td>0</td>\n",
       "    </tr>\n",
       "    <tr>\n",
       "      <th>13</th>\n",
       "      <td>74</td>\n",
       "      <td>1</td>\n",
       "      <td>0</td>\n",
       "      <td>20.942</td>\n",
       "      <td>0</td>\n",
       "      <td>1</td>\n",
       "      <td>0</td>\n",
       "      <td>0</td>\n",
       "      <td>0</td>\n",
       "      <td>0</td>\n",
       "    </tr>\n",
       "    <tr>\n",
       "      <th>25</th>\n",
       "      <td>28</td>\n",
       "      <td>0</td>\n",
       "      <td>1</td>\n",
       "      <td>18.809</td>\n",
       "      <td>0</td>\n",
       "      <td>1</td>\n",
       "      <td>0</td>\n",
       "      <td>0</td>\n",
       "      <td>0</td>\n",
       "      <td>0</td>\n",
       "    </tr>\n",
       "    <tr>\n",
       "      <th>...</th>\n",
       "      <td>...</td>\n",
       "      <td>...</td>\n",
       "      <td>...</td>\n",
       "      <td>...</td>\n",
       "      <td>...</td>\n",
       "      <td>...</td>\n",
       "      <td>...</td>\n",
       "      <td>...</td>\n",
       "      <td>...</td>\n",
       "      <td>...</td>\n",
       "    </tr>\n",
       "    <tr>\n",
       "      <th>127</th>\n",
       "      <td>35</td>\n",
       "      <td>2</td>\n",
       "      <td>1</td>\n",
       "      <td>7.845</td>\n",
       "      <td>1</td>\n",
       "      <td>0</td>\n",
       "      <td>0</td>\n",
       "      <td>0</td>\n",
       "      <td>0</td>\n",
       "      <td>1</td>\n",
       "    </tr>\n",
       "    <tr>\n",
       "      <th>181</th>\n",
       "      <td>59</td>\n",
       "      <td>2</td>\n",
       "      <td>0</td>\n",
       "      <td>13.884</td>\n",
       "      <td>0</td>\n",
       "      <td>0</td>\n",
       "      <td>0</td>\n",
       "      <td>0</td>\n",
       "      <td>0</td>\n",
       "      <td>1</td>\n",
       "    </tr>\n",
       "    <tr>\n",
       "      <th>159</th>\n",
       "      <td>34</td>\n",
       "      <td>1</td>\n",
       "      <td>1</td>\n",
       "      <td>12.923</td>\n",
       "      <td>0</td>\n",
       "      <td>0</td>\n",
       "      <td>0</td>\n",
       "      <td>0</td>\n",
       "      <td>0</td>\n",
       "      <td>1</td>\n",
       "    </tr>\n",
       "    <tr>\n",
       "      <th>43</th>\n",
       "      <td>23</td>\n",
       "      <td>2</td>\n",
       "      <td>0</td>\n",
       "      <td>12.260</td>\n",
       "      <td>1</td>\n",
       "      <td>0</td>\n",
       "      <td>0</td>\n",
       "      <td>0</td>\n",
       "      <td>0</td>\n",
       "      <td>1</td>\n",
       "    </tr>\n",
       "    <tr>\n",
       "      <th>37</th>\n",
       "      <td>39</td>\n",
       "      <td>1</td>\n",
       "      <td>1</td>\n",
       "      <td>13.938</td>\n",
       "      <td>1</td>\n",
       "      <td>0</td>\n",
       "      <td>0</td>\n",
       "      <td>0</td>\n",
       "      <td>0</td>\n",
       "      <td>1</td>\n",
       "    </tr>\n",
       "  </tbody>\n",
       "</table>\n",
       "<p>455 rows × 10 columns</p>\n",
       "</div>"
      ],
      "text/plain": [
       "     Age  BP  Cholesterol  Na_to_K  Sex_M  DrugY  drugA  drugB  drugC  drugX\n",
       "91    41   0            1   15.156      1      1      0      0      0      0\n",
       "75    26   1            1   20.909      1      1      0      0      0      0\n",
       "164   16   0            1   19.007      1      1      0      0      0      0\n",
       "13    74   1            0   20.942      0      1      0      0      0      0\n",
       "25    28   0            1   18.809      0      1      0      0      0      0\n",
       "..   ...  ..          ...      ...    ...    ...    ...    ...    ...    ...\n",
       "127   35   2            1    7.845      1      0      0      0      0      1\n",
       "181   59   2            0   13.884      0      0      0      0      0      1\n",
       "159   34   1            1   12.923      0      0      0      0      0      1\n",
       "43    23   2            0   12.260      1      0      0      0      0      1\n",
       "37    39   1            1   13.938      1      0      0      0      0      1\n",
       "\n",
       "[455 rows x 10 columns]"
      ]
     },
     "execution_count": 10,
     "metadata": {},
     "output_type": "execute_result"
    }
   ],
   "source": [
    "for i in output_columns:\n",
    "    dfx[i] = df_cat[i]\n",
    "\n",
    "del df_cat\n",
    "\n",
    "dfx"
   ]
  },
  {
   "cell_type": "markdown",
   "metadata": {},
   "source": [
    "## Train test split"
   ]
  },
  {
   "cell_type": "code",
   "execution_count": 11,
   "metadata": {
    "execution": {
     "iopub.execute_input": "2020-12-23T07:10:08.228211Z",
     "iopub.status.busy": "2020-12-23T07:10:08.227985Z",
     "iopub.status.idle": "2020-12-23T07:10:08.235218Z",
     "shell.execute_reply": "2020-12-23T07:10:08.234598Z",
     "shell.execute_reply.started": "2020-12-23T07:10:08.228183Z"
    }
   },
   "outputs": [
    {
     "name": "stdout",
     "output_type": "stream",
     "text": [
      "Number of samples in...\n",
      "Training set:  364\n",
      "Validation set:  45\n",
      "Testing set:  46\n"
     ]
    }
   ],
   "source": [
    "# Splitting into train, val and test set -- 80-10-10 split\n",
    "\n",
    "# First, an 80-20 split\n",
    "train_df, val_test_df = train_test_split(dfx, test_size = 0.2, random_state = 13)\n",
    "\n",
    "# Then split the 20% into half\n",
    "val_df, test_df = train_test_split(val_test_df, test_size = 0.5, random_state = 13)\n",
    "\n",
    "print(\"Number of samples in...\")\n",
    "print(\"Training set: \", len(train_df))\n",
    "print(\"Validation set: \", len(val_df))\n",
    "print(\"Testing set: \", len(test_df))"
   ]
  },
  {
   "cell_type": "code",
   "execution_count": 12,
   "metadata": {
    "execution": {
     "iopub.execute_input": "2020-12-23T07:10:08.236069Z",
     "iopub.status.busy": "2020-12-23T07:10:08.235916Z",
     "iopub.status.idle": "2020-12-23T07:10:08.243347Z",
     "shell.execute_reply": "2020-12-23T07:10:08.242884Z",
     "shell.execute_reply.started": "2020-12-23T07:10:08.236051Z"
    }
   },
   "outputs": [],
   "source": [
    "# Splitting into X (input) and y (output)\n",
    "\n",
    "Xtrain, ytrain = np.array(train_df[input_columns]), np.array(train_df[output_columns])\n",
    "\n",
    "Xval, yval = np.array(val_df[input_columns]), np.array(val_df[output_columns])\n",
    "\n",
    "Xtest, ytest = np.array(test_df[input_columns]), np.array(test_df[output_columns])"
   ]
  },
  {
   "cell_type": "markdown",
   "metadata": {},
   "source": [
    "## Scaling the values"
   ]
  },
  {
   "cell_type": "code",
   "execution_count": 13,
   "metadata": {
    "execution": {
     "iopub.execute_input": "2020-12-23T07:10:08.244127Z",
     "iopub.status.busy": "2020-12-23T07:10:08.243985Z",
     "iopub.status.idle": "2020-12-23T07:10:08.250338Z",
     "shell.execute_reply": "2020-12-23T07:10:08.249814Z",
     "shell.execute_reply.started": "2020-12-23T07:10:08.244110Z"
    }
   },
   "outputs": [],
   "source": [
    "# Each feature has a different range. \n",
    "# Using min_max_scaler to scale them to values in the range [0,1].\n",
    "\n",
    "min_max_scaler = MinMaxScaler()\n",
    "\n",
    "# Fit on training set alone\n",
    "Xtrain = min_max_scaler.fit_transform(Xtrain)\n",
    "\n",
    "# Use it to transform val and test input\n",
    "Xval = min_max_scaler.transform(Xval)\n",
    "Xtest = min_max_scaler.transform(Xtest)"
   ]
  },
  {
   "cell_type": "markdown",
   "metadata": {},
   "source": [
    "# Model"
   ]
  },
  {
   "cell_type": "code",
   "execution_count": 14,
   "metadata": {
    "execution": {
     "iopub.execute_input": "2020-12-23T07:10:08.251525Z",
     "iopub.status.busy": "2020-12-23T07:10:08.251236Z",
     "iopub.status.idle": "2020-12-23T07:10:08.968752Z",
     "shell.execute_reply": "2020-12-23T07:10:08.968095Z",
     "shell.execute_reply.started": "2020-12-23T07:10:08.251497Z"
    }
   },
   "outputs": [],
   "source": [
    "model = Sequential([\n",
    "    Dense(1024, activation = 'relu', input_shape = Xtrain[0].shape),\n",
    "    Dense(512, activation = 'relu'),\n",
    "    Dense(256, activation = 'relu'),\n",
    "    Dense(64, activation = 'relu'),\n",
    "    Dense(len(output_columns), activation = 'softmax')\n",
    "])\n",
    "\n",
    "cb = [EarlyStopping(monitor = 'val_loss', patience=8, restore_best_weights=True)]"
   ]
  },
  {
   "cell_type": "code",
   "execution_count": 15,
   "metadata": {
    "execution": {
     "iopub.execute_input": "2020-12-23T07:10:08.970021Z",
     "iopub.status.busy": "2020-12-23T07:10:08.969768Z",
     "iopub.status.idle": "2020-12-23T07:10:10.750985Z",
     "shell.execute_reply": "2020-12-23T07:10:10.750431Z",
     "shell.execute_reply.started": "2020-12-23T07:10:08.969991Z"
    }
   },
   "outputs": [
    {
     "name": "stdout",
     "output_type": "stream",
     "text": [
      "Epoch 1/64\n",
      "12/12 [==============================] - 0s 13ms/step - loss: 1.2915 - accuracy: 0.4588 - val_loss: 1.0577 - val_accuracy: 0.6000\n",
      "Epoch 2/64\n",
      "12/12 [==============================] - 0s 3ms/step - loss: 0.7581 - accuracy: 0.6896 - val_loss: 0.7546 - val_accuracy: 0.6444\n",
      "Epoch 3/64\n",
      "12/12 [==============================] - 0s 3ms/step - loss: 0.4894 - accuracy: 0.8049 - val_loss: 0.7814 - val_accuracy: 0.6889\n",
      "Epoch 4/64\n",
      "12/12 [==============================] - 0s 3ms/step - loss: 0.4375 - accuracy: 0.8544 - val_loss: 0.6606 - val_accuracy: 0.8444\n",
      "Epoch 5/64\n",
      "12/12 [==============================] - 0s 3ms/step - loss: 0.5359 - accuracy: 0.8187 - val_loss: 0.2804 - val_accuracy: 0.8889\n",
      "Epoch 6/64\n",
      "12/12 [==============================] - 0s 3ms/step - loss: 0.3168 - accuracy: 0.9038 - val_loss: 0.1936 - val_accuracy: 0.9111\n",
      "Epoch 7/64\n",
      "12/12 [==============================] - 0s 3ms/step - loss: 0.1425 - accuracy: 0.9588 - val_loss: 0.1256 - val_accuracy: 0.9333\n",
      "Epoch 8/64\n",
      "12/12 [==============================] - 0s 3ms/step - loss: 0.4256 - accuracy: 0.8901 - val_loss: 0.2039 - val_accuracy: 0.9111\n",
      "Epoch 9/64\n",
      "12/12 [==============================] - 0s 3ms/step - loss: 0.1387 - accuracy: 0.9725 - val_loss: 0.1506 - val_accuracy: 0.9556\n",
      "Epoch 10/64\n",
      "12/12 [==============================] - 0s 3ms/step - loss: 0.0972 - accuracy: 0.9780 - val_loss: 0.0606 - val_accuracy: 0.9778\n",
      "Epoch 11/64\n",
      "12/12 [==============================] - 0s 3ms/step - loss: 0.2397 - accuracy: 0.9313 - val_loss: 0.7711 - val_accuracy: 0.8444\n",
      "Epoch 12/64\n",
      "12/12 [==============================] - 0s 3ms/step - loss: 0.3861 - accuracy: 0.8874 - val_loss: 0.4266 - val_accuracy: 0.8667\n",
      "Epoch 13/64\n",
      "12/12 [==============================] - 0s 3ms/step - loss: 0.2052 - accuracy: 0.9533 - val_loss: 0.1901 - val_accuracy: 0.9333\n",
      "Epoch 14/64\n",
      "12/12 [==============================] - 0s 3ms/step - loss: 0.0938 - accuracy: 0.9753 - val_loss: 0.3236 - val_accuracy: 0.9556\n",
      "Epoch 15/64\n",
      "12/12 [==============================] - 0s 3ms/step - loss: 0.2585 - accuracy: 0.9286 - val_loss: 0.1525 - val_accuracy: 0.9556\n",
      "Epoch 16/64\n",
      "12/12 [==============================] - 0s 3ms/step - loss: 0.0953 - accuracy: 0.9753 - val_loss: 0.0710 - val_accuracy: 0.9778\n",
      "Epoch 17/64\n",
      "12/12 [==============================] - 0s 3ms/step - loss: 0.0331 - accuracy: 0.9973 - val_loss: 0.0165 - val_accuracy: 1.0000\n",
      "Epoch 18/64\n",
      "12/12 [==============================] - 0s 3ms/step - loss: 0.0327 - accuracy: 0.9918 - val_loss: 0.0136 - val_accuracy: 1.0000\n",
      "Epoch 19/64\n",
      "12/12 [==============================] - 0s 3ms/step - loss: 0.0917 - accuracy: 0.9725 - val_loss: 0.0341 - val_accuracy: 0.9778\n",
      "Epoch 20/64\n",
      "12/12 [==============================] - 0s 3ms/step - loss: 0.0572 - accuracy: 0.9918 - val_loss: 0.1868 - val_accuracy: 0.9778\n",
      "Epoch 21/64\n",
      "12/12 [==============================] - 0s 3ms/step - loss: 0.0341 - accuracy: 0.9890 - val_loss: 0.2021 - val_accuracy: 0.9778\n",
      "Epoch 22/64\n",
      "12/12 [==============================] - 0s 3ms/step - loss: 0.0497 - accuracy: 0.9890 - val_loss: 0.3015 - val_accuracy: 0.9778\n",
      "Epoch 23/64\n",
      "12/12 [==============================] - 0s 3ms/step - loss: 0.1263 - accuracy: 0.9780 - val_loss: 0.4013 - val_accuracy: 0.9556\n",
      "Epoch 24/64\n",
      "12/12 [==============================] - 0s 3ms/step - loss: 0.1729 - accuracy: 0.9451 - val_loss: 0.3378 - val_accuracy: 0.9556\n",
      "Epoch 25/64\n",
      "12/12 [==============================] - 0s 3ms/step - loss: 0.2996 - accuracy: 0.9231 - val_loss: 0.0784 - val_accuracy: 1.0000\n",
      "Epoch 26/64\n",
      "12/12 [==============================] - 0s 3ms/step - loss: 0.2442 - accuracy: 0.9478 - val_loss: 0.1001 - val_accuracy: 0.9556\n"
     ]
    }
   ],
   "source": [
    "model.compile(optimizer=Adam(0.01), loss=CategoricalCrossentropy(), metrics=['accuracy'])\n",
    "\n",
    "history = model.fit(Xtrain, ytrain, validation_data = (Xval, yval), epochs=64, callbacks=cb)"
   ]
  },
  {
   "cell_type": "code",
   "execution_count": 16,
   "metadata": {
    "execution": {
     "iopub.execute_input": "2020-12-23T07:10:10.752256Z",
     "iopub.status.busy": "2020-12-23T07:10:10.752008Z",
     "iopub.status.idle": "2020-12-23T07:10:10.791355Z",
     "shell.execute_reply": "2020-12-23T07:10:10.790816Z",
     "shell.execute_reply.started": "2020-12-23T07:10:10.752223Z"
    }
   },
   "outputs": [
    {
     "name": "stdout",
     "output_type": "stream",
     "text": [
      "2/2 [==============================] - 0s 1ms/step - loss: 0.0039 - accuracy: 1.0000\n"
     ]
    },
    {
     "data": {
      "text/plain": [
       "[0.0039459397085011005, 1.0]"
      ]
     },
     "execution_count": 16,
     "metadata": {},
     "output_type": "execute_result"
    }
   ],
   "source": [
    "model.evaluate(Xtest, ytest)"
   ]
  },
  {
   "cell_type": "code",
   "execution_count": 17,
   "metadata": {
    "execution": {
     "iopub.execute_input": "2020-12-23T07:10:10.792323Z",
     "iopub.status.busy": "2020-12-23T07:10:10.792157Z",
     "iopub.status.idle": "2020-12-23T07:10:11.011761Z",
     "shell.execute_reply": "2020-12-23T07:10:11.011215Z",
     "shell.execute_reply.started": "2020-12-23T07:10:10.792305Z"
    }
   },
   "outputs": [
    {
     "data": {
      "text/plain": [
       "<matplotlib.image.AxesImage at 0x7f666c12be10>"
      ]
     },
     "execution_count": 17,
     "metadata": {},
     "output_type": "execute_result"
    },
    {
     "data": {
      "image/png": "[encoded data removed]",
      "text/plain": [
       "<Figure size 432x288 with 1 Axes>"
      ]
     },
     "metadata": {
      "needs_background": "light"
     },
     "output_type": "display_data"
    }
   ],
   "source": [
    "cm = confusion_matrix(np.argmax(ytest, axis = 1), np.argmax(model.predict(Xtest), axis = 1))\n",
    "cm = cm.astype('float') / cm.sum(axis=1)[:, np.newaxis]\n",
    "\n",
    "for i in range(cm.shape[1]):\n",
    "    for j in range(cm.shape[0]):\n",
    "        plt.text(j, i, format(cm[i, j], '.2f'), horizontalalignment=\"center\", color=\"black\")\n",
    "\n",
    "\n",
    "plt.imshow(cm, cmap=plt.cm.Blues)"
   ]
  },
  {
   "cell_type": "markdown",
   "metadata": {},
   "source": [
    "It is important to keep the accuracy extremely high (100%) as chances cannot be taken with a patient's medication."
   ]
  },
  {
   "cell_type": "markdown",
   "metadata": {},
   "source": [
    "# Plotting the metrics"
   ]
  },
  {
   "cell_type": "code",
   "execution_count": 18,
   "metadata": {
    "execution": {
     "iopub.execute_input": "2020-12-23T07:10:11.012699Z",
     "iopub.status.busy": "2020-12-23T07:10:11.012541Z",
     "iopub.status.idle": "2020-12-23T07:10:11.016033Z",
     "shell.execute_reply": "2020-12-23T07:10:11.015443Z",
     "shell.execute_reply.started": "2020-12-23T07:10:11.012681Z"
    }
   },
   "outputs": [],
   "source": [
    "def plot(history, variable, variable1):\n",
    "    plt.plot(range(len(history[variable])), history[variable])\n",
    "    plt.plot(range(len(history[variable1])), history[variable1])\n",
    "    plt.title(variable)\n",
    "    plt.legend([variable, variable1])"
   ]
  },
  {
   "cell_type": "code",
   "execution_count": 19,
   "metadata": {
    "execution": {
     "iopub.execute_input": "2020-12-23T07:10:11.016877Z",
     "iopub.status.busy": "2020-12-23T07:10:11.016723Z",
     "iopub.status.idle": "2020-12-23T07:10:11.130261Z",
     "shell.execute_reply": "2020-12-23T07:10:11.129730Z",
     "shell.execute_reply.started": "2020-12-23T07:10:11.016859Z"
    }
   },
   "outputs": [
    {
     "data": {
      "image/png": "[encoded data removed]",
      "text/plain": [
       "<Figure size 432x288 with 1 Axes>"
      ]
     },
     "metadata": {
      "needs_background": "light"
     },
     "output_type": "display_data"
    }
   ],
   "source": [
    "plot(history.history, \"accuracy\", \"val_accuracy\")"
   ]
  },
  {
   "cell_type": "code",
   "execution_count": 20,
   "metadata": {
    "execution": {
     "iopub.execute_input": "2020-12-23T07:10:11.131368Z",
     "iopub.status.busy": "2020-12-23T07:10:11.131131Z",
     "iopub.status.idle": "2020-12-23T07:10:11.244233Z",
     "shell.execute_reply": "2020-12-23T07:10:11.243633Z",
     "shell.execute_reply.started": "2020-12-23T07:10:11.131339Z"
    }
   },
   "outputs": [
    {
     "data": {
      "image/png": "[encoded data removed]",
      "text/plain": [
       "<Figure size 432x288 with 1 Axes>"
      ]
     },
     "metadata": {
      "needs_background": "light"
     },
     "output_type": "display_data"
    }
   ],
   "source": [
    "plot(history.history, \"loss\", \"val_loss\")"
   ]
  },
  {
   "cell_type": "markdown",
   "metadata": {},
   "source": [
    "# Prediction"
   ]
  },
  {
   "cell_type": "code",
   "execution_count": 21,
   "metadata": {
    "execution": {
     "iopub.execute_input": "2020-12-23T07:10:11.245027Z",
     "iopub.status.busy": "2020-12-23T07:10:11.244895Z",
     "iopub.status.idle": "2020-12-23T07:10:11.248906Z",
     "shell.execute_reply": "2020-12-23T07:10:11.248268Z",
     "shell.execute_reply.started": "2020-12-23T07:10:11.245011Z"
    }
   },
   "outputs": [],
   "source": [
    "gender = ['M', 'F']\n",
    "\n",
    "def print_sample(x):\n",
    "    print(\"\\nSample:\")\n",
    "    sample = np.array(test_df)[x]\n",
    "    print(\"Age :\", sample[0])\n",
    "    print(\"Sex :\", gender[int(sample[4])])\n",
    "    print(\"Na to K ratio :\", sample[3])\n",
    "    print(\"BP :\", le_bp.classes_[int(sample[1])])\n",
    "    print(\"Cholesterol :\", le_ch.classes_[int(sample[2])])\n",
    "    print()"
   ]
  },
  {
   "cell_type": "code",
   "execution_count": 22,
   "metadata": {
    "execution": {
     "iopub.execute_input": "2020-12-23T07:10:11.250117Z",
     "iopub.status.busy": "2020-12-23T07:10:11.249894Z",
     "iopub.status.idle": "2020-12-23T07:10:11.282599Z",
     "shell.execute_reply": "2020-12-23T07:10:11.282121Z",
     "shell.execute_reply.started": "2020-12-23T07:10:11.250089Z"
    }
   },
   "outputs": [
    {
     "name": "stdout",
     "output_type": "stream",
     "text": [
      "\n",
      "Sample:\n",
      "Age : 19.0\n",
      "Sex : M\n",
      "Na to K ratio : 13.312999999999999\n",
      "BP : HIGH\n",
      "Cholesterol : HIGH\n",
      "\n",
      "Predicted:  drugA\n",
      "True:  drugA\n",
      "Probability:  1.0\n"
     ]
    }
   ],
   "source": [
    "# pick random test data sample from one batch\n",
    "x = random.randint(0, len(Xtest) - 1)\n",
    "\n",
    "print_sample(x)\n",
    "\n",
    "output = model.predict(Xtest[x].reshape(1, -1))    # getting output; input shape (256, 256, 3) --> (1, 256, 256, 3)\n",
    "pred = np.argmax(output[0])    # finding max\n",
    "print(\"Predicted: \", output_columns[pred])    # Picking the label from class_names base don the model output\n",
    "\n",
    "output_true = np.array(ytest)[x]\n",
    "\n",
    "print(\"True: \", output_columns[np.argmax(output_true)])\n",
    "print(\"Probability: \", output[0][pred])"
   ]
  },
  {
   "cell_type": "markdown",
   "metadata": {},
   "source": [
    "# deepC"
   ]
  },
  {
   "cell_type": "code",
   "execution_count": 23,
   "metadata": {
    "execution": {
     "iopub.execute_input": "2020-12-23T07:10:11.283706Z",
     "iopub.status.busy": "2020-12-23T07:10:11.283477Z",
     "iopub.status.idle": "2020-12-23T07:10:21.986909Z",
     "shell.execute_reply": "2020-12-23T07:10:21.986193Z",
     "shell.execute_reply.started": "2020-12-23T07:10:11.283677Z"
    }
   },
   "outputs": [
    {
     "name": "stdout",
     "output_type": "stream",
     "text": [
      "\u001b[96m\u001b[1m[INFO]\u001b[0m\n",
      "Reading [keras model] 'drug.h5'\n",
      "\u001b[92m\u001b[1m[SUCCESS]\u001b[0m\n",
      "Saved 'drug.onnx'\n",
      "\u001b[96m\u001b[1m[INFO]\u001b[0m\n",
      "Reading [onnx model] 'drug.onnx'\n",
      "\u001b[96m\u001b[1m[INFO]\u001b[0m\n",
      "Model info:\n",
      "  ir_vesion : 4\n",
      "  doc       : \n",
      "\u001b[93m\u001b[1m[WARNING]\u001b[0m\n",
      "[ONNX]: terminal (input/output) dense_input's shape is less than 1. Changing it to 1.\n",
      "\u001b[93m\u001b[1m[WARNING]\u001b[0m\n",
      "[ONNX]: terminal (input/output) dense_4's shape is less than 1. Changing it to 1.\n",
      "WARN (GRAPH): found operator node with the same name (dense_4) as io node.\n",
      "\u001b[96m\u001b[1m[INFO]\u001b[0m\n",
      "Running DNNC graph sanity check ...\n",
      "\u001b[92m\u001b[1m[SUCCESS]\u001b[0m\n",
      "Passed sanity check.\n",
      "\u001b[96m\u001b[1m[INFO]\u001b[0m\n",
      "Writing C++ file 'drug_deepC/drug.cpp'\n",
      "\u001b[96m\u001b[1m[INFO]\u001b[0m\n",
      "deepSea model files are ready in 'drug_deepC/' \n",
      "\u001b[96m\u001b[1m[RUNNING COMMAND]\u001b[0m\n",
      "g++ -std=c++11 -O3 -fno-rtti -fno-exceptions -I. -I/opt/tljh/user/lib/python3.7/site-packages/deepC-0.13-py3.7-linux-x86_64.egg/deepC/include -isystem /opt/tljh/user/lib/python3.7/site-packages/deepC-0.13-py3.7-linux-x86_64.egg/deepC/packages/eigen-eigen-323c052e1731 drug_deepC/drug.cpp -o drug_deepC/drug.exe\n",
      "\u001b[96m\u001b[1m[RUNNING COMMAND]\u001b[0m\n",
      "size \"drug_deepC/drug.exe\"\n",
      "   text\t   data\t    bss\t    dec\t    hex\tfilename\n",
      " 124484\t2719216\t    760\t2844460\t 2b672c\tdrug_deepC/drug.exe\n",
      "\u001b[92m\u001b[1m[SUCCESS]\u001b[0m\n",
      "Saved model as executable \"drug_deepC/drug.exe\"\n"
     ]
    }
   ],
   "source": [
    "model.save('drug.h5')\n",
    "\n",
    "!deepCC drug.h5"
   ]
  },
  {
   "cell_type": "code",
   "execution_count": 24,
   "metadata": {
    "execution": {
     "iopub.execute_input": "2020-12-23T07:10:21.988219Z",
     "iopub.status.busy": "2020-12-23T07:10:21.988035Z",
     "iopub.status.idle": "2020-12-23T07:10:22.134141Z",
     "shell.execute_reply": "2020-12-23T07:10:22.133491Z",
     "shell.execute_reply.started": "2020-12-23T07:10:21.988194Z"
    }
   },
   "outputs": [
    {
     "name": "stdout",
     "output_type": "stream",
     "text": [
      "reading file sample.data.\n",
      "writing file deepSea_result_1.out.\n",
      "\n",
      "Sample:\n",
      "Age : 19.0\n",
      "Sex : M\n",
      "Na to K ratio : 13.312999999999999\n",
      "BP : HIGH\n",
      "Cholesterol : HIGH\n",
      "\n",
      "Predicted:  drugA\n",
      "True:  drugA\n",
      "Probability:  1.0\n"
     ]
    }
   ],
   "source": [
    "# pick random test data sample from one batch\n",
    "x = random.randint(0, len(Xtest) - 1)\n",
    "\n",
    "np.savetxt('sample.data', Xtest[x])    # xth sample into text file\n",
    "\n",
    "# run exe with input\n",
    "!drug_deepC/drug.exe sample.data\n",
    "\n",
    "# show predicted output\n",
    "nn_out = np.loadtxt('deepSea_result_1.out')\n",
    "\n",
    "print_sample(x)\n",
    "\n",
    "pred = np.argmax(nn_out)    # finding max\n",
    "print(\"Predicted: \", output_columns[pred])    # Picking the label from class_names base don the model output\n",
    "\n",
    "output_true = np.array(ytest)[x]\n",
    "\n",
    "print(\"True: \", output_columns[np.argmax(output_true)])\n",
    "print(\"Probability: \", nn_out[pred])"
   ]
  }
 ],
 "metadata": {
  "kernelspec": {
   "display_name": "Python 3",
   "language": "python",
   "name": "python3"
  },
  "language_info": {
   "codemirror_mode": {
    "name": "ipython",
    "version": 3
   },
   "file_extension": ".py",
   "mimetype": "text/x-python",
   "name": "python",
   "nbconvert_exporter": "python",
   "pygments_lexer": "ipython3",
   "version": "3.7.3"
  }
 },
 "nbformat": 4,
 "nbformat_minor": 4
}
