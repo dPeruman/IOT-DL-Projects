{
 "cells": [
  {
   "cell_type": "markdown",
   "metadata": {},
   "source": [
    "# Language identification in text\n",
    "\n",
    "\n",
    "**Credit: [AITS Cainvas Community](https://discord.gg/x6xn39u)**\n",
    "\n",
    "![](https://cainvas-static.s3.amazonaws.com/media/user_data/cainvas-admin/language.gif)\n",
    "\n",
    "*Photo by [Pendar Yousefi](https://dribbble.com/shots/13952396-Google-Translate-Updates) on [Dribbble](https://dribbble.com)*\n",
    "\n",
    "\n",
    "Language detection refers to determining the language that the given text is written in.\n",
    "\n",
    "This categorization becomes important when the language of the input data is not assumed. For example, the detect language feature of Google translate detects the language of the input text before translating it."
   ]
  },
  {
   "cell_type": "code",
   "execution_count": 1,
   "metadata": {
    "execution": {
     "iopub.execute_input": "2021-01-15T04:08:54.756168Z",
     "iopub.status.busy": "2021-01-15T04:08:54.756015Z",
     "iopub.status.idle": "2021-01-15T04:08:56.428987Z",
     "shell.execute_reply": "2021-01-15T04:08:56.428368Z",
     "shell.execute_reply.started": "2021-01-15T04:08:54.756152Z"
    }
   },
   "outputs": [],
   "source": [
    "import numpy as np\n",
    "import pandas as pd\n",
    "from keras import layers, optimizers, losses, callbacks, models\n",
    "from sklearn.feature_extraction.text import CountVectorizer\n",
    "from sklearn.preprocessing import StandardScaler\n",
    "from sklearn.model_selection import train_test_split\n",
    "from sklearn.metrics import confusion_matrix, plot_confusion_matrix\n",
    "import matplotlib.pyplot as plt\n",
    "import random"
   ]
  },
  {
   "cell_type": "markdown",
   "metadata": {},
   "source": [
    "# The dataset\n",
    "\n",
    ">[On Kaggle](https://www.kaggle.com/zarajamshaid/language-identification-datasst) by [Zara Jamshaid](https://www.kaggle.com/zarajamshaid)\n",
    "\n",
    ">WiLI-2018, the Wikipedia language identification benchmark dataset, contains 235000 paragraphs of 235 languages.\n",
    "After data selection and preprocessing 22 languages from the original dataset were selected to create the current dataset.\n",
    "\n",
    "The dataset is a CSV file consisting of 1000 text samples from 22 languages each, making it a total of 22k sample sin the dataset."
   ]
  },
  {
   "cell_type": "code",
   "execution_count": 2,
   "metadata": {
    "execution": {
     "iopub.execute_input": "2021-01-15T04:08:56.430044Z",
     "iopub.status.busy": "2021-01-15T04:08:56.429879Z",
     "iopub.status.idle": "2021-01-15T04:08:56.733061Z",
     "shell.execute_reply": "2021-01-15T04:08:56.732367Z",
     "shell.execute_reply.started": "2021-01-15T04:08:56.430026Z"
    }
   },
   "outputs": [
    {
     "data": {
      "text/html": [
       "<div>\n",
       "<style scoped>\n",
       "    .dataframe tbody tr th:only-of-type {\n",
       "        vertical-align: middle;\n",
       "    }\n",
       "\n",
       "    .dataframe tbody tr th {\n",
       "        vertical-align: top;\n",
       "    }\n",
       "\n",
       "    .dataframe thead th {\n",
       "        text-align: right;\n",
       "    }\n",
       "</style>\n",
       "<table border=\"1\" class=\"dataframe\">\n",
       "  <thead>\n",
       "    <tr style=\"text-align: right;\">\n",
       "      <th></th>\n",
       "      <th>Text</th>\n",
       "      <th>language</th>\n",
       "    </tr>\n",
       "  </thead>\n",
       "  <tbody>\n",
       "    <tr>\n",
       "      <th>0</th>\n",
       "      <td>klement gottwaldi surnukeha palsameeriti ning ...</td>\n",
       "      <td>Estonian</td>\n",
       "    </tr>\n",
       "    <tr>\n",
       "      <th>1</th>\n",
       "      <td>sebes joseph pereira thomas  på eng the jesuit...</td>\n",
       "      <td>Swedish</td>\n",
       "    </tr>\n",
       "    <tr>\n",
       "      <th>2</th>\n",
       "      <td>ถนนเจริญกรุง อักษรโรมัน thanon charoen krung เ...</td>\n",
       "      <td>Thai</td>\n",
       "    </tr>\n",
       "    <tr>\n",
       "      <th>3</th>\n",
       "      <td>விசாகப்பட்டினம் தமிழ்ச்சங்கத்தை இந்துப் பத்திர...</td>\n",
       "      <td>Tamil</td>\n",
       "    </tr>\n",
       "    <tr>\n",
       "      <th>4</th>\n",
       "      <td>de spons behoort tot het geslacht haliclona en...</td>\n",
       "      <td>Dutch</td>\n",
       "    </tr>\n",
       "    <tr>\n",
       "      <th>...</th>\n",
       "      <td>...</td>\n",
       "      <td>...</td>\n",
       "    </tr>\n",
       "    <tr>\n",
       "      <th>21995</th>\n",
       "      <td>hors du terrain les années  et  sont des année...</td>\n",
       "      <td>French</td>\n",
       "    </tr>\n",
       "    <tr>\n",
       "      <th>21996</th>\n",
       "      <td>ใน พศ  หลักจากที่เสด็จประพาสแหลมมลายู ชวา อินเ...</td>\n",
       "      <td>Thai</td>\n",
       "    </tr>\n",
       "    <tr>\n",
       "      <th>21997</th>\n",
       "      <td>con motivo de la celebración del septuagésimoq...</td>\n",
       "      <td>Spanish</td>\n",
       "    </tr>\n",
       "    <tr>\n",
       "      <th>21998</th>\n",
       "      <td>年月，當時還只有歲的她在美國出道，以mai-k名義推出首張英文《baby i like》，由...</td>\n",
       "      <td>Chinese</td>\n",
       "    </tr>\n",
       "    <tr>\n",
       "      <th>21999</th>\n",
       "      <td>aprilie sonda spațială messenger a nasa și-a ...</td>\n",
       "      <td>Romanian</td>\n",
       "    </tr>\n",
       "  </tbody>\n",
       "</table>\n",
       "<p>22000 rows × 2 columns</p>\n",
       "</div>"
      ],
      "text/plain": [
       "                                                    Text  language\n",
       "0      klement gottwaldi surnukeha palsameeriti ning ...  Estonian\n",
       "1      sebes joseph pereira thomas  på eng the jesuit...   Swedish\n",
       "2      ถนนเจริญกรุง อักษรโรมัน thanon charoen krung เ...      Thai\n",
       "3      விசாகப்பட்டினம் தமிழ்ச்சங்கத்தை இந்துப் பத்திர...     Tamil\n",
       "4      de spons behoort tot het geslacht haliclona en...     Dutch\n",
       "...                                                  ...       ...\n",
       "21995  hors du terrain les années  et  sont des année...    French\n",
       "21996  ใน พศ  หลักจากที่เสด็จประพาสแหลมมลายู ชวา อินเ...      Thai\n",
       "21997  con motivo de la celebración del septuagésimoq...   Spanish\n",
       "21998  年月，當時還只有歲的她在美國出道，以mai-k名義推出首張英文《baby i like》，由...   Chinese\n",
       "21999   aprilie sonda spațială messenger a nasa și-a ...  Romanian\n",
       "\n",
       "[22000 rows x 2 columns]"
      ]
     },
     "execution_count": 2,
     "metadata": {},
     "output_type": "execute_result"
    }
   ],
   "source": [
    "df = pd.read_csv('https://cainvas-static.s3.amazonaws.com/media/user_data/cainvas-admin/language_dataset.csv')\n",
    "df"
   ]
  },
  {
   "cell_type": "code",
   "execution_count": 3,
   "metadata": {
    "execution": {
     "iopub.execute_input": "2021-01-15T04:08:56.734007Z",
     "iopub.status.busy": "2021-01-15T04:08:56.733822Z",
     "iopub.status.idle": "2021-01-15T04:08:56.740751Z",
     "shell.execute_reply": "2021-01-15T04:08:56.740112Z",
     "shell.execute_reply.started": "2021-01-15T04:08:56.733987Z"
    }
   },
   "outputs": [
    {
     "data": {
      "text/plain": [
       "Russian       1000\n",
       "Thai          1000\n",
       "Latin         1000\n",
       "Urdu          1000\n",
       "Pushto        1000\n",
       "Arabic        1000\n",
       "Hindi         1000\n",
       "French        1000\n",
       "Portugese     1000\n",
       "Indonesian    1000\n",
       "Estonian      1000\n",
       "Turkish       1000\n",
       "Japanese      1000\n",
       "Persian       1000\n",
       "Korean        1000\n",
       "Swedish       1000\n",
       "English       1000\n",
       "Tamil         1000\n",
       "Dutch         1000\n",
       "Chinese       1000\n",
       "Spanish       1000\n",
       "Romanian      1000\n",
       "Name: language, dtype: int64"
      ]
     },
     "execution_count": 3,
     "metadata": {},
     "output_type": "execute_result"
    }
   ],
   "source": [
    "df['language'].value_counts()"
   ]
  },
  {
   "cell_type": "markdown",
   "metadata": {},
   "source": [
    "This is a balanced dataset!"
   ]
  },
  {
   "cell_type": "markdown",
   "metadata": {},
   "source": [
    "# Preprocessing\n",
    "\n",
    "## One hot encoding\n",
    "\n",
    "This is a multi-class classification problem where the classes do not have any range dependency. Thus the languages are one hot encoded for classification purposes."
   ]
  },
  {
   "cell_type": "code",
   "execution_count": 4,
   "metadata": {
    "execution": {
     "iopub.execute_input": "2021-01-15T04:08:56.741688Z",
     "iopub.status.busy": "2021-01-15T04:08:56.741500Z",
     "iopub.status.idle": "2021-01-15T04:08:56.774862Z",
     "shell.execute_reply": "2021-01-15T04:08:56.774231Z",
     "shell.execute_reply.started": "2021-01-15T04:08:56.741668Z"
    }
   },
   "outputs": [
    {
     "data": {
      "text/html": [
       "<div>\n",
       "<style scoped>\n",
       "    .dataframe tbody tr th:only-of-type {\n",
       "        vertical-align: middle;\n",
       "    }\n",
       "\n",
       "    .dataframe tbody tr th {\n",
       "        vertical-align: top;\n",
       "    }\n",
       "\n",
       "    .dataframe thead th {\n",
       "        text-align: right;\n",
       "    }\n",
       "</style>\n",
       "<table border=\"1\" class=\"dataframe\">\n",
       "  <thead>\n",
       "    <tr style=\"text-align: right;\">\n",
       "      <th></th>\n",
       "      <th>Text</th>\n",
       "      <th>language</th>\n",
       "      <th>Arabic</th>\n",
       "      <th>Chinese</th>\n",
       "      <th>Dutch</th>\n",
       "      <th>English</th>\n",
       "      <th>Estonian</th>\n",
       "      <th>French</th>\n",
       "      <th>Hindi</th>\n",
       "      <th>Indonesian</th>\n",
       "      <th>...</th>\n",
       "      <th>Portugese</th>\n",
       "      <th>Pushto</th>\n",
       "      <th>Romanian</th>\n",
       "      <th>Russian</th>\n",
       "      <th>Spanish</th>\n",
       "      <th>Swedish</th>\n",
       "      <th>Tamil</th>\n",
       "      <th>Thai</th>\n",
       "      <th>Turkish</th>\n",
       "      <th>Urdu</th>\n",
       "    </tr>\n",
       "  </thead>\n",
       "  <tbody>\n",
       "    <tr>\n",
       "      <th>0</th>\n",
       "      <td>klement gottwaldi surnukeha palsameeriti ning ...</td>\n",
       "      <td>Estonian</td>\n",
       "      <td>0</td>\n",
       "      <td>0</td>\n",
       "      <td>0</td>\n",
       "      <td>0</td>\n",
       "      <td>1</td>\n",
       "      <td>0</td>\n",
       "      <td>0</td>\n",
       "      <td>0</td>\n",
       "      <td>...</td>\n",
       "      <td>0</td>\n",
       "      <td>0</td>\n",
       "      <td>0</td>\n",
       "      <td>0</td>\n",
       "      <td>0</td>\n",
       "      <td>0</td>\n",
       "      <td>0</td>\n",
       "      <td>0</td>\n",
       "      <td>0</td>\n",
       "      <td>0</td>\n",
       "    </tr>\n",
       "    <tr>\n",
       "      <th>1</th>\n",
       "      <td>sebes joseph pereira thomas  på eng the jesuit...</td>\n",
       "      <td>Swedish</td>\n",
       "      <td>0</td>\n",
       "      <td>0</td>\n",
       "      <td>0</td>\n",
       "      <td>0</td>\n",
       "      <td>0</td>\n",
       "      <td>0</td>\n",
       "      <td>0</td>\n",
       "      <td>0</td>\n",
       "      <td>...</td>\n",
       "      <td>0</td>\n",
       "      <td>0</td>\n",
       "      <td>0</td>\n",
       "      <td>0</td>\n",
       "      <td>0</td>\n",
       "      <td>1</td>\n",
       "      <td>0</td>\n",
       "      <td>0</td>\n",
       "      <td>0</td>\n",
       "      <td>0</td>\n",
       "    </tr>\n",
       "    <tr>\n",
       "      <th>2</th>\n",
       "      <td>ถนนเจริญกรุง อักษรโรมัน thanon charoen krung เ...</td>\n",
       "      <td>Thai</td>\n",
       "      <td>0</td>\n",
       "      <td>0</td>\n",
       "      <td>0</td>\n",
       "      <td>0</td>\n",
       "      <td>0</td>\n",
       "      <td>0</td>\n",
       "      <td>0</td>\n",
       "      <td>0</td>\n",
       "      <td>...</td>\n",
       "      <td>0</td>\n",
       "      <td>0</td>\n",
       "      <td>0</td>\n",
       "      <td>0</td>\n",
       "      <td>0</td>\n",
       "      <td>0</td>\n",
       "      <td>0</td>\n",
       "      <td>1</td>\n",
       "      <td>0</td>\n",
       "      <td>0</td>\n",
       "    </tr>\n",
       "    <tr>\n",
       "      <th>3</th>\n",
       "      <td>விசாகப்பட்டினம் தமிழ்ச்சங்கத்தை இந்துப் பத்திர...</td>\n",
       "      <td>Tamil</td>\n",
       "      <td>0</td>\n",
       "      <td>0</td>\n",
       "      <td>0</td>\n",
       "      <td>0</td>\n",
       "      <td>0</td>\n",
       "      <td>0</td>\n",
       "      <td>0</td>\n",
       "      <td>0</td>\n",
       "      <td>...</td>\n",
       "      <td>0</td>\n",
       "      <td>0</td>\n",
       "      <td>0</td>\n",
       "      <td>0</td>\n",
       "      <td>0</td>\n",
       "      <td>0</td>\n",
       "      <td>1</td>\n",
       "      <td>0</td>\n",
       "      <td>0</td>\n",
       "      <td>0</td>\n",
       "    </tr>\n",
       "    <tr>\n",
       "      <th>4</th>\n",
       "      <td>de spons behoort tot het geslacht haliclona en...</td>\n",
       "      <td>Dutch</td>\n",
       "      <td>0</td>\n",
       "      <td>0</td>\n",
       "      <td>1</td>\n",
       "      <td>0</td>\n",
       "      <td>0</td>\n",
       "      <td>0</td>\n",
       "      <td>0</td>\n",
       "      <td>0</td>\n",
       "      <td>...</td>\n",
       "      <td>0</td>\n",
       "      <td>0</td>\n",
       "      <td>0</td>\n",
       "      <td>0</td>\n",
       "      <td>0</td>\n",
       "      <td>0</td>\n",
       "      <td>0</td>\n",
       "      <td>0</td>\n",
       "      <td>0</td>\n",
       "      <td>0</td>\n",
       "    </tr>\n",
       "    <tr>\n",
       "      <th>...</th>\n",
       "      <td>...</td>\n",
       "      <td>...</td>\n",
       "      <td>...</td>\n",
       "      <td>...</td>\n",
       "      <td>...</td>\n",
       "      <td>...</td>\n",
       "      <td>...</td>\n",
       "      <td>...</td>\n",
       "      <td>...</td>\n",
       "      <td>...</td>\n",
       "      <td>...</td>\n",
       "      <td>...</td>\n",
       "      <td>...</td>\n",
       "      <td>...</td>\n",
       "      <td>...</td>\n",
       "      <td>...</td>\n",
       "      <td>...</td>\n",
       "      <td>...</td>\n",
       "      <td>...</td>\n",
       "      <td>...</td>\n",
       "      <td>...</td>\n",
       "    </tr>\n",
       "    <tr>\n",
       "      <th>21995</th>\n",
       "      <td>hors du terrain les années  et  sont des année...</td>\n",
       "      <td>French</td>\n",
       "      <td>0</td>\n",
       "      <td>0</td>\n",
       "      <td>0</td>\n",
       "      <td>0</td>\n",
       "      <td>0</td>\n",
       "      <td>1</td>\n",
       "      <td>0</td>\n",
       "      <td>0</td>\n",
       "      <td>...</td>\n",
       "      <td>0</td>\n",
       "      <td>0</td>\n",
       "      <td>0</td>\n",
       "      <td>0</td>\n",
       "      <td>0</td>\n",
       "      <td>0</td>\n",
       "      <td>0</td>\n",
       "      <td>0</td>\n",
       "      <td>0</td>\n",
       "      <td>0</td>\n",
       "    </tr>\n",
       "    <tr>\n",
       "      <th>21996</th>\n",
       "      <td>ใน พศ  หลักจากที่เสด็จประพาสแหลมมลายู ชวา อินเ...</td>\n",
       "      <td>Thai</td>\n",
       "      <td>0</td>\n",
       "      <td>0</td>\n",
       "      <td>0</td>\n",
       "      <td>0</td>\n",
       "      <td>0</td>\n",
       "      <td>0</td>\n",
       "      <td>0</td>\n",
       "      <td>0</td>\n",
       "      <td>...</td>\n",
       "      <td>0</td>\n",
       "      <td>0</td>\n",
       "      <td>0</td>\n",
       "      <td>0</td>\n",
       "      <td>0</td>\n",
       "      <td>0</td>\n",
       "      <td>0</td>\n",
       "      <td>1</td>\n",
       "      <td>0</td>\n",
       "      <td>0</td>\n",
       "    </tr>\n",
       "    <tr>\n",
       "      <th>21997</th>\n",
       "      <td>con motivo de la celebración del septuagésimoq...</td>\n",
       "      <td>Spanish</td>\n",
       "      <td>0</td>\n",
       "      <td>0</td>\n",
       "      <td>0</td>\n",
       "      <td>0</td>\n",
       "      <td>0</td>\n",
       "      <td>0</td>\n",
       "      <td>0</td>\n",
       "      <td>0</td>\n",
       "      <td>...</td>\n",
       "      <td>0</td>\n",
       "      <td>0</td>\n",
       "      <td>0</td>\n",
       "      <td>0</td>\n",
       "      <td>1</td>\n",
       "      <td>0</td>\n",
       "      <td>0</td>\n",
       "      <td>0</td>\n",
       "      <td>0</td>\n",
       "      <td>0</td>\n",
       "    </tr>\n",
       "    <tr>\n",
       "      <th>21998</th>\n",
       "      <td>年月，當時還只有歲的她在美國出道，以mai-k名義推出首張英文《baby i like》，由...</td>\n",
       "      <td>Chinese</td>\n",
       "      <td>0</td>\n",
       "      <td>1</td>\n",
       "      <td>0</td>\n",
       "      <td>0</td>\n",
       "      <td>0</td>\n",
       "      <td>0</td>\n",
       "      <td>0</td>\n",
       "      <td>0</td>\n",
       "      <td>...</td>\n",
       "      <td>0</td>\n",
       "      <td>0</td>\n",
       "      <td>0</td>\n",
       "      <td>0</td>\n",
       "      <td>0</td>\n",
       "      <td>0</td>\n",
       "      <td>0</td>\n",
       "      <td>0</td>\n",
       "      <td>0</td>\n",
       "      <td>0</td>\n",
       "    </tr>\n",
       "    <tr>\n",
       "      <th>21999</th>\n",
       "      <td>aprilie sonda spațială messenger a nasa și-a ...</td>\n",
       "      <td>Romanian</td>\n",
       "      <td>0</td>\n",
       "      <td>0</td>\n",
       "      <td>0</td>\n",
       "      <td>0</td>\n",
       "      <td>0</td>\n",
       "      <td>0</td>\n",
       "      <td>0</td>\n",
       "      <td>0</td>\n",
       "      <td>...</td>\n",
       "      <td>0</td>\n",
       "      <td>0</td>\n",
       "      <td>1</td>\n",
       "      <td>0</td>\n",
       "      <td>0</td>\n",
       "      <td>0</td>\n",
       "      <td>0</td>\n",
       "      <td>0</td>\n",
       "      <td>0</td>\n",
       "      <td>0</td>\n",
       "    </tr>\n",
       "  </tbody>\n",
       "</table>\n",
       "<p>22000 rows × 24 columns</p>\n",
       "</div>"
      ],
      "text/plain": [
       "                                                    Text  language  Arabic  \\\n",
       "0      klement gottwaldi surnukeha palsameeriti ning ...  Estonian       0   \n",
       "1      sebes joseph pereira thomas  på eng the jesuit...   Swedish       0   \n",
       "2      ถนนเจริญกรุง อักษรโรมัน thanon charoen krung เ...      Thai       0   \n",
       "3      விசாகப்பட்டினம் தமிழ்ச்சங்கத்தை இந்துப் பத்திர...     Tamil       0   \n",
       "4      de spons behoort tot het geslacht haliclona en...     Dutch       0   \n",
       "...                                                  ...       ...     ...   \n",
       "21995  hors du terrain les années  et  sont des année...    French       0   \n",
       "21996  ใน พศ  หลักจากที่เสด็จประพาสแหลมมลายู ชวา อินเ...      Thai       0   \n",
       "21997  con motivo de la celebración del septuagésimoq...   Spanish       0   \n",
       "21998  年月，當時還只有歲的她在美國出道，以mai-k名義推出首張英文《baby i like》，由...   Chinese       0   \n",
       "21999   aprilie sonda spațială messenger a nasa și-a ...  Romanian       0   \n",
       "\n",
       "       Chinese  Dutch  English  Estonian  French  Hindi  Indonesian  ...  \\\n",
       "0            0      0        0         1       0      0           0  ...   \n",
       "1            0      0        0         0       0      0           0  ...   \n",
       "2            0      0        0         0       0      0           0  ...   \n",
       "3            0      0        0         0       0      0           0  ...   \n",
       "4            0      1        0         0       0      0           0  ...   \n",
       "...        ...    ...      ...       ...     ...    ...         ...  ...   \n",
       "21995        0      0        0         0       1      0           0  ...   \n",
       "21996        0      0        0         0       0      0           0  ...   \n",
       "21997        0      0        0         0       0      0           0  ...   \n",
       "21998        1      0        0         0       0      0           0  ...   \n",
       "21999        0      0        0         0       0      0           0  ...   \n",
       "\n",
       "       Portugese  Pushto  Romanian  Russian  Spanish  Swedish  Tamil  Thai  \\\n",
       "0              0       0         0        0        0        0      0     0   \n",
       "1              0       0         0        0        0        1      0     0   \n",
       "2              0       0         0        0        0        0      0     1   \n",
       "3              0       0         0        0        0        0      1     0   \n",
       "4              0       0         0        0        0        0      0     0   \n",
       "...          ...     ...       ...      ...      ...      ...    ...   ...   \n",
       "21995          0       0         0        0        0        0      0     0   \n",
       "21996          0       0         0        0        0        0      0     1   \n",
       "21997          0       0         0        0        1        0      0     0   \n",
       "21998          0       0         0        0        0        0      0     0   \n",
       "21999          0       0         1        0        0        0      0     0   \n",
       "\n",
       "       Turkish  Urdu  \n",
       "0            0     0  \n",
       "1            0     0  \n",
       "2            0     0  \n",
       "3            0     0  \n",
       "4            0     0  \n",
       "...        ...   ...  \n",
       "21995        0     0  \n",
       "21996        0     0  \n",
       "21997        0     0  \n",
       "21998        0     0  \n",
       "21999        0     0  \n",
       "\n",
       "[22000 rows x 24 columns]"
      ]
     },
     "execution_count": 4,
     "metadata": {},
     "output_type": "execute_result"
    }
   ],
   "source": [
    "languages_onehot = pd.get_dummies(df['language'])\n",
    "\n",
    "languages = languages_onehot.columns\n",
    "\n",
    "for column in list(languages):\n",
    "    df[column] = languages_onehot[column]\n",
    "    \n",
    "df"
   ]
  },
  {
   "cell_type": "markdown",
   "metadata": {},
   "source": [
    "# Visualization\n",
    "\n",
    "A peek into the samples from different languages!"
   ]
  },
  {
   "cell_type": "code",
   "execution_count": 5,
   "metadata": {
    "execution": {
     "iopub.execute_input": "2021-01-15T04:08:56.775801Z",
     "iopub.status.busy": "2021-01-15T04:08:56.775629Z",
     "iopub.status.idle": "2021-01-15T04:08:56.827072Z",
     "shell.execute_reply": "2021-01-15T04:08:56.826418Z",
     "shell.execute_reply.started": "2021-01-15T04:08:56.775783Z"
    }
   },
   "outputs": [
    {
     "name": "stdout",
     "output_type": "stream",
     "text": [
      "\n",
      "Arabic\n",
      "قبل عام بالضبط وبتاريخ  أعلن البغدادي خطة هدم الأسوار وبتاريخ  هاجمت داعش سجنين في بغداد هما سجن التاجي وسجن بغداد المركزي ونجحت في تهريب أكثر من  معتقل \n",
      "\n",
      "Chinese\n",
      "胡赛尼本人和小说的主人公阿米尔一样，都是出生在阿富汗首都喀布尔，少年时代便离开了这个国家。胡赛尼直到年小说出版之后才首次回到已经离开年的祖国。他在苏联入侵时离开了阿富汗，而他的很多童年好友在阿富汗生活艰难，还有一些表亲离开人世，其中一位在童年时代和他一起放风筝的表兄弟就是在逃离阿富汗时死在了油罐车中（这一情节在《追风筝的人》中也有描写），而这位表兄弟的父亲也被人枪杀；因此胡赛尼总是怀有幸存者所特有的一种内疚心态，这种情感在小说中也有体现。很多人因此认为这部小说有些自传色彩。胡赛尼则表示小说中确实有一部分内容是根据自己的经历创作的，他和故事主人公也有很多相似点，但是一些内容被他刻意地模糊处理了。尽管和主人公的经历有诸多的相似点，胡赛尼仍然坚称小说情节确实是虚构的。之后胡赛尼在创作他的第二部小说《灿烂千阳》时把主人公设定为女性，称“这样应该就能一劳永逸地解决人们关于‘自传’的问题了”。\n",
      "\n",
      "Dutch\n",
      "de spons behoort tot het geslacht haliclona en behoort tot de familie chalinidae de wetenschappelijke naam van de soort werd voor het eerst geldig gepubliceerd in  door kudelin\n",
      "\n",
      "English\n",
      "in  johnson was awarded an american institute of architects gold medal in  he became the first recipient of the pritzker architecture prize the most prestigious international architectural award\n",
      "\n",
      "Estonian\n",
      "klement gottwaldi surnukeha palsameeriti ning paigutati mausoleumi surnukeha oli aga liiga hilja ja oskamatult palsameeritud ning hakkas ilmutama lagunemise tundemärke  aastal viidi ta surnukeha mausoleumist ära ja kremeeriti zlíni linn kandis aastatel – nime gottwaldov ukrainas harkivi oblastis kandis zmiivi linn aastatel – nime gotvald\n",
      "\n",
      "French\n",
      "association de recherche et de sauvegarde de lhistoire de roissy-en-france arshrf roissy-en-france    mémoire dun siècle  voir dans la bibliographie\n",
      "\n",
      "Hindi\n",
      "महाराष्ट्र  मई  को भारत का राज्य बनाया गया था। इस दिन को हम महाराष्ट्र दिन के भी नाम से जानते है। शुरू में महाराष्ट्र में  जिले थे। उसके बाद  नये जिले बनाएँ गये है। वर्तमान के महाराष्ट्र में  जिले है। इन जिलों को छह प्रशासनिक विभागों में विभाजित किया गया है।\n",
      "\n",
      "Indonesian\n",
      "kemunculan pertamanya adalah ketika mencium kakak kelasnya kyoko sejak yuuki meminta agar sakura merahasiakan hal tersebutlah keduanya menjadi akrab yuuki pun akhirnya menyukai sakura sayangnya tidak disadari oleh sakura dan hanya aiko yang tahu karena takut dibenci sakura yuuki akhirnya menganggap sakura \"sahabat spesial\"\n",
      "\n",
      "Japanese\n",
      "エノが行きがかりでバスに乗ってしまい、気分が悪くなった際に助けるが、今すぐバスを降りたいと運転手に頼む際、本当のことを言ってしまうと彼女が恥ずかしい思いをすると察して「僕ウンコしたいんです」と言ってバスを降りた。エノは内心「私もしたいみたいじゃないの」と思うも、別れ際にエノの髪を「ふわふわのお菓子みたい」と言い、この台詞に憧れていたエノに強い衝撃を与えた。この話を聞いたリコは、以後彼のことを『ウンコ王子』または『ウンコ』というあだ名で呼ぶようになったが、エノは普通に「戸田くん」と呼んでいる。\n",
      "\n",
      "Korean\n",
      "한국에서 성씨가 사용되기 시작한 정확한 시기는 알 수 없으나 한자漢字 등 중국 문물이 수입되었던 시기에 그와 함께 도입되었을 것으로 추정된다 씨족 사회와 그 집단을 통치하는 지배자 계급이 발생함으로써 성씨는 다른 씨족이나 피지배 계급과 구별하기 위한 목적 즉 정치적 신분을 나타내는 표지로 쓰이게 되었다\n",
      "\n",
      "Latin\n",
      "müller mox figura centralis circulorum doctorum vindobonesium fiebat quibus intererant petrus altenberg albertus ehrenstein egon friedell anscharius kokoschka adolphus loos egon schiele et alii\n",
      "\n",
      "Persian\n",
      "آهن ترکیباتی را ایجاد می‌کند که عمدتاً در حالت‌های اکسیداسیون  و  هستند به‌طور سنتی ترکیبات آهن ii فروس نامیده می‌شوند و ترکیبات آهن iii فریک نامیده می‌شود ترکیبات زیادی در هر یک از حالات اکسیداسیون وجود دارد که مثال‌هایی از آن شامل سولفات آهن ii feso و کلرید آهن iii fecl می‌باشد\n",
      "\n",
      "Portugese\n",
      "barocco pt escândalo de ª página é um filme francês dirigido por andré téchiné estreado em  e protagonizado por gérard depardieu e isabelle adjani\n",
      "\n",
      "Pushto\n",
      "لویي په کالونیو کې د ظلم کولو خلاف وو او له خلکو سره ېې خاص همدردي لرله د هر ډول غلامي انعطاف ناپذیره دشمن وو د خلکو د رفاه لپاره ېې ډېرې هلې ځلې کولې ډېره هڅه ېې دا وه چې په افریقا کې د ځایي خلکو ټولنه جوړه کړي کله ېې چې تولنه جوړه کړه د دوي مشرانو باندې ېې د فرانسې د گټو ساتنه زدکړه او حتی داسې یو بنسټ ېې کېښود چې د دوي بچي چې وروسته به قدرت ته رسېږي د فرانسې گټو ته وفاداره پاتې کېږي لویي کوښښ وکړ چې سېنېگال داسې یوه بنسټیزه زاویه کړي له کوم ځای چې ټولې فرانسوی کالونی یا مستعمرې کنټرول کېدای شي\n",
      "\n",
      "Romanian\n",
      "de-a lungul vieții watson a fost interesat de relațiile internaționale atât din perspectivă diplomatică cât și din perspectivă economică era cunoscut drept emisar neoficial al lui franklin d roosevelt în new york și primea frecvent vizita unor demnitari străini în  a fost ales președinte al camerei internaționale de comerț icc și la congresul bienal desfășurat la berlin a afirmat că mottoul conferinței este pace mondială prin comerț mondial aceste cuvinte au devenit sloganul icc și ibm\n",
      "\n",
      "Russian\n",
      "занимает пятое место в диптихе автокефальных поместных церквей мира крупнейшая религиозная организация в россии на украине на  год по числу приходов духовенства и культовых сооружений но по некоторым опросам на начало  года не по количеству верующих в белоруссии молдавии включая приднестровье\n",
      "\n",
      "Spanish\n",
      "en navidad de  poco después de que interpretó la canción en francés película papillon toi qui regarde la mer ella cantará la espléndida versión de gloria aleluya para una misa de medianoche celebrada por rtl\n",
      "\n",
      "Swedish\n",
      "sebes joseph pereira thomas  på eng the jesuits and the sino-russian treaty of nerchinsk  the diary of thomas pereira bibliotheca instituti historici s i --   rome libris \n",
      "\n",
      "Tamil\n",
      "விசாகப்பட்டினம் தமிழ்ச்சங்கத்தை இந்துப் பத்திரிகை-விசாகப்பட்டின ஆசிரியர் சம்பத்துடன் இணைந்து விரிவுபடுத்தினார்  ஆண்டுகள் தொடர்ந்து செயலராக இருந்து தமிழ்மன்றத்தை நடத்திச் சென்றார்  கோவை செம்மொழி மாநாட்டில் \"தமிழ்ச்சங்கங்களும் தமிழும்\" எனும் தலைப்பில் பிற மாநிலங்களில் தமிழ்வளர்ச்சி பற்றி கட்டுரை வாசித்தார்\n",
      "\n",
      "Thai\n",
      "ถนนเจริญกรุง อักษรโรมัน thanon charoen krung เริ่มตั้งแต่ถนนสนามไชยถึงแม่น้ำเจ้าพระยาที่ถนนตก กรุงเทพมหานคร เป็นถนนรุ่นแรกที่ใช้เทคนิคการสร้างแบบตะวันตก ปัจจุบันผ่านพื้นที่เขตพระนคร เขตป้อมปราบศัตรูพ่าย เขตสัมพันธวงศ์ เขตบางรัก เขตสาทร และเขตบางคอแหลม\n",
      "\n",
      "Turkish\n",
      "tsutinalar i̇ngilizce tsuutina kanadada alberta bölgesinde calgaryde yaşarlar tek başına grup oluştururlar ve pasifik ve güney atabaskları ile antik yakınlıklar göstermiştir\n",
      "\n",
      "Urdu\n",
      "برقی بار electric charge تمام زیرجوہری ذرات کی ا یک بنیادی محفوظہ conserved خصوصیت ہے جو انکے برقناطیسی تفاعلات کا تعین کرتی ہے۔ اس بات یوں بھی کہ سکتے ہیں کہ برقی بار کا حامل ذرہ یا مادہ  ایک برقناطیسی میدان کی وجہ سے متاثر ہوتا ہے یا اسکے زیر اثر ہوتا ہے جبکہ خود اسی کی وجہ سے برقناطیسی میدان پیدا بھی ہوتا ہے۔ برقناطیسی میدان اور اس میں حرکت کرتے ہوئے ایک بار دار ذرے کے آپس میں تفاعل interaction سے ایک قسم کی قوت یا توانائی نمودار ہوتی ہے جس کو برقناطیسی قوت کہا جاتا ہے۔ اور یہ برقناطیسی قوت  دراصل اس کائنات میں پائی جانے والی چار بنیادی قوتوں میں سے ایک ہے۔\n"
     ]
    }
   ],
   "source": [
    "for language in languages:\n",
    "    df_temp = df[df['language'] == language]\n",
    "    print(\"\\n\", language, \"\\n\", df_temp['Text'].to_list()[0], sep = \"\")"
   ]
  },
  {
   "cell_type": "markdown",
   "metadata": {},
   "source": [
    "If we look closer into the samples, we can see that there are few English words in the Urdu sample and transliterated words in Thai too! This may lead to ambiguities during prediction."
   ]
  },
  {
   "cell_type": "markdown",
   "metadata": {},
   "source": [
    "# Preproccessing\n",
    "\n",
    "#### (Continued...)\n",
    "\n",
    "## Train-val-test split"
   ]
  },
  {
   "cell_type": "code",
   "execution_count": 6,
   "metadata": {
    "execution": {
     "iopub.execute_input": "2021-01-15T04:08:56.828809Z",
     "iopub.status.busy": "2021-01-15T04:08:56.828649Z",
     "iopub.status.idle": "2021-01-15T04:08:56.837809Z",
     "shell.execute_reply": "2021-01-15T04:08:56.837333Z",
     "shell.execute_reply.started": "2021-01-15T04:08:56.828791Z"
    }
   },
   "outputs": [
    {
     "name": "stdout",
     "output_type": "stream",
     "text": [
      "Number of samples in...\n",
      "Training set:  17600\n",
      "Validation set:  2200\n",
      "Testing set:  2200\n"
     ]
    }
   ],
   "source": [
    "# Splitting into train, val and test set -- 80-10-10 split\n",
    "\n",
    "# First, an 80-20 split\n",
    "train_df, val_test_df = train_test_split(df, test_size = 0.2, random_state = 3)\n",
    "\n",
    "# Then split the 20% into half\n",
    "val_df, test_df = train_test_split(val_test_df, test_size = 0.5, random_state = 3)\n",
    "\n",
    "print(\"Number of samples in...\")\n",
    "print(\"Training set: \", len(train_df))\n",
    "print(\"Validation set: \", len(val_df))\n",
    "print(\"Testing set: \", len(test_df)) "
   ]
  },
  {
   "cell_type": "markdown",
   "metadata": {},
   "source": [
    "## Bag of Words"
   ]
  },
  {
   "cell_type": "code",
   "execution_count": 7,
   "metadata": {
    "execution": {
     "iopub.execute_input": "2021-01-15T04:08:56.839090Z",
     "iopub.status.busy": "2021-01-15T04:08:56.838938Z",
     "iopub.status.idle": "2021-01-15T04:08:58.538292Z",
     "shell.execute_reply": "2021-01-15T04:08:58.537741Z",
     "shell.execute_reply.started": "2021-01-15T04:08:56.839073Z"
    }
   },
   "outputs": [],
   "source": [
    "cv = CountVectorizer(ngram_range = (1,1), max_features=20000)\n",
    "\n",
    "train_bow = cv.fit_transform(train_df['Text'])\n",
    "val_bow = cv.transform(val_df['Text'])\n",
    "test_bow = cv.transform(test_df['Text'])"
   ]
  },
  {
   "cell_type": "code",
   "execution_count": 8,
   "metadata": {
    "execution": {
     "iopub.execute_input": "2021-01-15T04:08:58.539273Z",
     "iopub.status.busy": "2021-01-15T04:08:58.539110Z",
     "iopub.status.idle": "2021-01-15T04:08:58.920639Z",
     "shell.execute_reply": "2021-01-15T04:08:58.920095Z",
     "shell.execute_reply.started": "2021-01-15T04:08:58.539254Z"
    }
   },
   "outputs": [],
   "source": [
    "Xtrain = train_bow.toarray()\n",
    "ytrain = train_df[languages]\n",
    "\n",
    "Xval = val_bow.toarray()\n",
    "yval = val_df[languages]\n",
    "\n",
    "ytest = test_df[languages]\n",
    "Xtest = test_bow.toarray()"
   ]
  },
  {
   "cell_type": "markdown",
   "metadata": {},
   "source": [
    "## Standardization"
   ]
  },
  {
   "cell_type": "code",
   "execution_count": 9,
   "metadata": {
    "execution": {
     "iopub.execute_input": "2021-01-15T04:08:58.921637Z",
     "iopub.status.busy": "2021-01-15T04:08:58.921458Z",
     "iopub.status.idle": "2021-01-15T04:09:09.062956Z",
     "shell.execute_reply": "2021-01-15T04:09:09.062373Z",
     "shell.execute_reply.started": "2021-01-15T04:08:58.921619Z"
    }
   },
   "outputs": [],
   "source": [
    "std_scaler = StandardScaler()\n",
    "\n",
    "Xtrain = std_scaler.fit_transform(Xtrain)\n",
    "Xval = std_scaler.transform(Xval)\n",
    "Xtest = std_scaler.transform(Xtest)"
   ]
  },
  {
   "cell_type": "markdown",
   "metadata": {},
   "source": [
    "# The model"
   ]
  },
  {
   "cell_type": "code",
   "execution_count": 10,
   "metadata": {
    "execution": {
     "iopub.execute_input": "2021-01-15T04:09:09.063906Z",
     "iopub.status.busy": "2021-01-15T04:09:09.063747Z",
     "iopub.status.idle": "2021-01-15T04:09:09.770496Z",
     "shell.execute_reply": "2021-01-15T04:09:09.769910Z",
     "shell.execute_reply.started": "2021-01-15T04:09:09.063888Z"
    }
   },
   "outputs": [],
   "source": [
    "model = models.Sequential([\n",
    "    layers.Dense(128, activation = 'relu', input_shape = Xtrain[0].shape),\n",
    "    layers.Dense(64, activation = 'relu'),\n",
    "    layers.Dense(32, activation = 'relu'),\n",
    "    layers.Dense(len(languages), activation = 'softmax')\n",
    "])\n",
    "\n",
    "cb = [callbacks.EarlyStopping(patience = 5, restore_best_weights = True)]"
   ]
  },
  {
   "cell_type": "code",
   "execution_count": 11,
   "metadata": {
    "execution": {
     "iopub.execute_input": "2021-01-15T04:09:09.771744Z",
     "iopub.status.busy": "2021-01-15T04:09:09.771479Z",
     "iopub.status.idle": "2021-01-15T04:09:27.048243Z",
     "shell.execute_reply": "2021-01-15T04:09:27.047668Z",
     "shell.execute_reply.started": "2021-01-15T04:09:09.771716Z"
    }
   },
   "outputs": [
    {
     "name": "stdout",
     "output_type": "stream",
     "text": [
      "Epoch 1/64\n",
      "550/550 [==============================] - 2s 3ms/step - loss: 0.5025 - accuracy: 0.8715 - val_loss: 0.1542 - val_accuracy: 0.9468\n",
      "Epoch 2/64\n",
      "550/550 [==============================] - 1s 3ms/step - loss: 0.0727 - accuracy: 0.9699 - val_loss: 0.1402 - val_accuracy: 0.9523\n",
      "Epoch 3/64\n",
      "550/550 [==============================] - 1s 3ms/step - loss: 0.0528 - accuracy: 0.9747 - val_loss: 0.1489 - val_accuracy: 0.9550\n",
      "Epoch 4/64\n",
      "550/550 [==============================] - 1s 3ms/step - loss: 0.0454 - accuracy: 0.9766 - val_loss: 0.1407 - val_accuracy: 0.9509\n",
      "Epoch 5/64\n",
      "550/550 [==============================] - 1s 3ms/step - loss: 0.0448 - accuracy: 0.9769 - val_loss: 0.1387 - val_accuracy: 0.9505\n",
      "Epoch 6/64\n",
      "550/550 [==============================] - 1s 3ms/step - loss: 0.0448 - accuracy: 0.9770 - val_loss: 0.1650 - val_accuracy: 0.9500\n",
      "Epoch 7/64\n",
      "550/550 [==============================] - 1s 3ms/step - loss: 0.0431 - accuracy: 0.9764 - val_loss: 0.1983 - val_accuracy: 0.9391\n",
      "Epoch 8/64\n",
      "550/550 [==============================] - 1s 3ms/step - loss: 0.0431 - accuracy: 0.9777 - val_loss: 0.1867 - val_accuracy: 0.9423\n",
      "Epoch 9/64\n",
      "550/550 [==============================] - 1s 3ms/step - loss: 0.0434 - accuracy: 0.9773 - val_loss: 0.1698 - val_accuracy: 0.9505\n",
      "Epoch 10/64\n",
      "550/550 [==============================] - 1s 3ms/step - loss: 0.0497 - accuracy: 0.9745 - val_loss: 0.2142 - val_accuracy: 0.9395\n"
     ]
    }
   ],
   "source": [
    "model.compile(optimizer = optimizers.Adam(0.001), loss = losses.CategoricalCrossentropy(), metrics = ['accuracy'])\n",
    "\n",
    "history = model.fit(Xtrain, ytrain, validation_data = (Xval, yval), epochs = 64, callbacks = cb)"
   ]
  },
  {
   "cell_type": "code",
   "execution_count": 12,
   "metadata": {
    "execution": {
     "iopub.execute_input": "2021-01-15T04:09:27.049487Z",
     "iopub.status.busy": "2021-01-15T04:09:27.049250Z",
     "iopub.status.idle": "2021-01-15T04:09:45.356969Z",
     "shell.execute_reply": "2021-01-15T04:09:45.356409Z",
     "shell.execute_reply.started": "2021-01-15T04:09:27.049458Z"
    }
   },
   "outputs": [
    {
     "name": "stdout",
     "output_type": "stream",
     "text": [
      "Epoch 1/64\n",
      "550/550 [==============================] - 2s 3ms/step - loss: 0.0403 - accuracy: 0.9768 - val_loss: 0.1558 - val_accuracy: 0.9495\n",
      "Epoch 2/64\n",
      "550/550 [==============================] - 1s 3ms/step - loss: 0.0395 - accuracy: 0.9776 - val_loss: 0.1570 - val_accuracy: 0.9491\n",
      "Epoch 3/64\n",
      "550/550 [==============================] - 1s 3ms/step - loss: 0.0389 - accuracy: 0.9788 - val_loss: 0.1752 - val_accuracy: 0.9486\n",
      "Epoch 4/64\n",
      "550/550 [==============================] - 1s 3ms/step - loss: 0.0392 - accuracy: 0.9774 - val_loss: 0.1614 - val_accuracy: 0.9509\n",
      "Epoch 5/64\n",
      "550/550 [==============================] - 1s 3ms/step - loss: 0.0390 - accuracy: 0.9769 - val_loss: 0.1676 - val_accuracy: 0.9505\n",
      "Epoch 6/64\n",
      "550/550 [==============================] - 1s 3ms/step - loss: 0.0393 - accuracy: 0.9773 - val_loss: 0.1532 - val_accuracy: 0.9555\n",
      "Epoch 7/64\n",
      "550/550 [==============================] - 1s 3ms/step - loss: 0.0390 - accuracy: 0.9781 - val_loss: 0.1649 - val_accuracy: 0.9527\n",
      "Epoch 8/64\n",
      "550/550 [==============================] - 1s 3ms/step - loss: 0.0386 - accuracy: 0.9766 - val_loss: 0.1694 - val_accuracy: 0.9505\n",
      "Epoch 9/64\n",
      "550/550 [==============================] - 1s 3ms/step - loss: 0.0388 - accuracy: 0.9781 - val_loss: 0.1789 - val_accuracy: 0.9505\n",
      "Epoch 10/64\n",
      "550/550 [==============================] - 1s 3ms/step - loss: 0.0382 - accuracy: 0.9784 - val_loss: 0.1639 - val_accuracy: 0.9532\n",
      "Epoch 11/64\n",
      "550/550 [==============================] - 1s 3ms/step - loss: 0.0391 - accuracy: 0.9767 - val_loss: 0.1792 - val_accuracy: 0.9523\n"
     ]
    }
   ],
   "source": [
    "model.compile(optimizer = optimizers.Adam(0.0001), loss = losses.CategoricalCrossentropy(), metrics = ['accuracy'])\n",
    "\n",
    "history1 = model.fit(Xtrain, ytrain, validation_data = (Xval, yval), epochs = 64, callbacks = cb)"
   ]
  },
  {
   "cell_type": "code",
   "execution_count": 13,
   "metadata": {
    "execution": {
     "iopub.execute_input": "2021-01-15T04:09:45.358254Z",
     "iopub.status.busy": "2021-01-15T04:09:45.358010Z",
     "iopub.status.idle": "2021-01-15T04:09:45.752050Z",
     "shell.execute_reply": "2021-01-15T04:09:45.751492Z",
     "shell.execute_reply.started": "2021-01-15T04:09:45.358224Z"
    }
   },
   "outputs": [
    {
     "name": "stdout",
     "output_type": "stream",
     "text": [
      "69/69 [==============================] - 0s 2ms/step - loss: 0.2521 - accuracy: 0.9427\n"
     ]
    },
    {
     "data": {
      "text/plain": [
       "[0.2520904839038849, 0.942727267742157]"
      ]
     },
     "execution_count": 13,
     "metadata": {},
     "output_type": "execute_result"
    }
   ],
   "source": [
    "model.evaluate(Xtest, ytest)"
   ]
  },
  {
   "cell_type": "code",
   "execution_count": 14,
   "metadata": {
    "execution": {
     "iopub.execute_input": "2021-01-15T04:09:45.753078Z",
     "iopub.status.busy": "2021-01-15T04:09:45.752909Z",
     "iopub.status.idle": "2021-01-15T04:09:48.089438Z",
     "shell.execute_reply": "2021-01-15T04:09:48.088900Z",
     "shell.execute_reply.started": "2021-01-15T04:09:45.753059Z"
    }
   },
   "outputs": [
    {
     "data": {
      "image/png": "[encoded data removed]",
      "text/plain": [
       "<Figure size 720x720 with 1 Axes>"
      ]
     },
     "metadata": {
      "needs_background": "light"
     },
     "output_type": "display_data"
    }
   ],
   "source": [
    "cm = confusion_matrix(np.argmax(ytest.to_numpy(), axis = 1), np.argmax(model.predict(Xtest), axis = 1))\n",
    "cm = cm.astype('int') / cm.sum(axis=1)[:, np.newaxis]\n",
    "\n",
    "fig = plt.figure(figsize = (10, 10))\n",
    "ax = fig.add_subplot(111)\n",
    "\n",
    "for i in range(cm.shape[1]):\n",
    "    for j in range(cm.shape[0]):\n",
    "        if cm[i,j] > 0.8:\n",
    "            clr = \"white\"\n",
    "        else:\n",
    "            clr = \"black\"\n",
    "        ax.text(j, i, format(cm[i, j], '.2f'), horizontalalignment=\"center\", color=clr)\n",
    "\n",
    "_ = ax.imshow(cm, cmap=plt.cm.Blues)\n",
    "ax.set_xticks(range(len(languages)))\n",
    "ax.set_yticks(range(len(languages)))\n",
    "ax.set_xticklabels(languages, rotation = 90)\n",
    "ax.set_yticklabels(languages)\n",
    "plt.xlabel('Predicted')\n",
    "plt.ylabel('True')\n",
    "plt.show()"
   ]
  },
  {
   "cell_type": "markdown",
   "metadata": {},
   "source": [
    "# Plotting the metrics"
   ]
  },
  {
   "cell_type": "code",
   "execution_count": 15,
   "metadata": {
    "execution": {
     "iopub.execute_input": "2021-01-15T04:09:48.090578Z",
     "iopub.status.busy": "2021-01-15T04:09:48.090367Z",
     "iopub.status.idle": "2021-01-15T04:09:48.094430Z",
     "shell.execute_reply": "2021-01-15T04:09:48.093829Z",
     "shell.execute_reply.started": "2021-01-15T04:09:48.090556Z"
    }
   },
   "outputs": [],
   "source": [
    "def plot(history1, history2, variable1, variable2):\n",
    "    # combining metrics from both trainings    \n",
    "    var1_history = history1[variable1]\n",
    "    var1_history.extend(history2[variable1])\n",
    "    \n",
    "    var2_history = history1[variable2]\n",
    "    var2_history.extend(history2[variable2])\n",
    "    \n",
    "    # plotting them\n",
    "    plt.plot(range(len(var1_history)), var1_history)\n",
    "    plt.plot(range(len(var2_history)), var2_history)\n",
    "    plt.legend([variable1, variable2])\n",
    "    plt.title(variable1)"
   ]
  },
  {
   "cell_type": "code",
   "execution_count": 16,
   "metadata": {
    "execution": {
     "iopub.execute_input": "2021-01-15T04:09:48.095391Z",
     "iopub.status.busy": "2021-01-15T04:09:48.095232Z",
     "iopub.status.idle": "2021-01-15T04:09:48.221799Z",
     "shell.execute_reply": "2021-01-15T04:09:48.221114Z",
     "shell.execute_reply.started": "2021-01-15T04:09:48.095373Z"
    }
   },
   "outputs": [
    {
     "data": {
      "image/png": "[encoded data removed]",
      "text/plain": [
       "<Figure size 432x288 with 1 Axes>"
      ]
     },
     "metadata": {
      "needs_background": "light"
     },
     "output_type": "display_data"
    }
   ],
   "source": [
    "plot(history.history, history1.history, \"accuracy\", 'val_accuracy')"
   ]
  },
  {
   "cell_type": "code",
   "execution_count": 17,
   "metadata": {
    "execution": {
     "iopub.execute_input": "2021-01-15T04:09:48.222836Z",
     "iopub.status.busy": "2021-01-15T04:09:48.222590Z",
     "iopub.status.idle": "2021-01-15T04:09:48.341455Z",
     "shell.execute_reply": "2021-01-15T04:09:48.340785Z",
     "shell.execute_reply.started": "2021-01-15T04:09:48.222815Z"
    }
   },
   "outputs": [
    {
     "data": {
      "image/png": "[encoded data removed]",
      "text/plain": [
       "<Figure size 432x288 with 1 Axes>"
      ]
     },
     "metadata": {
      "needs_background": "light"
     },
     "output_type": "display_data"
    }
   ],
   "source": [
    "plot(history.history, history1.history, \"loss\", 'val_loss')"
   ]
  },
  {
   "cell_type": "markdown",
   "metadata": {},
   "source": [
    "# Prediction"
   ]
  },
  {
   "cell_type": "code",
   "execution_count": 18,
   "metadata": {
    "execution": {
     "iopub.execute_input": "2021-01-15T04:09:48.342537Z",
     "iopub.status.busy": "2021-01-15T04:09:48.342369Z",
     "iopub.status.idle": "2021-01-15T04:09:48.403327Z",
     "shell.execute_reply": "2021-01-15T04:09:48.402757Z",
     "shell.execute_reply.started": "2021-01-15T04:09:48.342518Z"
    }
   },
   "outputs": [
    {
     "name": "stdout",
     "output_type": "stream",
     "text": [
      "Sample:\n",
      "i̇talya yarımadasında antik romadan önce gelişmiş bir diğer kültür ise magna grecia kültürüdür yarımadanın güney ucunda yunanlar tarafından geliştirilmiş bu kültürün izleri bölgede hala konuşulmakta olan antik bir yunan lehçesi dolayısıyla günümüze kadar ulaşmıştır açlık iklim koşulları felaketler gibi nedenlerle yunanistanı terkederek i̇talyanın güneyine yerleşen bu kavimler i̇talya kültürüne önemli katkılarda bulunmuşlardır roma i̇mparatorluğunun yıkılmasından sonraki yıllarda dahi bizans i̇mparatorluğundan çeşitli nedenlerle ayrılan yunanlar bu bölgeye yerleşerek i̇talyanın güney bölgesindeki yunan uygarlığını canlı tutmuşlardır günümüzde bölge tamamen i̇talyanlaşmış olmakla birlikte küçük bir azınlık griko dili denen bir yunan lehçesini hala konuşmaya devam etmiştir\n",
      "\n",
      "Predicted:  Turkish\n",
      "Probability:  0.5120658\n",
      "\n",
      "True:  Turkish\n"
     ]
    }
   ],
   "source": [
    "# pick random test data sample from one batch\n",
    "x = random.randint(0, len(Xtest) - 1)\n",
    "\n",
    "print(\"Sample:\\n\", test_df['Text'].to_numpy()[x], sep = \"\")\n",
    "\n",
    "input = cv.transform([test_df['Text'].to_numpy()[x]]).toarray()\n",
    "\n",
    "output = model.predict(input)\n",
    "pred = np.argmax(output[0])    # finding max\n",
    "print(\"\\nPredicted: \", languages[pred])    # Picking the label from class_names based on the model output\n",
    "print(\"Probability: \", output[0][pred])\n",
    "\n",
    "output_true = test_df['language'].to_numpy()[x]\n",
    "\n",
    "print(\"\\nTrue: \", output_true)"
   ]
  },
  {
   "cell_type": "markdown",
   "metadata": {},
   "source": [
    "# deepC"
   ]
  },
  {
   "cell_type": "code",
   "execution_count": 19,
   "metadata": {
    "execution": {
     "iopub.execute_input": "2021-01-15T04:09:48.404511Z",
     "iopub.status.busy": "2021-01-15T04:09:48.404266Z",
     "iopub.status.idle": "2021-01-15T04:10:12.553783Z",
     "shell.execute_reply": "2021-01-15T04:10:12.553154Z",
     "shell.execute_reply.started": "2021-01-15T04:09:48.404481Z"
    }
   },
   "outputs": [
    {
     "name": "stdout",
     "output_type": "stream",
     "text": [
      "\u001b[96m\u001b[1m[INFO]\u001b[0m\n",
      "Reading [keras model] 'language.h5'\n",
      "\u001b[92m\u001b[1m[SUCCESS]\u001b[0m\n",
      "Saved 'language.onnx'\n",
      "\u001b[96m\u001b[1m[INFO]\u001b[0m\n",
      "Reading [onnx model] 'language.onnx'\n",
      "\u001b[96m\u001b[1m[INFO]\u001b[0m\n",
      "Model info:\n",
      "  ir_vesion : 4\n",
      "  doc       : \n",
      "\u001b[93m\u001b[1m[WARNING]\u001b[0m\n",
      "[ONNX]: terminal (input/output) dense_input's shape is less than 1. Changing it to 1.\n",
      "\u001b[93m\u001b[1m[WARNING]\u001b[0m\n",
      "[ONNX]: terminal (input/output) dense_3's shape is less than 1. Changing it to 1.\n",
      "WARN (GRAPH): found operator node with the same name (dense_3) as io node.\n",
      "\u001b[96m\u001b[1m[INFO]\u001b[0m\n",
      "Running DNNC graph sanity check ...\n",
      "\u001b[92m\u001b[1m[SUCCESS]\u001b[0m\n",
      "Passed sanity check.\n",
      "\u001b[96m\u001b[1m[INFO]\u001b[0m\n",
      "Writing C++ file 'language_deepC/language.cpp'\n",
      "\u001b[96m\u001b[1m[INFO]\u001b[0m\n",
      "deepSea model files are ready in 'language_deepC/' \n",
      "\u001b[96m\u001b[1m[RUNNING COMMAND]\u001b[0m\n",
      "g++ -std=c++11 -O3 -fno-rtti -fno-exceptions -I. -I/opt/tljh/user/lib/python3.7/site-packages/deepC-0.13-py3.7-linux-x86_64.egg/deepC/include -isystem /opt/tljh/user/lib/python3.7/site-packages/deepC-0.13-py3.7-linux-x86_64.egg/deepC/packages/eigen-eigen-323c052e1731 language_deepC/language.cpp -o language_deepC/language.exe\n",
      "\u001b[96m\u001b[1m[RUNNING COMMAND]\u001b[0m\n",
      "size \"language_deepC/language.exe\"\n",
      "   text\t   data\t    bss\t    dec\t    hex\tfilename\n",
      " 123700\t10287792\t    760\t10412252\t 9ee0dc\tlanguage_deepC/language.exe\n",
      "\u001b[92m\u001b[1m[SUCCESS]\u001b[0m\n",
      "Saved model as executable \"language_deepC/language.exe\"\n"
     ]
    }
   ],
   "source": [
    "model.save('language.h5')\n",
    "\n",
    "!deepCC language.h5"
   ]
  },
  {
   "cell_type": "code",
   "execution_count": 20,
   "metadata": {
    "execution": {
     "iopub.execute_input": "2021-01-15T04:10:12.555102Z",
     "iopub.status.busy": "2021-01-15T04:10:12.554918Z",
     "iopub.status.idle": "2021-01-15T04:10:12.817628Z",
     "shell.execute_reply": "2021-01-15T04:10:12.816962Z",
     "shell.execute_reply.started": "2021-01-15T04:10:12.555079Z"
    }
   },
   "outputs": [
    {
     "name": "stdout",
     "output_type": "stream",
     "text": [
      "Sample:\n",
      "liber manu scriptus in bibliotheca britannica servatus sub pittacio royal cxii continet libellus de re coquinaria titulum carens saeculo xiv ineunte scriptus\n",
      "\n",
      "reading file sample.data.\n",
      "writing file deepSea_result_1.out.\n",
      "\n",
      "Predicted:  Latin\n",
      "Probability:  0.07819801\n",
      "\n",
      "True:  Latin\n"
     ]
    }
   ],
   "source": [
    "# pick random test data sample from one batch\n",
    "x = random.randint(0, len(Xtest) - 1)\n",
    "\n",
    "print(\"Sample:\\n\", test_df['Text'].to_numpy()[x], \"\\n\", sep = \"\")\n",
    "\n",
    "input = cv.transform([test_df['Text'].to_numpy()[x]]).toarray()\n",
    "\n",
    "np.savetxt('sample.data', input)    # xth sample into text file\n",
    "\n",
    "# run exe with input\n",
    "!language_deepC/language.exe sample.data\n",
    "\n",
    "# show predicted output\n",
    "nn_out = np.loadtxt('deepSea_result_1.out')\n",
    "\n",
    "output = model.predict(input)\n",
    "pred = np.argmax(output[0])    # finding max\n",
    "print(\"\\nPredicted: \", languages[pred])    # Picking the label from class_names based on the model output\n",
    "print(\"Probability: \", output[0][pred])\n",
    "output_true = test_df['language'].to_numpy()[x]\n",
    "\n",
    "print(\"\\nTrue: \", output_true)\n"
   ]
  }
 ],
 "metadata": {
  "kernelspec": {
   "display_name": "Python 3",
   "language": "python",
   "name": "python3"
  },
  "language_info": {
   "codemirror_mode": {
    "name": "ipython",
    "version": 3
   },
   "file_extension": ".py",
   "mimetype": "text/x-python",
   "name": "python",
   "nbconvert_exporter": "python",
   "pygments_lexer": "ipython3",
   "version": "3.7.3"
  }
 },
 "nbformat": 4,
 "nbformat_minor": 4
}
